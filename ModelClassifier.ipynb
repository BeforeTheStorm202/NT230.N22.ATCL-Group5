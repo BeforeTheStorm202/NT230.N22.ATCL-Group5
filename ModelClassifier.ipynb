{
  "nbformat": 4,
  "nbformat_minor": 0,
  "metadata": {
    "colab": {
      "provenance": [],
      "mount_file_id": "1K2uJIsMT3htFB5vBFGCMmSz9dtbdflVG",
      "authorship_tag": "ABX9TyPRrhMz+BqzluP8ovjK/yCU",
      "include_colab_link": true
    },
    "kernelspec": {
      "name": "python3",
      "display_name": "Python 3"
    },
    "language_info": {
      "name": "python"
    }
  },
  "cells": [
    {
      "cell_type": "markdown",
      "metadata": {
        "id": "view-in-github",
        "colab_type": "text"
      },
      "source": [
        "<a href=\"https://colab.research.google.com/github/BeforeTheStorm202/NT230.N22.ATCL-Group5/blob/main/ModelClassifier.ipynb\" target=\"_parent\"><img src=\"https://colab.research.google.com/assets/colab-badge.svg\" alt=\"Open In Colab\"/></a>"
      ]
    },
    {
      "cell_type": "markdown",
      "source": [
        "##Define classifier model "
      ],
      "metadata": {
        "id": "Ao4gSzcmW0Fi"
      }
    },
    {
      "cell_type": "code",
      "execution_count": null,
      "metadata": {
        "id": "kckXSo0Z9AP5"
      },
      "outputs": [],
      "source": [
        "import os\n",
        "import pickle\n",
        "import pandas as pd\n",
        "from sklearn.ensemble import RandomForestClassifier\n",
        "from sklearn.svm import SVC"
      ]
    },
    {
      "cell_type": "code",
      "source": [
        "#add label to csv file 0 = normal ; 1 = malicious\n",
        "import csv\n",
        "\n",
        "# Open the input CSV file for reading\n",
        "with open('/content/drive/MyDrive/Malware/malware_test_feature_vectors.csv', 'r') as infile:\n",
        "    # Create a CSV reader object\n",
        "    reader = csv.reader(infile)\n",
        "    \n",
        "    # Read all existing rows & append the constant value 0\n",
        "    updated_rows = []\n",
        "    for row in reader:\n",
        "        row.append('1')\n",
        "        updated_rows.append(row)\n",
        "\n",
        "# Open the output CSV file for writing\n",
        "with open('/content/drive/MyDrive/Malware/malware_test_feature_vectors.csv', 'w', newline='') as outfile:\n",
        "    # Create a CSV writer object\n",
        "    writer = csv.writer(outfile)\n",
        "    \n",
        "    # Write the updated rows (with added 0 column) to the output file\n",
        "    for row in updated_rows:\n",
        "        writer.writerow(row)"
      ],
      "metadata": {
        "id": "LEjoXkiPZ1Pz"
      },
      "execution_count": null,
      "outputs": []
    },
    {
      "cell_type": "code",
      "source": [
        "# load dataset\n",
        "X = pd.read_csv('/content/drive/MyDrive/Malware/datatrain_official.csv',header=None)\n",
        "print(X.shape)\n",
        "y = X.iloc[:, -1] #label\n",
        "X = X.iloc[:, :-1]#remove the label column\n",
        "print(y)"
      ],
      "metadata": {
        "colab": {
          "base_uri": "https://localhost:8080/"
        },
        "id": "r3a1MD-fZd02",
        "outputId": "7236be4f-a567-42d3-a7bf-167e479afcaf"
      },
      "execution_count": null,
      "outputs": [
        {
          "output_type": "stream",
          "name": "stdout",
          "text": [
            "(12000, 401)\n",
            "0        0\n",
            "1        0\n",
            "2        0\n",
            "3        0\n",
            "4        0\n",
            "        ..\n",
            "11995    1\n",
            "11996    1\n",
            "11997    1\n",
            "11998    1\n",
            "11999    1\n",
            "Name: 400, Length: 12000, dtype: int64\n"
          ]
        }
      ]
    },
    {
      "cell_type": "code",
      "source": [
        "X.head()\n"
      ],
      "metadata": {
        "colab": {
          "base_uri": "https://localhost:8080/",
          "height": 299
        },
        "id": "OV1DjUL2YYSV",
        "outputId": "61643861-9271-47dd-daa3-f145a271d821"
      },
      "execution_count": null,
      "outputs": [
        {
          "output_type": "execute_result",
          "data": {
            "text/plain": [
              "        0         1         2         3         4         5         6    \\\n",
              "0 -0.724374  0.723130  1.742111 -0.341297 -0.162678 -2.806555  2.047710   \n",
              "1 -1.350686  1.933452  0.693955 -1.170800 -0.252616 -2.377649  0.337246   \n",
              "2 -0.091339  1.384228  0.553626 -1.283343  0.185788 -1.350078  2.509072   \n",
              "3  0.335801  1.218206  2.223142 -0.454021 -1.171166 -0.148812 -0.868848   \n",
              "4 -0.074732  0.640572  1.345869 -0.579004 -0.786756  0.183880  0.799201   \n",
              "\n",
              "        7         8         9    ...       390       391       392       393  \\\n",
              "0  3.283168 -0.697285 -1.038879  ...  1.005829 -1.850715  0.285391 -1.608882   \n",
              "1  1.503177 -1.287510 -1.743109  ...  1.432678  0.293394  1.532014 -0.777892   \n",
              "2  1.960202 -0.820504 -0.632669  ... -0.624888  0.747580  0.637372 -0.381482   \n",
              "3  2.005006 -0.824708  0.140942  ...  1.336496 -0.833137 -0.850778 -1.550518   \n",
              "4  1.103407 -1.288393 -0.896608  ... -0.892411 -0.805804  0.065370  0.889342   \n",
              "\n",
              "        394       395       396       397       398       399  \n",
              "0  2.086394 -1.093293  0.455736 -2.401511 -1.931166  0.443629  \n",
              "1  0.277946  0.080310 -0.283706 -0.364489 -2.341404  0.165316  \n",
              "2  1.234511 -0.334936 -2.347271  0.329604 -1.540294  0.685003  \n",
              "3  0.528352  0.856441 -0.202574 -0.303891  0.525991  0.174881  \n",
              "4  0.695457  0.733308 -1.310849  0.564230 -1.084652  0.818661  \n",
              "\n",
              "[5 rows x 400 columns]"
            ],
            "text/html": [
              "\n",
              "  <div id=\"df-3ebeb0de-460a-4e76-bf15-74c4ee0719a7\">\n",
              "    <div class=\"colab-df-container\">\n",
              "      <div>\n",
              "<style scoped>\n",
              "    .dataframe tbody tr th:only-of-type {\n",
              "        vertical-align: middle;\n",
              "    }\n",
              "\n",
              "    .dataframe tbody tr th {\n",
              "        vertical-align: top;\n",
              "    }\n",
              "\n",
              "    .dataframe thead th {\n",
              "        text-align: right;\n",
              "    }\n",
              "</style>\n",
              "<table border=\"1\" class=\"dataframe\">\n",
              "  <thead>\n",
              "    <tr style=\"text-align: right;\">\n",
              "      <th></th>\n",
              "      <th>0</th>\n",
              "      <th>1</th>\n",
              "      <th>2</th>\n",
              "      <th>3</th>\n",
              "      <th>4</th>\n",
              "      <th>5</th>\n",
              "      <th>6</th>\n",
              "      <th>7</th>\n",
              "      <th>8</th>\n",
              "      <th>9</th>\n",
              "      <th>...</th>\n",
              "      <th>390</th>\n",
              "      <th>391</th>\n",
              "      <th>392</th>\n",
              "      <th>393</th>\n",
              "      <th>394</th>\n",
              "      <th>395</th>\n",
              "      <th>396</th>\n",
              "      <th>397</th>\n",
              "      <th>398</th>\n",
              "      <th>399</th>\n",
              "    </tr>\n",
              "  </thead>\n",
              "  <tbody>\n",
              "    <tr>\n",
              "      <th>0</th>\n",
              "      <td>-0.724374</td>\n",
              "      <td>0.723130</td>\n",
              "      <td>1.742111</td>\n",
              "      <td>-0.341297</td>\n",
              "      <td>-0.162678</td>\n",
              "      <td>-2.806555</td>\n",
              "      <td>2.047710</td>\n",
              "      <td>3.283168</td>\n",
              "      <td>-0.697285</td>\n",
              "      <td>-1.038879</td>\n",
              "      <td>...</td>\n",
              "      <td>1.005829</td>\n",
              "      <td>-1.850715</td>\n",
              "      <td>0.285391</td>\n",
              "      <td>-1.608882</td>\n",
              "      <td>2.086394</td>\n",
              "      <td>-1.093293</td>\n",
              "      <td>0.455736</td>\n",
              "      <td>-2.401511</td>\n",
              "      <td>-1.931166</td>\n",
              "      <td>0.443629</td>\n",
              "    </tr>\n",
              "    <tr>\n",
              "      <th>1</th>\n",
              "      <td>-1.350686</td>\n",
              "      <td>1.933452</td>\n",
              "      <td>0.693955</td>\n",
              "      <td>-1.170800</td>\n",
              "      <td>-0.252616</td>\n",
              "      <td>-2.377649</td>\n",
              "      <td>0.337246</td>\n",
              "      <td>1.503177</td>\n",
              "      <td>-1.287510</td>\n",
              "      <td>-1.743109</td>\n",
              "      <td>...</td>\n",
              "      <td>1.432678</td>\n",
              "      <td>0.293394</td>\n",
              "      <td>1.532014</td>\n",
              "      <td>-0.777892</td>\n",
              "      <td>0.277946</td>\n",
              "      <td>0.080310</td>\n",
              "      <td>-0.283706</td>\n",
              "      <td>-0.364489</td>\n",
              "      <td>-2.341404</td>\n",
              "      <td>0.165316</td>\n",
              "    </tr>\n",
              "    <tr>\n",
              "      <th>2</th>\n",
              "      <td>-0.091339</td>\n",
              "      <td>1.384228</td>\n",
              "      <td>0.553626</td>\n",
              "      <td>-1.283343</td>\n",
              "      <td>0.185788</td>\n",
              "      <td>-1.350078</td>\n",
              "      <td>2.509072</td>\n",
              "      <td>1.960202</td>\n",
              "      <td>-0.820504</td>\n",
              "      <td>-0.632669</td>\n",
              "      <td>...</td>\n",
              "      <td>-0.624888</td>\n",
              "      <td>0.747580</td>\n",
              "      <td>0.637372</td>\n",
              "      <td>-0.381482</td>\n",
              "      <td>1.234511</td>\n",
              "      <td>-0.334936</td>\n",
              "      <td>-2.347271</td>\n",
              "      <td>0.329604</td>\n",
              "      <td>-1.540294</td>\n",
              "      <td>0.685003</td>\n",
              "    </tr>\n",
              "    <tr>\n",
              "      <th>3</th>\n",
              "      <td>0.335801</td>\n",
              "      <td>1.218206</td>\n",
              "      <td>2.223142</td>\n",
              "      <td>-0.454021</td>\n",
              "      <td>-1.171166</td>\n",
              "      <td>-0.148812</td>\n",
              "      <td>-0.868848</td>\n",
              "      <td>2.005006</td>\n",
              "      <td>-0.824708</td>\n",
              "      <td>0.140942</td>\n",
              "      <td>...</td>\n",
              "      <td>1.336496</td>\n",
              "      <td>-0.833137</td>\n",
              "      <td>-0.850778</td>\n",
              "      <td>-1.550518</td>\n",
              "      <td>0.528352</td>\n",
              "      <td>0.856441</td>\n",
              "      <td>-0.202574</td>\n",
              "      <td>-0.303891</td>\n",
              "      <td>0.525991</td>\n",
              "      <td>0.174881</td>\n",
              "    </tr>\n",
              "    <tr>\n",
              "      <th>4</th>\n",
              "      <td>-0.074732</td>\n",
              "      <td>0.640572</td>\n",
              "      <td>1.345869</td>\n",
              "      <td>-0.579004</td>\n",
              "      <td>-0.786756</td>\n",
              "      <td>0.183880</td>\n",
              "      <td>0.799201</td>\n",
              "      <td>1.103407</td>\n",
              "      <td>-1.288393</td>\n",
              "      <td>-0.896608</td>\n",
              "      <td>...</td>\n",
              "      <td>-0.892411</td>\n",
              "      <td>-0.805804</td>\n",
              "      <td>0.065370</td>\n",
              "      <td>0.889342</td>\n",
              "      <td>0.695457</td>\n",
              "      <td>0.733308</td>\n",
              "      <td>-1.310849</td>\n",
              "      <td>0.564230</td>\n",
              "      <td>-1.084652</td>\n",
              "      <td>0.818661</td>\n",
              "    </tr>\n",
              "  </tbody>\n",
              "</table>\n",
              "<p>5 rows × 400 columns</p>\n",
              "</div>\n",
              "      <button class=\"colab-df-convert\" onclick=\"convertToInteractive('df-3ebeb0de-460a-4e76-bf15-74c4ee0719a7')\"\n",
              "              title=\"Convert this dataframe to an interactive table.\"\n",
              "              style=\"display:none;\">\n",
              "        \n",
              "  <svg xmlns=\"http://www.w3.org/2000/svg\" height=\"24px\"viewBox=\"0 0 24 24\"\n",
              "       width=\"24px\">\n",
              "    <path d=\"M0 0h24v24H0V0z\" fill=\"none\"/>\n",
              "    <path d=\"M18.56 5.44l.94 2.06.94-2.06 2.06-.94-2.06-.94-.94-2.06-.94 2.06-2.06.94zm-11 1L8.5 8.5l.94-2.06 2.06-.94-2.06-.94L8.5 2.5l-.94 2.06-2.06.94zm10 10l.94 2.06.94-2.06 2.06-.94-2.06-.94-.94-2.06-.94 2.06-2.06.94z\"/><path d=\"M17.41 7.96l-1.37-1.37c-.4-.4-.92-.59-1.43-.59-.52 0-1.04.2-1.43.59L10.3 9.45l-7.72 7.72c-.78.78-.78 2.05 0 2.83L4 21.41c.39.39.9.59 1.41.59.51 0 1.02-.2 1.41-.59l7.78-7.78 2.81-2.81c.8-.78.8-2.07 0-2.86zM5.41 20L4 18.59l7.72-7.72 1.47 1.35L5.41 20z\"/>\n",
              "  </svg>\n",
              "      </button>\n",
              "      \n",
              "  <style>\n",
              "    .colab-df-container {\n",
              "      display:flex;\n",
              "      flex-wrap:wrap;\n",
              "      gap: 12px;\n",
              "    }\n",
              "\n",
              "    .colab-df-convert {\n",
              "      background-color: #E8F0FE;\n",
              "      border: none;\n",
              "      border-radius: 50%;\n",
              "      cursor: pointer;\n",
              "      display: none;\n",
              "      fill: #1967D2;\n",
              "      height: 32px;\n",
              "      padding: 0 0 0 0;\n",
              "      width: 32px;\n",
              "    }\n",
              "\n",
              "    .colab-df-convert:hover {\n",
              "      background-color: #E2EBFA;\n",
              "      box-shadow: 0px 1px 2px rgba(60, 64, 67, 0.3), 0px 1px 3px 1px rgba(60, 64, 67, 0.15);\n",
              "      fill: #174EA6;\n",
              "    }\n",
              "\n",
              "    [theme=dark] .colab-df-convert {\n",
              "      background-color: #3B4455;\n",
              "      fill: #D2E3FC;\n",
              "    }\n",
              "\n",
              "    [theme=dark] .colab-df-convert:hover {\n",
              "      background-color: #434B5C;\n",
              "      box-shadow: 0px 1px 3px 1px rgba(0, 0, 0, 0.15);\n",
              "      filter: drop-shadow(0px 1px 2px rgba(0, 0, 0, 0.3));\n",
              "      fill: #FFFFFF;\n",
              "    }\n",
              "  </style>\n",
              "\n",
              "      <script>\n",
              "        const buttonEl =\n",
              "          document.querySelector('#df-3ebeb0de-460a-4e76-bf15-74c4ee0719a7 button.colab-df-convert');\n",
              "        buttonEl.style.display =\n",
              "          google.colab.kernel.accessAllowed ? 'block' : 'none';\n",
              "\n",
              "        async function convertToInteractive(key) {\n",
              "          const element = document.querySelector('#df-3ebeb0de-460a-4e76-bf15-74c4ee0719a7');\n",
              "          const dataTable =\n",
              "            await google.colab.kernel.invokeFunction('convertToInteractive',\n",
              "                                                     [key], {});\n",
              "          if (!dataTable) return;\n",
              "\n",
              "          const docLinkHtml = 'Like what you see? Visit the ' +\n",
              "            '<a target=\"_blank\" href=https://colab.research.google.com/notebooks/data_table.ipynb>data table notebook</a>'\n",
              "            + ' to learn more about interactive tables.';\n",
              "          element.innerHTML = '';\n",
              "          dataTable['output_type'] = 'display_data';\n",
              "          await google.colab.output.renderOutput(dataTable, element);\n",
              "          const docLink = document.createElement('div');\n",
              "          docLink.innerHTML = docLinkHtml;\n",
              "          element.appendChild(docLink);\n",
              "        }\n",
              "      </script>\n",
              "    </div>\n",
              "  </div>\n",
              "  "
            ]
          },
          "metadata": {},
          "execution_count": 60
        }
      ]
    },
    {
      "cell_type": "code",
      "source": [
        "y.columns = [\"labels\"]"
      ],
      "metadata": {
        "id": "FrkiuEFYZAS7"
      },
      "execution_count": null,
      "outputs": []
    },
    {
      "cell_type": "code",
      "source": [
        "y.head()"
      ],
      "metadata": {
        "colab": {
          "base_uri": "https://localhost:8080/"
        },
        "id": "4EBqHXQuZOfA",
        "outputId": "a395c550-8575-4c91-e09e-2181bb5b48eb"
      },
      "execution_count": null,
      "outputs": [
        {
          "output_type": "execute_result",
          "data": {
            "text/plain": [
              "0    0\n",
              "1    0\n",
              "2    0\n",
              "3    0\n",
              "4    0\n",
              "Name: 400, dtype: int64"
            ]
          },
          "metadata": {},
          "execution_count": 50
        }
      ]
    },
    {
      "cell_type": "code",
      "source": [
        "#define model\n",
        "RandomFR = RandomForestClassifier(n_estimators=393, n_jobs= 14, max_depth=11)\n",
        "SVM = SVC( kernel='rbf',C=100,gamma=0.01)"
      ],
      "metadata": {
        "id": "mpZYkRS3hFqp"
      },
      "execution_count": null,
      "outputs": []
    },
    {
      "cell_type": "markdown",
      "source": [
        "##Train model"
      ],
      "metadata": {
        "id": "k72xvc_ucUap"
      }
    },
    {
      "cell_type": "code",
      "source": [
        "ModelRF = RandomFR.fit(X,y)"
      ],
      "metadata": {
        "id": "P0G0kvVTj__U"
      },
      "execution_count": null,
      "outputs": []
    },
    {
      "cell_type": "code",
      "source": [
        "ModelSVM = SVM.fit(X,y)"
      ],
      "metadata": {
        "id": "Hs-YPDnMR3L7"
      },
      "execution_count": null,
      "outputs": []
    },
    {
      "cell_type": "code",
      "source": [
        "with open(\"/content/drive/MyDrive/Malware/models/RF.pickle\", \"wb\") as handle:\n",
        "    pickle.dump(RandomFR, handle)\n",
        "with open(\"/content/drive/MyDrive/Malware/models/SVM.pickle\", \"wb\") as handle:\n",
        "    pickle.dump(SVM, handle)"
      ],
      "metadata": {
        "id": "JwbiRiV-SyCm"
      },
      "execution_count": null,
      "outputs": []
    },
    {
      "cell_type": "markdown",
      "source": [
        "##Test"
      ],
      "metadata": {
        "id": "-ItttCe9ULs1"
      }
    },
    {
      "cell_type": "code",
      "source": [
        "# load dataset\n",
        "X = pd.read_csv('/content/drive/MyDrive/Malware/data_test_official.csv')\n",
        "print(X.shape)\n",
        "y_test = X.iloc[:, -1] #label\n",
        "y_test.columns = [\"labels\"]\n",
        "X_test = X.iloc[:, :-1]#remove the label column\n",
        "print(y)"
      ],
      "metadata": {
        "colab": {
          "base_uri": "https://localhost:8080/"
        },
        "id": "PAfbM9EcUPK8",
        "outputId": "8a953da3-3e09-483f-f11f-ca9cd0720921"
      },
      "execution_count": null,
      "outputs": [
        {
          "output_type": "stream",
          "name": "stdout",
          "text": [
            "(7999, 401)\n",
            "0        0\n",
            "1        0\n",
            "2        0\n",
            "3        0\n",
            "4        0\n",
            "        ..\n",
            "11995    1\n",
            "11996    1\n",
            "11997    1\n",
            "11998    1\n",
            "11999    1\n",
            "Name: 400, Length: 12000, dtype: int64\n"
          ]
        }
      ]
    },
    {
      "cell_type": "code",
      "source": [
        "#predict\n",
        "y_predRF = ModelRF.predict(X_test)\n"
      ],
      "metadata": {
        "colab": {
          "base_uri": "https://localhost:8080/"
        },
        "id": "za6anS57UTLo",
        "outputId": "02c65a16-a9bb-4bae-d657-4683ce68ff66"
      },
      "execution_count": null,
      "outputs": [
        {
          "output_type": "stream",
          "name": "stderr",
          "text": [
            "/usr/local/lib/python3.10/dist-packages/sklearn/base.py:432: UserWarning: X has feature names, but RandomForestClassifier was fitted without feature names\n",
            "  warnings.warn(\n"
          ]
        }
      ]
    },
    {
      "cell_type": "code",
      "source": [
        "from sklearn.metrics import accuracy_score\n",
        "accuracy = accuracy_score(y_test, y_predRF)\n",
        "print(\"Accuracy:\", accuracy)"
      ],
      "metadata": {
        "colab": {
          "base_uri": "https://localhost:8080/"
        },
        "id": "AA8WsRGQXKNc",
        "outputId": "12c188df-f9ca-49cc-9f9a-9bf39d2101dc"
      },
      "execution_count": null,
      "outputs": [
        {
          "output_type": "stream",
          "name": "stdout",
          "text": [
            "Accuracy: 0.998999874984373\n"
          ]
        }
      ]
    },
    {
      "cell_type": "code",
      "source": [
        "from sklearn.metrics import accuracy_score, precision_score, recall_score, f1_score\n",
        "from sklearn.metrics import precision_recall_curve\n",
        "from sklearn.metrics import balanced_accuracy_score\n",
        "from sklearn.metrics import classification_report\n",
        "from sklearn.metrics import confusion_matrix\n",
        "import seaborn as sns\n",
        "def evaluation(y_test, y_pred):\n",
        "  print('Misclassified samples: %d' % (y_test != y_pred).sum())\n",
        "  result = confusion_matrix(y_test, y_pred, normalize='true')\n",
        "  #print(\"Confusion Matrix:\")\n",
        "  #print(result)\n",
        "  sns.heatmap(result, annot=True)\n",
        "  result1 = classification_report(y_test, y_pred)\n",
        "  print(\"Classification Report:\",)\n",
        "  print (result1)\n",
        "  result2 = 100* accuracy_score(y_test, y_pred)\n",
        "  print(\"Accuracy:\", result2)\n",
        "  result3 = precision_score(y_test, y_pred, average='weighted')\n",
        "  print(\"Precision:\",result3)\n",
        "  result4 = recall_score(y_test, y_pred, average='weighted')\n",
        "  print(\"Recall:\",result4)\n",
        "  result5 = f1_score(y_test, y_pred, average='weighted')\n",
        "  print(\"F1:\",result5)\n"
      ],
      "metadata": {
        "id": "ad1B1nNVaa76"
      },
      "execution_count": null,
      "outputs": []
    },
    {
      "cell_type": "markdown",
      "source": [
        "##RANDOM FOREST EVALUATION"
      ],
      "metadata": {
        "id": "9KMaYDPgdk1y"
      }
    },
    {
      "cell_type": "code",
      "source": [
        "evaluation(y_test,y_predRF)"
      ],
      "metadata": {
        "colab": {
          "base_uri": "https://localhost:8080/",
          "height": 702
        },
        "id": "IBE33toSdWsK",
        "outputId": "90c9a222-2e95-4ae9-a1b3-951fa0411f38"
      },
      "execution_count": null,
      "outputs": [
        {
          "output_type": "stream",
          "name": "stdout",
          "text": [
            "Misclassified samples: 8\n",
            "Classification Report:\n",
            "              precision    recall  f1-score   support\n",
            "\n",
            "           0       1.00      1.00      1.00      3999\n",
            "           1       1.00      1.00      1.00      4000\n",
            "\n",
            "    accuracy                           1.00      7999\n",
            "   macro avg       1.00      1.00      1.00      7999\n",
            "weighted avg       1.00      1.00      1.00      7999\n",
            "\n",
            "Accuracy: 99.8999874984373\n",
            "Precision: 0.998999874984373\n",
            "Recall: 0.998999874984373\n",
            "F1: 0.998999874984373\n"
          ]
        },
        {
          "output_type": "display_data",
          "data": {
            "text/plain": [
              "<Figure size 640x480 with 2 Axes>"
            ],
            "image/png": "[encoded data removed]"
          },
          "metadata": {}
        }
      ]
    },
    {
      "cell_type": "markdown",
      "source": [
        "##SVM EVALATION"
      ],
      "metadata": {
        "id": "Est93IBjdxbf"
      }
    },
    {
      "cell_type": "code",
      "source": [
        "y_predsvm = ModelSVM.predict(X_test)"
      ],
      "metadata": {
        "colab": {
          "base_uri": "https://localhost:8080/"
        },
        "id": "ORAhDNdod0or",
        "outputId": "428f9aa6-7f6c-4fec-b93c-0534d6223d5f"
      },
      "execution_count": null,
      "outputs": [
        {
          "output_type": "stream",
          "name": "stderr",
          "text": [
            "/usr/local/lib/python3.10/dist-packages/sklearn/base.py:432: UserWarning: X has feature names, but SVC was fitted without feature names\n",
            "  warnings.warn(\n"
          ]
        }
      ]
    },
    {
      "cell_type": "code",
      "source": [
        "evaluation(y_test,y_predsvm)"
      ],
      "metadata": {
        "colab": {
          "base_uri": "https://localhost:8080/",
          "height": 707
        },
        "id": "Al0T0-5Kd_-Q",
        "outputId": "de0105cb-6201-4360-c10d-14d565846ac5"
      },
      "execution_count": null,
      "outputs": [
        {
          "output_type": "stream",
          "name": "stdout",
          "text": [
            "Misclassified samples: 615\n",
            "Classification Report:\n",
            "              precision    recall  f1-score   support\n",
            "\n",
            "           0       0.87      1.00      0.93      3999\n",
            "           1       1.00      0.85      0.92      4000\n",
            "\n",
            "    accuracy                           0.92      7999\n",
            "   macro avg       0.93      0.92      0.92      7999\n",
            "weighted avg       0.93      0.92      0.92      7999\n",
            "\n",
            "Accuracy: 92.3115389423678\n",
            "Precision: 0.933363338167596\n",
            "Recall: 0.923115389423678\n",
            "F1: 0.9226589554538702\n"
          ]
        },
        {
          "output_type": "display_data",
          "data": {
            "text/plain": [
              "<Figure size 640x480 with 2 Axes>"
            ],
            "image/png": "[encoded data removed]"
          },
          "metadata": {}
        }
      ]
    }
  ]
}