{
  "nbformat": 4,
  "nbformat_minor": 0,
  "metadata": {
    "colab": {
      "provenance": [],
      "toc_visible": true,
      "mount_file_id": "1digsoNDN346_nMhQYwZXFLhCAUtSTInK",
      "authorship_tag": "ABX9TyOh21WRZxu4iJnHyWBA9tuH",
      "include_colab_link": true
    },
    "kernelspec": {
      "name": "python3",
      "display_name": "Python 3"
    },
    "language_info": {
      "name": "python"
    }
  },
  "cells": [
    {
      "cell_type": "markdown",
      "metadata": {
        "id": "view-in-github",
        "colab_type": "text"
      },
      "source": [
        "<a href=\"https://colab.research.google.com/github/BeforeTheStorm202/NT230.N22.ATCL-Group5/blob/main/Doc2Vec_MLP_XGB.ipynb\" target=\"_parent\"><img src=\"https://colab.research.google.com/assets/colab-badge.svg\" alt=\"Open In Colab\"/></a>"
      ]
    },
    {
      "cell_type": "markdown",
      "source": [
        "# Import "
      ],
      "metadata": {
        "id": "78nWi6y4zaC4"
      }
    },
    {
      "cell_type": "code",
      "execution_count": 2,
      "metadata": {
        "id": "MU13rm3lyPOh"
      },
      "outputs": [],
      "source": [
        "import os\n",
        "import pickle\n",
        "import pandas as pd\n",
        "\n",
        "# model lib\n",
        "from sklearn.neural_network import MLPClassifier\n",
        "from xgboost import XGBClassifier\n",
        "\n",
        "# evaluation metrisc\n",
        "from sklearn.metrics import accuracy_score, precision_score, recall_score, f1_score\n",
        "from sklearn.metrics import precision_recall_curve\n",
        "from sklearn.metrics import balanced_accuracy_score\n",
        "from sklearn.metrics import classification_report\n",
        "from sklearn.metrics import confusion_matrix\n",
        "import seaborn as sns"
      ]
    },
    {
      "cell_type": "code",
      "source": [
        "# define evaluation function\n",
        "def evaluation(y_test, y_pred):\n",
        "  print('Misclassified samples: %d' % (y_test != y_pred).sum())\n",
        "  result = confusion_matrix(y_test, y_pred, normalize='true')\n",
        "  #print(\"Confusion Matrix:\")\n",
        "  #print(result)\n",
        "  sns.heatmap(result, annot=True)\n",
        "  result1 = classification_report(y_test, y_pred)\n",
        "  print(\"Classification Report:\",)\n",
        "  print (result1)\n",
        "  result2 = 100* accuracy_score(y_test, y_pred)\n",
        "  print(\"Accuracy:\", result2)\n",
        "  result3 = precision_score(y_test, y_pred, average='weighted')\n",
        "  print(\"Precision:\",result3)\n",
        "  result4 = recall_score(y_test, y_pred, average='weighted')\n",
        "  print(\"Recall:\",result4)\n",
        "  result5 = f1_score(y_test, y_pred, average='weighted')\n",
        "  print(\"F1:\",result5)"
      ],
      "metadata": {
        "id": "hxsCnbEV0Cmh"
      },
      "execution_count": 3,
      "outputs": []
    },
    {
      "cell_type": "markdown",
      "source": [
        "# Load dataset"
      ],
      "metadata": {
        "id": "2oTwcf8f0M6d"
      }
    },
    {
      "cell_type": "markdown",
      "source": [
        "## Trainset"
      ],
      "metadata": {
        "id": "Wzt4OEXd5wdV"
      }
    },
    {
      "cell_type": "code",
      "source": [
        "x_train = pd.read_csv('/content/drive/MyDrive/Malware/Dataset/datatrain_official.csv', header=None)"
      ],
      "metadata": {
        "id": "1Bs0JAKN0QID"
      },
      "execution_count": 27,
      "outputs": []
    },
    {
      "cell_type": "code",
      "source": [
        "x_train.shape"
      ],
      "metadata": {
        "colab": {
          "base_uri": "https://localhost:8080/"
        },
        "id": "ty9hswTT0dlC",
        "outputId": "c227c42c-f533-428f-c050-1a689e253151"
      },
      "execution_count": 28,
      "outputs": [
        {
          "output_type": "execute_result",
          "data": {
            "text/plain": [
              "(12000, 401)"
            ]
          },
          "metadata": {},
          "execution_count": 28
        }
      ]
    },
    {
      "cell_type": "code",
      "source": [
        "x_train.head()"
      ],
      "metadata": {
        "colab": {
          "base_uri": "https://localhost:8080/",
          "height": 299
        },
        "id": "eQ6Aqgsr05Gk",
        "outputId": "b48fec0b-fc4b-4471-e68a-434546ac9b4a"
      },
      "execution_count": 11,
      "outputs": [
        {
          "output_type": "execute_result",
          "data": {
            "text/plain": [
              "        0         1         2         3         4         5         6    \\\n",
              "0 -0.724374  0.723130  1.742111 -0.341297 -0.162678 -2.806555  2.047710   \n",
              "1 -1.350686  1.933452  0.693955 -1.170800 -0.252616 -2.377649  0.337246   \n",
              "2 -0.091339  1.384228  0.553626 -1.283343  0.185788 -1.350078  2.509072   \n",
              "3  0.335801  1.218206  2.223142 -0.454021 -1.171166 -0.148812 -0.868848   \n",
              "4 -0.074732  0.640572  1.345869 -0.579004 -0.786756  0.183880  0.799201   \n",
              "\n",
              "        7         8         9    ...       391       392       393       394  \\\n",
              "0  3.283168 -0.697285 -1.038879  ... -1.850715  0.285391 -1.608882  2.086394   \n",
              "1  1.503177 -1.287510 -1.743109  ...  0.293394  1.532014 -0.777892  0.277946   \n",
              "2  1.960202 -0.820504 -0.632669  ...  0.747580  0.637372 -0.381482  1.234511   \n",
              "3  2.005006 -0.824708  0.140942  ... -0.833137 -0.850778 -1.550518  0.528352   \n",
              "4  1.103407 -1.288393 -0.896608  ... -0.805804  0.065370  0.889342  0.695457   \n",
              "\n",
              "        395       396       397       398       399  400  \n",
              "0 -1.093293  0.455736 -2.401511 -1.931166  0.443629    0  \n",
              "1  0.080310 -0.283706 -0.364489 -2.341404  0.165316    0  \n",
              "2 -0.334936 -2.347271  0.329604 -1.540294  0.685003    0  \n",
              "3  0.856441 -0.202574 -0.303891  0.525991  0.174881    0  \n",
              "4  0.733308 -1.310849  0.564230 -1.084652  0.818661    0  \n",
              "\n",
              "[5 rows x 401 columns]"
            ],
            "text/html": [
              "\n",
              "  <div id=\"df-58817e30-8e41-4d82-b437-2b2715c4f2ef\">\n",
              "    <div class=\"colab-df-container\">\n",
              "      <div>\n",
              "<style scoped>\n",
              "    .dataframe tbody tr th:only-of-type {\n",
              "        vertical-align: middle;\n",
              "    }\n",
              "\n",
              "    .dataframe tbody tr th {\n",
              "        vertical-align: top;\n",
              "    }\n",
              "\n",
              "    .dataframe thead th {\n",
              "        text-align: right;\n",
              "    }\n",
              "</style>\n",
              "<table border=\"1\" class=\"dataframe\">\n",
              "  <thead>\n",
              "    <tr style=\"text-align: right;\">\n",
              "      <th></th>\n",
              "      <th>0</th>\n",
              "      <th>1</th>\n",
              "      <th>2</th>\n",
              "      <th>3</th>\n",
              "      <th>4</th>\n",
              "      <th>5</th>\n",
              "      <th>6</th>\n",
              "      <th>7</th>\n",
              "      <th>8</th>\n",
              "      <th>9</th>\n",
              "      <th>...</th>\n",
              "      <th>391</th>\n",
              "      <th>392</th>\n",
              "      <th>393</th>\n",
              "      <th>394</th>\n",
              "      <th>395</th>\n",
              "      <th>396</th>\n",
              "      <th>397</th>\n",
              "      <th>398</th>\n",
              "      <th>399</th>\n",
              "      <th>400</th>\n",
              "    </tr>\n",
              "  </thead>\n",
              "  <tbody>\n",
              "    <tr>\n",
              "      <th>0</th>\n",
              "      <td>-0.724374</td>\n",
              "      <td>0.723130</td>\n",
              "      <td>1.742111</td>\n",
              "      <td>-0.341297</td>\n",
              "      <td>-0.162678</td>\n",
              "      <td>-2.806555</td>\n",
              "      <td>2.047710</td>\n",
              "      <td>3.283168</td>\n",
              "      <td>-0.697285</td>\n",
              "      <td>-1.038879</td>\n",
              "      <td>...</td>\n",
              "      <td>-1.850715</td>\n",
              "      <td>0.285391</td>\n",
              "      <td>-1.608882</td>\n",
              "      <td>2.086394</td>\n",
              "      <td>-1.093293</td>\n",
              "      <td>0.455736</td>\n",
              "      <td>-2.401511</td>\n",
              "      <td>-1.931166</td>\n",
              "      <td>0.443629</td>\n",
              "      <td>0</td>\n",
              "    </tr>\n",
              "    <tr>\n",
              "      <th>1</th>\n",
              "      <td>-1.350686</td>\n",
              "      <td>1.933452</td>\n",
              "      <td>0.693955</td>\n",
              "      <td>-1.170800</td>\n",
              "      <td>-0.252616</td>\n",
              "      <td>-2.377649</td>\n",
              "      <td>0.337246</td>\n",
              "      <td>1.503177</td>\n",
              "      <td>-1.287510</td>\n",
              "      <td>-1.743109</td>\n",
              "      <td>...</td>\n",
              "      <td>0.293394</td>\n",
              "      <td>1.532014</td>\n",
              "      <td>-0.777892</td>\n",
              "      <td>0.277946</td>\n",
              "      <td>0.080310</td>\n",
              "      <td>-0.283706</td>\n",
              "      <td>-0.364489</td>\n",
              "      <td>-2.341404</td>\n",
              "      <td>0.165316</td>\n",
              "      <td>0</td>\n",
              "    </tr>\n",
              "    <tr>\n",
              "      <th>2</th>\n",
              "      <td>-0.091339</td>\n",
              "      <td>1.384228</td>\n",
              "      <td>0.553626</td>\n",
              "      <td>-1.283343</td>\n",
              "      <td>0.185788</td>\n",
              "      <td>-1.350078</td>\n",
              "      <td>2.509072</td>\n",
              "      <td>1.960202</td>\n",
              "      <td>-0.820504</td>\n",
              "      <td>-0.632669</td>\n",
              "      <td>...</td>\n",
              "      <td>0.747580</td>\n",
              "      <td>0.637372</td>\n",
              "      <td>-0.381482</td>\n",
              "      <td>1.234511</td>\n",
              "      <td>-0.334936</td>\n",
              "      <td>-2.347271</td>\n",
              "      <td>0.329604</td>\n",
              "      <td>-1.540294</td>\n",
              "      <td>0.685003</td>\n",
              "      <td>0</td>\n",
              "    </tr>\n",
              "    <tr>\n",
              "      <th>3</th>\n",
              "      <td>0.335801</td>\n",
              "      <td>1.218206</td>\n",
              "      <td>2.223142</td>\n",
              "      <td>-0.454021</td>\n",
              "      <td>-1.171166</td>\n",
              "      <td>-0.148812</td>\n",
              "      <td>-0.868848</td>\n",
              "      <td>2.005006</td>\n",
              "      <td>-0.824708</td>\n",
              "      <td>0.140942</td>\n",
              "      <td>...</td>\n",
              "      <td>-0.833137</td>\n",
              "      <td>-0.850778</td>\n",
              "      <td>-1.550518</td>\n",
              "      <td>0.528352</td>\n",
              "      <td>0.856441</td>\n",
              "      <td>-0.202574</td>\n",
              "      <td>-0.303891</td>\n",
              "      <td>0.525991</td>\n",
              "      <td>0.174881</td>\n",
              "      <td>0</td>\n",
              "    </tr>\n",
              "    <tr>\n",
              "      <th>4</th>\n",
              "      <td>-0.074732</td>\n",
              "      <td>0.640572</td>\n",
              "      <td>1.345869</td>\n",
              "      <td>-0.579004</td>\n",
              "      <td>-0.786756</td>\n",
              "      <td>0.183880</td>\n",
              "      <td>0.799201</td>\n",
              "      <td>1.103407</td>\n",
              "      <td>-1.288393</td>\n",
              "      <td>-0.896608</td>\n",
              "      <td>...</td>\n",
              "      <td>-0.805804</td>\n",
              "      <td>0.065370</td>\n",
              "      <td>0.889342</td>\n",
              "      <td>0.695457</td>\n",
              "      <td>0.733308</td>\n",
              "      <td>-1.310849</td>\n",
              "      <td>0.564230</td>\n",
              "      <td>-1.084652</td>\n",
              "      <td>0.818661</td>\n",
              "      <td>0</td>\n",
              "    </tr>\n",
              "  </tbody>\n",
              "</table>\n",
              "<p>5 rows × 401 columns</p>\n",
              "</div>\n",
              "      <button class=\"colab-df-convert\" onclick=\"convertToInteractive('df-58817e30-8e41-4d82-b437-2b2715c4f2ef')\"\n",
              "              title=\"Convert this dataframe to an interactive table.\"\n",
              "              style=\"display:none;\">\n",
              "        \n",
              "  <svg xmlns=\"http://www.w3.org/2000/svg\" height=\"24px\"viewBox=\"0 0 24 24\"\n",
              "       width=\"24px\">\n",
              "    <path d=\"M0 0h24v24H0V0z\" fill=\"none\"/>\n",
              "    <path d=\"M18.56 5.44l.94 2.06.94-2.06 2.06-.94-2.06-.94-.94-2.06-.94 2.06-2.06.94zm-11 1L8.5 8.5l.94-2.06 2.06-.94-2.06-.94L8.5 2.5l-.94 2.06-2.06.94zm10 10l.94 2.06.94-2.06 2.06-.94-2.06-.94-.94-2.06-.94 2.06-2.06.94z\"/><path d=\"M17.41 7.96l-1.37-1.37c-.4-.4-.92-.59-1.43-.59-.52 0-1.04.2-1.43.59L10.3 9.45l-7.72 7.72c-.78.78-.78 2.05 0 2.83L4 21.41c.39.39.9.59 1.41.59.51 0 1.02-.2 1.41-.59l7.78-7.78 2.81-2.81c.8-.78.8-2.07 0-2.86zM5.41 20L4 18.59l7.72-7.72 1.47 1.35L5.41 20z\"/>\n",
              "  </svg>\n",
              "      </button>\n",
              "      \n",
              "  <style>\n",
              "    .colab-df-container {\n",
              "      display:flex;\n",
              "      flex-wrap:wrap;\n",
              "      gap: 12px;\n",
              "    }\n",
              "\n",
              "    .colab-df-convert {\n",
              "      background-color: #E8F0FE;\n",
              "      border: none;\n",
              "      border-radius: 50%;\n",
              "      cursor: pointer;\n",
              "      display: none;\n",
              "      fill: #1967D2;\n",
              "      height: 32px;\n",
              "      padding: 0 0 0 0;\n",
              "      width: 32px;\n",
              "    }\n",
              "\n",
              "    .colab-df-convert:hover {\n",
              "      background-color: #E2EBFA;\n",
              "      box-shadow: 0px 1px 2px rgba(60, 64, 67, 0.3), 0px 1px 3px 1px rgba(60, 64, 67, 0.15);\n",
              "      fill: #174EA6;\n",
              "    }\n",
              "\n",
              "    [theme=dark] .colab-df-convert {\n",
              "      background-color: #3B4455;\n",
              "      fill: #D2E3FC;\n",
              "    }\n",
              "\n",
              "    [theme=dark] .colab-df-convert:hover {\n",
              "      background-color: #434B5C;\n",
              "      box-shadow: 0px 1px 3px 1px rgba(0, 0, 0, 0.15);\n",
              "      filter: drop-shadow(0px 1px 2px rgba(0, 0, 0, 0.3));\n",
              "      fill: #FFFFFF;\n",
              "    }\n",
              "  </style>\n",
              "\n",
              "      <script>\n",
              "        const buttonEl =\n",
              "          document.querySelector('#df-58817e30-8e41-4d82-b437-2b2715c4f2ef button.colab-df-convert');\n",
              "        buttonEl.style.display =\n",
              "          google.colab.kernel.accessAllowed ? 'block' : 'none';\n",
              "\n",
              "        async function convertToInteractive(key) {\n",
              "          const element = document.querySelector('#df-58817e30-8e41-4d82-b437-2b2715c4f2ef');\n",
              "          const dataTable =\n",
              "            await google.colab.kernel.invokeFunction('convertToInteractive',\n",
              "                                                     [key], {});\n",
              "          if (!dataTable) return;\n",
              "\n",
              "          const docLinkHtml = 'Like what you see? Visit the ' +\n",
              "            '<a target=\"_blank\" href=https://colab.research.google.com/notebooks/data_table.ipynb>data table notebook</a>'\n",
              "            + ' to learn more about interactive tables.';\n",
              "          element.innerHTML = '';\n",
              "          dataTable['output_type'] = 'display_data';\n",
              "          await google.colab.output.renderOutput(dataTable, element);\n",
              "          const docLink = document.createElement('div');\n",
              "          docLink.innerHTML = docLinkHtml;\n",
              "          element.appendChild(docLink);\n",
              "        }\n",
              "      </script>\n",
              "    </div>\n",
              "  </div>\n",
              "  "
            ]
          },
          "metadata": {},
          "execution_count": 11
        }
      ]
    },
    {
      "cell_type": "code",
      "source": [
        "y_train = x_train.iloc[:, -1] #label"
      ],
      "metadata": {
        "id": "tRQqq95V090a"
      },
      "execution_count": 14,
      "outputs": []
    },
    {
      "cell_type": "code",
      "source": [
        "y_train.shape"
      ],
      "metadata": {
        "colab": {
          "base_uri": "https://localhost:8080/"
        },
        "id": "V2EmRI9K16b_",
        "outputId": "c9f0afff-edb5-4a08-c7e8-b73a68fa187f"
      },
      "execution_count": 15,
      "outputs": [
        {
          "output_type": "execute_result",
          "data": {
            "text/plain": [
              "(12000,)"
            ]
          },
          "metadata": {},
          "execution_count": 15
        }
      ]
    },
    {
      "cell_type": "code",
      "source": [
        "y_train.head()"
      ],
      "metadata": {
        "colab": {
          "base_uri": "https://localhost:8080/"
        },
        "id": "Ecjm6-PX19T0",
        "outputId": "17825cf9-3ce7-4bbe-f2a7-2a28f301c68c"
      },
      "execution_count": 20,
      "outputs": [
        {
          "output_type": "execute_result",
          "data": {
            "text/plain": [
              "0    0\n",
              "1    0\n",
              "2    0\n",
              "3    0\n",
              "4    0\n",
              "Name: 400, dtype: int64"
            ]
          },
          "metadata": {},
          "execution_count": 20
        }
      ]
    },
    {
      "cell_type": "markdown",
      "source": [
        "Remove label from x_train and check the shape again"
      ],
      "metadata": {
        "id": "b99tKY1L2CcU"
      }
    },
    {
      "cell_type": "code",
      "source": [
        "x_train = x_train.iloc[:, :-1] #remove the label column"
      ],
      "metadata": {
        "id": "l4XF1Ubx2OEM"
      },
      "execution_count": 29,
      "outputs": []
    },
    {
      "cell_type": "code",
      "source": [
        "x_train.shape"
      ],
      "metadata": {
        "colab": {
          "base_uri": "https://localhost:8080/"
        },
        "id": "DGS88WPz2Q-w",
        "outputId": "d9f77984-7a88-445b-c8b4-d0266704c4de"
      },
      "execution_count": 30,
      "outputs": [
        {
          "output_type": "execute_result",
          "data": {
            "text/plain": [
              "(12000, 400)"
            ]
          },
          "metadata": {},
          "execution_count": 30
        }
      ]
    },
    {
      "cell_type": "code",
      "source": [
        "x_train.head()"
      ],
      "metadata": {
        "colab": {
          "base_uri": "https://localhost:8080/",
          "height": 299
        },
        "id": "tHA4LGJc2WeC",
        "outputId": "c0174072-556c-4018-ae3c-bc017855818c"
      },
      "execution_count": 21,
      "outputs": [
        {
          "output_type": "execute_result",
          "data": {
            "text/plain": [
              "        0         1         2         3         4         5         6    \\\n",
              "0 -0.724374  0.723130  1.742111 -0.341297 -0.162678 -2.806555  2.047710   \n",
              "1 -1.350686  1.933452  0.693955 -1.170800 -0.252616 -2.377649  0.337246   \n",
              "2 -0.091339  1.384228  0.553626 -1.283343  0.185788 -1.350078  2.509072   \n",
              "3  0.335801  1.218206  2.223142 -0.454021 -1.171166 -0.148812 -0.868848   \n",
              "4 -0.074732  0.640572  1.345869 -0.579004 -0.786756  0.183880  0.799201   \n",
              "\n",
              "        7         8         9    ...       390       391       392       393  \\\n",
              "0  3.283168 -0.697285 -1.038879  ...  1.005829 -1.850715  0.285391 -1.608882   \n",
              "1  1.503177 -1.287510 -1.743109  ...  1.432678  0.293394  1.532014 -0.777892   \n",
              "2  1.960202 -0.820504 -0.632669  ... -0.624888  0.747580  0.637372 -0.381482   \n",
              "3  2.005006 -0.824708  0.140942  ...  1.336496 -0.833137 -0.850778 -1.550518   \n",
              "4  1.103407 -1.288393 -0.896608  ... -0.892411 -0.805804  0.065370  0.889342   \n",
              "\n",
              "        394       395       396       397       398       399  \n",
              "0  2.086394 -1.093293  0.455736 -2.401511 -1.931166  0.443629  \n",
              "1  0.277946  0.080310 -0.283706 -0.364489 -2.341404  0.165316  \n",
              "2  1.234511 -0.334936 -2.347271  0.329604 -1.540294  0.685003  \n",
              "3  0.528352  0.856441 -0.202574 -0.303891  0.525991  0.174881  \n",
              "4  0.695457  0.733308 -1.310849  0.564230 -1.084652  0.818661  \n",
              "\n",
              "[5 rows x 400 columns]"
            ],
            "text/html": [
              "\n",
              "  <div id=\"df-252e3470-3c10-4325-87b0-ce6cab5352fc\">\n",
              "    <div class=\"colab-df-container\">\n",
              "      <div>\n",
              "<style scoped>\n",
              "    .dataframe tbody tr th:only-of-type {\n",
              "        vertical-align: middle;\n",
              "    }\n",
              "\n",
              "    .dataframe tbody tr th {\n",
              "        vertical-align: top;\n",
              "    }\n",
              "\n",
              "    .dataframe thead th {\n",
              "        text-align: right;\n",
              "    }\n",
              "</style>\n",
              "<table border=\"1\" class=\"dataframe\">\n",
              "  <thead>\n",
              "    <tr style=\"text-align: right;\">\n",
              "      <th></th>\n",
              "      <th>0</th>\n",
              "      <th>1</th>\n",
              "      <th>2</th>\n",
              "      <th>3</th>\n",
              "      <th>4</th>\n",
              "      <th>5</th>\n",
              "      <th>6</th>\n",
              "      <th>7</th>\n",
              "      <th>8</th>\n",
              "      <th>9</th>\n",
              "      <th>...</th>\n",
              "      <th>390</th>\n",
              "      <th>391</th>\n",
              "      <th>392</th>\n",
              "      <th>393</th>\n",
              "      <th>394</th>\n",
              "      <th>395</th>\n",
              "      <th>396</th>\n",
              "      <th>397</th>\n",
              "      <th>398</th>\n",
              "      <th>399</th>\n",
              "    </tr>\n",
              "  </thead>\n",
              "  <tbody>\n",
              "    <tr>\n",
              "      <th>0</th>\n",
              "      <td>-0.724374</td>\n",
              "      <td>0.723130</td>\n",
              "      <td>1.742111</td>\n",
              "      <td>-0.341297</td>\n",
              "      <td>-0.162678</td>\n",
              "      <td>-2.806555</td>\n",
              "      <td>2.047710</td>\n",
              "      <td>3.283168</td>\n",
              "      <td>-0.697285</td>\n",
              "      <td>-1.038879</td>\n",
              "      <td>...</td>\n",
              "      <td>1.005829</td>\n",
              "      <td>-1.850715</td>\n",
              "      <td>0.285391</td>\n",
              "      <td>-1.608882</td>\n",
              "      <td>2.086394</td>\n",
              "      <td>-1.093293</td>\n",
              "      <td>0.455736</td>\n",
              "      <td>-2.401511</td>\n",
              "      <td>-1.931166</td>\n",
              "      <td>0.443629</td>\n",
              "    </tr>\n",
              "    <tr>\n",
              "      <th>1</th>\n",
              "      <td>-1.350686</td>\n",
              "      <td>1.933452</td>\n",
              "      <td>0.693955</td>\n",
              "      <td>-1.170800</td>\n",
              "      <td>-0.252616</td>\n",
              "      <td>-2.377649</td>\n",
              "      <td>0.337246</td>\n",
              "      <td>1.503177</td>\n",
              "      <td>-1.287510</td>\n",
              "      <td>-1.743109</td>\n",
              "      <td>...</td>\n",
              "      <td>1.432678</td>\n",
              "      <td>0.293394</td>\n",
              "      <td>1.532014</td>\n",
              "      <td>-0.777892</td>\n",
              "      <td>0.277946</td>\n",
              "      <td>0.080310</td>\n",
              "      <td>-0.283706</td>\n",
              "      <td>-0.364489</td>\n",
              "      <td>-2.341404</td>\n",
              "      <td>0.165316</td>\n",
              "    </tr>\n",
              "    <tr>\n",
              "      <th>2</th>\n",
              "      <td>-0.091339</td>\n",
              "      <td>1.384228</td>\n",
              "      <td>0.553626</td>\n",
              "      <td>-1.283343</td>\n",
              "      <td>0.185788</td>\n",
              "      <td>-1.350078</td>\n",
              "      <td>2.509072</td>\n",
              "      <td>1.960202</td>\n",
              "      <td>-0.820504</td>\n",
              "      <td>-0.632669</td>\n",
              "      <td>...</td>\n",
              "      <td>-0.624888</td>\n",
              "      <td>0.747580</td>\n",
              "      <td>0.637372</td>\n",
              "      <td>-0.381482</td>\n",
              "      <td>1.234511</td>\n",
              "      <td>-0.334936</td>\n",
              "      <td>-2.347271</td>\n",
              "      <td>0.329604</td>\n",
              "      <td>-1.540294</td>\n",
              "      <td>0.685003</td>\n",
              "    </tr>\n",
              "    <tr>\n",
              "      <th>3</th>\n",
              "      <td>0.335801</td>\n",
              "      <td>1.218206</td>\n",
              "      <td>2.223142</td>\n",
              "      <td>-0.454021</td>\n",
              "      <td>-1.171166</td>\n",
              "      <td>-0.148812</td>\n",
              "      <td>-0.868848</td>\n",
              "      <td>2.005006</td>\n",
              "      <td>-0.824708</td>\n",
              "      <td>0.140942</td>\n",
              "      <td>...</td>\n",
              "      <td>1.336496</td>\n",
              "      <td>-0.833137</td>\n",
              "      <td>-0.850778</td>\n",
              "      <td>-1.550518</td>\n",
              "      <td>0.528352</td>\n",
              "      <td>0.856441</td>\n",
              "      <td>-0.202574</td>\n",
              "      <td>-0.303891</td>\n",
              "      <td>0.525991</td>\n",
              "      <td>0.174881</td>\n",
              "    </tr>\n",
              "    <tr>\n",
              "      <th>4</th>\n",
              "      <td>-0.074732</td>\n",
              "      <td>0.640572</td>\n",
              "      <td>1.345869</td>\n",
              "      <td>-0.579004</td>\n",
              "      <td>-0.786756</td>\n",
              "      <td>0.183880</td>\n",
              "      <td>0.799201</td>\n",
              "      <td>1.103407</td>\n",
              "      <td>-1.288393</td>\n",
              "      <td>-0.896608</td>\n",
              "      <td>...</td>\n",
              "      <td>-0.892411</td>\n",
              "      <td>-0.805804</td>\n",
              "      <td>0.065370</td>\n",
              "      <td>0.889342</td>\n",
              "      <td>0.695457</td>\n",
              "      <td>0.733308</td>\n",
              "      <td>-1.310849</td>\n",
              "      <td>0.564230</td>\n",
              "      <td>-1.084652</td>\n",
              "      <td>0.818661</td>\n",
              "    </tr>\n",
              "  </tbody>\n",
              "</table>\n",
              "<p>5 rows × 400 columns</p>\n",
              "</div>\n",
              "      <button class=\"colab-df-convert\" onclick=\"convertToInteractive('df-252e3470-3c10-4325-87b0-ce6cab5352fc')\"\n",
              "              title=\"Convert this dataframe to an interactive table.\"\n",
              "              style=\"display:none;\">\n",
              "        \n",
              "  <svg xmlns=\"http://www.w3.org/2000/svg\" height=\"24px\"viewBox=\"0 0 24 24\"\n",
              "       width=\"24px\">\n",
              "    <path d=\"M0 0h24v24H0V0z\" fill=\"none\"/>\n",
              "    <path d=\"M18.56 5.44l.94 2.06.94-2.06 2.06-.94-2.06-.94-.94-2.06-.94 2.06-2.06.94zm-11 1L8.5 8.5l.94-2.06 2.06-.94-2.06-.94L8.5 2.5l-.94 2.06-2.06.94zm10 10l.94 2.06.94-2.06 2.06-.94-2.06-.94-.94-2.06-.94 2.06-2.06.94z\"/><path d=\"M17.41 7.96l-1.37-1.37c-.4-.4-.92-.59-1.43-.59-.52 0-1.04.2-1.43.59L10.3 9.45l-7.72 7.72c-.78.78-.78 2.05 0 2.83L4 21.41c.39.39.9.59 1.41.59.51 0 1.02-.2 1.41-.59l7.78-7.78 2.81-2.81c.8-.78.8-2.07 0-2.86zM5.41 20L4 18.59l7.72-7.72 1.47 1.35L5.41 20z\"/>\n",
              "  </svg>\n",
              "      </button>\n",
              "      \n",
              "  <style>\n",
              "    .colab-df-container {\n",
              "      display:flex;\n",
              "      flex-wrap:wrap;\n",
              "      gap: 12px;\n",
              "    }\n",
              "\n",
              "    .colab-df-convert {\n",
              "      background-color: #E8F0FE;\n",
              "      border: none;\n",
              "      border-radius: 50%;\n",
              "      cursor: pointer;\n",
              "      display: none;\n",
              "      fill: #1967D2;\n",
              "      height: 32px;\n",
              "      padding: 0 0 0 0;\n",
              "      width: 32px;\n",
              "    }\n",
              "\n",
              "    .colab-df-convert:hover {\n",
              "      background-color: #E2EBFA;\n",
              "      box-shadow: 0px 1px 2px rgba(60, 64, 67, 0.3), 0px 1px 3px 1px rgba(60, 64, 67, 0.15);\n",
              "      fill: #174EA6;\n",
              "    }\n",
              "\n",
              "    [theme=dark] .colab-df-convert {\n",
              "      background-color: #3B4455;\n",
              "      fill: #D2E3FC;\n",
              "    }\n",
              "\n",
              "    [theme=dark] .colab-df-convert:hover {\n",
              "      background-color: #434B5C;\n",
              "      box-shadow: 0px 1px 3px 1px rgba(0, 0, 0, 0.15);\n",
              "      filter: drop-shadow(0px 1px 2px rgba(0, 0, 0, 0.3));\n",
              "      fill: #FFFFFF;\n",
              "    }\n",
              "  </style>\n",
              "\n",
              "      <script>\n",
              "        const buttonEl =\n",
              "          document.querySelector('#df-252e3470-3c10-4325-87b0-ce6cab5352fc button.colab-df-convert');\n",
              "        buttonEl.style.display =\n",
              "          google.colab.kernel.accessAllowed ? 'block' : 'none';\n",
              "\n",
              "        async function convertToInteractive(key) {\n",
              "          const element = document.querySelector('#df-252e3470-3c10-4325-87b0-ce6cab5352fc');\n",
              "          const dataTable =\n",
              "            await google.colab.kernel.invokeFunction('convertToInteractive',\n",
              "                                                     [key], {});\n",
              "          if (!dataTable) return;\n",
              "\n",
              "          const docLinkHtml = 'Like what you see? Visit the ' +\n",
              "            '<a target=\"_blank\" href=https://colab.research.google.com/notebooks/data_table.ipynb>data table notebook</a>'\n",
              "            + ' to learn more about interactive tables.';\n",
              "          element.innerHTML = '';\n",
              "          dataTable['output_type'] = 'display_data';\n",
              "          await google.colab.output.renderOutput(dataTable, element);\n",
              "          const docLink = document.createElement('div');\n",
              "          docLink.innerHTML = docLinkHtml;\n",
              "          element.appendChild(docLink);\n",
              "        }\n",
              "      </script>\n",
              "    </div>\n",
              "  </div>\n",
              "  "
            ]
          },
          "metadata": {},
          "execution_count": 21
        }
      ]
    },
    {
      "cell_type": "markdown",
      "source": [
        "## Testset"
      ],
      "metadata": {
        "id": "6kBzvWBa5003"
      }
    },
    {
      "cell_type": "code",
      "source": [
        "x_test = pd.read_csv('/content/drive/MyDrive/Malware/Dataset/data_test_official.csv', header=None)"
      ],
      "metadata": {
        "id": "-QTOkwpy6GaA"
      },
      "execution_count": 26,
      "outputs": []
    },
    {
      "cell_type": "code",
      "source": [
        "x_test.shape"
      ],
      "metadata": {
        "colab": {
          "base_uri": "https://localhost:8080/"
        },
        "outputId": "2206612a-a428-4a06-caaa-60822d7910cb",
        "id": "VteJRIkT6GaB"
      },
      "execution_count": 31,
      "outputs": [
        {
          "output_type": "execute_result",
          "data": {
            "text/plain": [
              "(8000, 401)"
            ]
          },
          "metadata": {},
          "execution_count": 31
        }
      ]
    },
    {
      "cell_type": "code",
      "source": [
        "x_test.head()"
      ],
      "metadata": {
        "colab": {
          "base_uri": "https://localhost:8080/",
          "height": 299
        },
        "outputId": "3af9fee4-6b7d-4b3f-80df-cfb8ef5f68cd",
        "id": "6OyATf_n6GaE"
      },
      "execution_count": 32,
      "outputs": [
        {
          "output_type": "execute_result",
          "data": {
            "text/plain": [
              "        0         1         2         3         4         5         6    \\\n",
              "0 -0.888542  1.575895  1.275043 -0.450827 -0.627840 -0.167262  1.223774   \n",
              "1  1.429316  0.566058  2.710664  0.342154 -1.275048 -0.684542 -1.773883   \n",
              "2  0.455764 -0.027919  0.554645 -0.093089 -0.385095 -0.940665 -0.310667   \n",
              "3 -2.831887  2.639645  0.471660 -2.699237 -0.868941  0.014470 -4.027186   \n",
              "4 -0.406750  2.307284 -0.086177 -0.404274 -0.489995 -1.025793 -0.120251   \n",
              "\n",
              "        7         8         9    ...       391       392       393       394  \\\n",
              "0  0.768170 -1.719472 -0.557034  ...  0.637701 -0.650977 -0.308668  0.811133   \n",
              "1  0.495921 -2.256503  1.524341  ...  0.547909 -1.514846 -2.025887  2.312077   \n",
              "2  0.977417  0.270414 -0.276273  ...  0.775876  0.625807  0.190820  0.527961   \n",
              "3 -1.890898  2.613427 -3.761578  ...  1.861916  2.231529  0.649966  1.375158   \n",
              "4  0.877978  0.038249 -0.592351  ... -0.396082  1.041470 -1.030861 -0.734761   \n",
              "\n",
              "        395       396       397       398       399  400  \n",
              "0  0.426760 -0.912017 -0.729158  0.457426  0.349104    0  \n",
              "1  2.481312 -1.731262 -0.724005 -3.118957 -1.686438    0  \n",
              "2 -0.770114 -1.298471  0.917654 -0.893460  0.632201    0  \n",
              "3  2.932686  2.038053  1.000207 -0.104840 -1.268161    0  \n",
              "4  0.375494 -0.344731 -0.534011 -0.745580 -0.700370    0  \n",
              "\n",
              "[5 rows x 401 columns]"
            ],
            "text/html": [
              "\n",
              "  <div id=\"df-8249336a-a657-4040-81d2-bc2dd0e7c137\">\n",
              "    <div class=\"colab-df-container\">\n",
              "      <div>\n",
              "<style scoped>\n",
              "    .dataframe tbody tr th:only-of-type {\n",
              "        vertical-align: middle;\n",
              "    }\n",
              "\n",
              "    .dataframe tbody tr th {\n",
              "        vertical-align: top;\n",
              "    }\n",
              "\n",
              "    .dataframe thead th {\n",
              "        text-align: right;\n",
              "    }\n",
              "</style>\n",
              "<table border=\"1\" class=\"dataframe\">\n",
              "  <thead>\n",
              "    <tr style=\"text-align: right;\">\n",
              "      <th></th>\n",
              "      <th>0</th>\n",
              "      <th>1</th>\n",
              "      <th>2</th>\n",
              "      <th>3</th>\n",
              "      <th>4</th>\n",
              "      <th>5</th>\n",
              "      <th>6</th>\n",
              "      <th>7</th>\n",
              "      <th>8</th>\n",
              "      <th>9</th>\n",
              "      <th>...</th>\n",
              "      <th>391</th>\n",
              "      <th>392</th>\n",
              "      <th>393</th>\n",
              "      <th>394</th>\n",
              "      <th>395</th>\n",
              "      <th>396</th>\n",
              "      <th>397</th>\n",
              "      <th>398</th>\n",
              "      <th>399</th>\n",
              "      <th>400</th>\n",
              "    </tr>\n",
              "  </thead>\n",
              "  <tbody>\n",
              "    <tr>\n",
              "      <th>0</th>\n",
              "      <td>-0.888542</td>\n",
              "      <td>1.575895</td>\n",
              "      <td>1.275043</td>\n",
              "      <td>-0.450827</td>\n",
              "      <td>-0.627840</td>\n",
              "      <td>-0.167262</td>\n",
              "      <td>1.223774</td>\n",
              "      <td>0.768170</td>\n",
              "      <td>-1.719472</td>\n",
              "      <td>-0.557034</td>\n",
              "      <td>...</td>\n",
              "      <td>0.637701</td>\n",
              "      <td>-0.650977</td>\n",
              "      <td>-0.308668</td>\n",
              "      <td>0.811133</td>\n",
              "      <td>0.426760</td>\n",
              "      <td>-0.912017</td>\n",
              "      <td>-0.729158</td>\n",
              "      <td>0.457426</td>\n",
              "      <td>0.349104</td>\n",
              "      <td>0</td>\n",
              "    </tr>\n",
              "    <tr>\n",
              "      <th>1</th>\n",
              "      <td>1.429316</td>\n",
              "      <td>0.566058</td>\n",
              "      <td>2.710664</td>\n",
              "      <td>0.342154</td>\n",
              "      <td>-1.275048</td>\n",
              "      <td>-0.684542</td>\n",
              "      <td>-1.773883</td>\n",
              "      <td>0.495921</td>\n",
              "      <td>-2.256503</td>\n",
              "      <td>1.524341</td>\n",
              "      <td>...</td>\n",
              "      <td>0.547909</td>\n",
              "      <td>-1.514846</td>\n",
              "      <td>-2.025887</td>\n",
              "      <td>2.312077</td>\n",
              "      <td>2.481312</td>\n",
              "      <td>-1.731262</td>\n",
              "      <td>-0.724005</td>\n",
              "      <td>-3.118957</td>\n",
              "      <td>-1.686438</td>\n",
              "      <td>0</td>\n",
              "    </tr>\n",
              "    <tr>\n",
              "      <th>2</th>\n",
              "      <td>0.455764</td>\n",
              "      <td>-0.027919</td>\n",
              "      <td>0.554645</td>\n",
              "      <td>-0.093089</td>\n",
              "      <td>-0.385095</td>\n",
              "      <td>-0.940665</td>\n",
              "      <td>-0.310667</td>\n",
              "      <td>0.977417</td>\n",
              "      <td>0.270414</td>\n",
              "      <td>-0.276273</td>\n",
              "      <td>...</td>\n",
              "      <td>0.775876</td>\n",
              "      <td>0.625807</td>\n",
              "      <td>0.190820</td>\n",
              "      <td>0.527961</td>\n",
              "      <td>-0.770114</td>\n",
              "      <td>-1.298471</td>\n",
              "      <td>0.917654</td>\n",
              "      <td>-0.893460</td>\n",
              "      <td>0.632201</td>\n",
              "      <td>0</td>\n",
              "    </tr>\n",
              "    <tr>\n",
              "      <th>3</th>\n",
              "      <td>-2.831887</td>\n",
              "      <td>2.639645</td>\n",
              "      <td>0.471660</td>\n",
              "      <td>-2.699237</td>\n",
              "      <td>-0.868941</td>\n",
              "      <td>0.014470</td>\n",
              "      <td>-4.027186</td>\n",
              "      <td>-1.890898</td>\n",
              "      <td>2.613427</td>\n",
              "      <td>-3.761578</td>\n",
              "      <td>...</td>\n",
              "      <td>1.861916</td>\n",
              "      <td>2.231529</td>\n",
              "      <td>0.649966</td>\n",
              "      <td>1.375158</td>\n",
              "      <td>2.932686</td>\n",
              "      <td>2.038053</td>\n",
              "      <td>1.000207</td>\n",
              "      <td>-0.104840</td>\n",
              "      <td>-1.268161</td>\n",
              "      <td>0</td>\n",
              "    </tr>\n",
              "    <tr>\n",
              "      <th>4</th>\n",
              "      <td>-0.406750</td>\n",
              "      <td>2.307284</td>\n",
              "      <td>-0.086177</td>\n",
              "      <td>-0.404274</td>\n",
              "      <td>-0.489995</td>\n",
              "      <td>-1.025793</td>\n",
              "      <td>-0.120251</td>\n",
              "      <td>0.877978</td>\n",
              "      <td>0.038249</td>\n",
              "      <td>-0.592351</td>\n",
              "      <td>...</td>\n",
              "      <td>-0.396082</td>\n",
              "      <td>1.041470</td>\n",
              "      <td>-1.030861</td>\n",
              "      <td>-0.734761</td>\n",
              "      <td>0.375494</td>\n",
              "      <td>-0.344731</td>\n",
              "      <td>-0.534011</td>\n",
              "      <td>-0.745580</td>\n",
              "      <td>-0.700370</td>\n",
              "      <td>0</td>\n",
              "    </tr>\n",
              "  </tbody>\n",
              "</table>\n",
              "<p>5 rows × 401 columns</p>\n",
              "</div>\n",
              "      <button class=\"colab-df-convert\" onclick=\"convertToInteractive('df-8249336a-a657-4040-81d2-bc2dd0e7c137')\"\n",
              "              title=\"Convert this dataframe to an interactive table.\"\n",
              "              style=\"display:none;\">\n",
              "        \n",
              "  <svg xmlns=\"http://www.w3.org/2000/svg\" height=\"24px\"viewBox=\"0 0 24 24\"\n",
              "       width=\"24px\">\n",
              "    <path d=\"M0 0h24v24H0V0z\" fill=\"none\"/>\n",
              "    <path d=\"M18.56 5.44l.94 2.06.94-2.06 2.06-.94-2.06-.94-.94-2.06-.94 2.06-2.06.94zm-11 1L8.5 8.5l.94-2.06 2.06-.94-2.06-.94L8.5 2.5l-.94 2.06-2.06.94zm10 10l.94 2.06.94-2.06 2.06-.94-2.06-.94-.94-2.06-.94 2.06-2.06.94z\"/><path d=\"M17.41 7.96l-1.37-1.37c-.4-.4-.92-.59-1.43-.59-.52 0-1.04.2-1.43.59L10.3 9.45l-7.72 7.72c-.78.78-.78 2.05 0 2.83L4 21.41c.39.39.9.59 1.41.59.51 0 1.02-.2 1.41-.59l7.78-7.78 2.81-2.81c.8-.78.8-2.07 0-2.86zM5.41 20L4 18.59l7.72-7.72 1.47 1.35L5.41 20z\"/>\n",
              "  </svg>\n",
              "      </button>\n",
              "      \n",
              "  <style>\n",
              "    .colab-df-container {\n",
              "      display:flex;\n",
              "      flex-wrap:wrap;\n",
              "      gap: 12px;\n",
              "    }\n",
              "\n",
              "    .colab-df-convert {\n",
              "      background-color: #E8F0FE;\n",
              "      border: none;\n",
              "      border-radius: 50%;\n",
              "      cursor: pointer;\n",
              "      display: none;\n",
              "      fill: #1967D2;\n",
              "      height: 32px;\n",
              "      padding: 0 0 0 0;\n",
              "      width: 32px;\n",
              "    }\n",
              "\n",
              "    .colab-df-convert:hover {\n",
              "      background-color: #E2EBFA;\n",
              "      box-shadow: 0px 1px 2px rgba(60, 64, 67, 0.3), 0px 1px 3px 1px rgba(60, 64, 67, 0.15);\n",
              "      fill: #174EA6;\n",
              "    }\n",
              "\n",
              "    [theme=dark] .colab-df-convert {\n",
              "      background-color: #3B4455;\n",
              "      fill: #D2E3FC;\n",
              "    }\n",
              "\n",
              "    [theme=dark] .colab-df-convert:hover {\n",
              "      background-color: #434B5C;\n",
              "      box-shadow: 0px 1px 3px 1px rgba(0, 0, 0, 0.15);\n",
              "      filter: drop-shadow(0px 1px 2px rgba(0, 0, 0, 0.3));\n",
              "      fill: #FFFFFF;\n",
              "    }\n",
              "  </style>\n",
              "\n",
              "      <script>\n",
              "        const buttonEl =\n",
              "          document.querySelector('#df-8249336a-a657-4040-81d2-bc2dd0e7c137 button.colab-df-convert');\n",
              "        buttonEl.style.display =\n",
              "          google.colab.kernel.accessAllowed ? 'block' : 'none';\n",
              "\n",
              "        async function convertToInteractive(key) {\n",
              "          const element = document.querySelector('#df-8249336a-a657-4040-81d2-bc2dd0e7c137');\n",
              "          const dataTable =\n",
              "            await google.colab.kernel.invokeFunction('convertToInteractive',\n",
              "                                                     [key], {});\n",
              "          if (!dataTable) return;\n",
              "\n",
              "          const docLinkHtml = 'Like what you see? Visit the ' +\n",
              "            '<a target=\"_blank\" href=https://colab.research.google.com/notebooks/data_table.ipynb>data table notebook</a>'\n",
              "            + ' to learn more about interactive tables.';\n",
              "          element.innerHTML = '';\n",
              "          dataTable['output_type'] = 'display_data';\n",
              "          await google.colab.output.renderOutput(dataTable, element);\n",
              "          const docLink = document.createElement('div');\n",
              "          docLink.innerHTML = docLinkHtml;\n",
              "          element.appendChild(docLink);\n",
              "        }\n",
              "      </script>\n",
              "    </div>\n",
              "  </div>\n",
              "  "
            ]
          },
          "metadata": {},
          "execution_count": 32
        }
      ]
    },
    {
      "cell_type": "code",
      "source": [
        "y_test = x_test.iloc[:, -1] #label"
      ],
      "metadata": {
        "id": "zGyrsUps6GaF"
      },
      "execution_count": 33,
      "outputs": []
    },
    {
      "cell_type": "code",
      "source": [
        "y_test.shape"
      ],
      "metadata": {
        "colab": {
          "base_uri": "https://localhost:8080/"
        },
        "outputId": "6e3b564c-fa34-4a39-e059-94c8559301b2",
        "id": "kOTrme_I6GaG"
      },
      "execution_count": 34,
      "outputs": [
        {
          "output_type": "execute_result",
          "data": {
            "text/plain": [
              "(8000,)"
            ]
          },
          "metadata": {},
          "execution_count": 34
        }
      ]
    },
    {
      "cell_type": "code",
      "source": [
        "y_test.head()"
      ],
      "metadata": {
        "colab": {
          "base_uri": "https://localhost:8080/"
        },
        "outputId": "663ecd21-266a-4a47-80be-06464ccf15c8",
        "id": "xtChgTPO6GaH"
      },
      "execution_count": 35,
      "outputs": [
        {
          "output_type": "execute_result",
          "data": {
            "text/plain": [
              "0    0\n",
              "1    0\n",
              "2    0\n",
              "3    0\n",
              "4    0\n",
              "Name: 400, dtype: int64"
            ]
          },
          "metadata": {},
          "execution_count": 35
        }
      ]
    },
    {
      "cell_type": "markdown",
      "source": [
        "Remove label from x_train and check the shape again"
      ],
      "metadata": {
        "id": "5ITw4jQX6GaH"
      }
    },
    {
      "cell_type": "code",
      "source": [
        "x_test = x_test.iloc[:, :-1] #remove the label column"
      ],
      "metadata": {
        "id": "z6uTN3836GaI"
      },
      "execution_count": 36,
      "outputs": []
    },
    {
      "cell_type": "code",
      "source": [
        "x_test.shape"
      ],
      "metadata": {
        "colab": {
          "base_uri": "https://localhost:8080/"
        },
        "outputId": "59221e00-8240-40c8-c0b0-273cc0a5e8d5",
        "id": "Bb4Nxsab6GaJ"
      },
      "execution_count": 37,
      "outputs": [
        {
          "output_type": "execute_result",
          "data": {
            "text/plain": [
              "(8000, 400)"
            ]
          },
          "metadata": {},
          "execution_count": 37
        }
      ]
    },
    {
      "cell_type": "code",
      "source": [
        "x_test.head()"
      ],
      "metadata": {
        "colab": {
          "base_uri": "https://localhost:8080/",
          "height": 299
        },
        "outputId": "e344a3d3-9119-4bab-881a-6856de8df925",
        "id": "Lya1KD9E6GaK"
      },
      "execution_count": 39,
      "outputs": [
        {
          "output_type": "execute_result",
          "data": {
            "text/plain": [
              "        0         1         2         3         4         5         6    \\\n",
              "0 -0.888542  1.575895  1.275043 -0.450827 -0.627840 -0.167262  1.223774   \n",
              "1  1.429316  0.566058  2.710664  0.342154 -1.275048 -0.684542 -1.773883   \n",
              "2  0.455764 -0.027919  0.554645 -0.093089 -0.385095 -0.940665 -0.310667   \n",
              "3 -2.831887  2.639645  0.471660 -2.699237 -0.868941  0.014470 -4.027186   \n",
              "4 -0.406750  2.307284 -0.086177 -0.404274 -0.489995 -1.025793 -0.120251   \n",
              "\n",
              "        7         8         9    ...       390       391       392       393  \\\n",
              "0  0.768170 -1.719472 -0.557034  ... -0.221378  0.637701 -0.650977 -0.308668   \n",
              "1  0.495921 -2.256503  1.524341  ... -1.571214  0.547909 -1.514846 -2.025887   \n",
              "2  0.977417  0.270414 -0.276273  ... -0.381113  0.775876  0.625807  0.190820   \n",
              "3 -1.890898  2.613427 -3.761578  ... -0.471033  1.861916  2.231529  0.649966   \n",
              "4  0.877978  0.038249 -0.592351  ... -0.559309 -0.396082  1.041470 -1.030861   \n",
              "\n",
              "        394       395       396       397       398       399  \n",
              "0  0.811133  0.426760 -0.912017 -0.729158  0.457426  0.349104  \n",
              "1  2.312077  2.481312 -1.731262 -0.724005 -3.118957 -1.686438  \n",
              "2  0.527961 -0.770114 -1.298471  0.917654 -0.893460  0.632201  \n",
              "3  1.375158  2.932686  2.038053  1.000207 -0.104840 -1.268161  \n",
              "4 -0.734761  0.375494 -0.344731 -0.534011 -0.745580 -0.700370  \n",
              "\n",
              "[5 rows x 400 columns]"
            ],
            "text/html": [
              "\n",
              "  <div id=\"df-99ab45ad-c6d4-4940-ac2c-7fc7965c6693\">\n",
              "    <div class=\"colab-df-container\">\n",
              "      <div>\n",
              "<style scoped>\n",
              "    .dataframe tbody tr th:only-of-type {\n",
              "        vertical-align: middle;\n",
              "    }\n",
              "\n",
              "    .dataframe tbody tr th {\n",
              "        vertical-align: top;\n",
              "    }\n",
              "\n",
              "    .dataframe thead th {\n",
              "        text-align: right;\n",
              "    }\n",
              "</style>\n",
              "<table border=\"1\" class=\"dataframe\">\n",
              "  <thead>\n",
              "    <tr style=\"text-align: right;\">\n",
              "      <th></th>\n",
              "      <th>0</th>\n",
              "      <th>1</th>\n",
              "      <th>2</th>\n",
              "      <th>3</th>\n",
              "      <th>4</th>\n",
              "      <th>5</th>\n",
              "      <th>6</th>\n",
              "      <th>7</th>\n",
              "      <th>8</th>\n",
              "      <th>9</th>\n",
              "      <th>...</th>\n",
              "      <th>390</th>\n",
              "      <th>391</th>\n",
              "      <th>392</th>\n",
              "      <th>393</th>\n",
              "      <th>394</th>\n",
              "      <th>395</th>\n",
              "      <th>396</th>\n",
              "      <th>397</th>\n",
              "      <th>398</th>\n",
              "      <th>399</th>\n",
              "    </tr>\n",
              "  </thead>\n",
              "  <tbody>\n",
              "    <tr>\n",
              "      <th>0</th>\n",
              "      <td>-0.888542</td>\n",
              "      <td>1.575895</td>\n",
              "      <td>1.275043</td>\n",
              "      <td>-0.450827</td>\n",
              "      <td>-0.627840</td>\n",
              "      <td>-0.167262</td>\n",
              "      <td>1.223774</td>\n",
              "      <td>0.768170</td>\n",
              "      <td>-1.719472</td>\n",
              "      <td>-0.557034</td>\n",
              "      <td>...</td>\n",
              "      <td>-0.221378</td>\n",
              "      <td>0.637701</td>\n",
              "      <td>-0.650977</td>\n",
              "      <td>-0.308668</td>\n",
              "      <td>0.811133</td>\n",
              "      <td>0.426760</td>\n",
              "      <td>-0.912017</td>\n",
              "      <td>-0.729158</td>\n",
              "      <td>0.457426</td>\n",
              "      <td>0.349104</td>\n",
              "    </tr>\n",
              "    <tr>\n",
              "      <th>1</th>\n",
              "      <td>1.429316</td>\n",
              "      <td>0.566058</td>\n",
              "      <td>2.710664</td>\n",
              "      <td>0.342154</td>\n",
              "      <td>-1.275048</td>\n",
              "      <td>-0.684542</td>\n",
              "      <td>-1.773883</td>\n",
              "      <td>0.495921</td>\n",
              "      <td>-2.256503</td>\n",
              "      <td>1.524341</td>\n",
              "      <td>...</td>\n",
              "      <td>-1.571214</td>\n",
              "      <td>0.547909</td>\n",
              "      <td>-1.514846</td>\n",
              "      <td>-2.025887</td>\n",
              "      <td>2.312077</td>\n",
              "      <td>2.481312</td>\n",
              "      <td>-1.731262</td>\n",
              "      <td>-0.724005</td>\n",
              "      <td>-3.118957</td>\n",
              "      <td>-1.686438</td>\n",
              "    </tr>\n",
              "    <tr>\n",
              "      <th>2</th>\n",
              "      <td>0.455764</td>\n",
              "      <td>-0.027919</td>\n",
              "      <td>0.554645</td>\n",
              "      <td>-0.093089</td>\n",
              "      <td>-0.385095</td>\n",
              "      <td>-0.940665</td>\n",
              "      <td>-0.310667</td>\n",
              "      <td>0.977417</td>\n",
              "      <td>0.270414</td>\n",
              "      <td>-0.276273</td>\n",
              "      <td>...</td>\n",
              "      <td>-0.381113</td>\n",
              "      <td>0.775876</td>\n",
              "      <td>0.625807</td>\n",
              "      <td>0.190820</td>\n",
              "      <td>0.527961</td>\n",
              "      <td>-0.770114</td>\n",
              "      <td>-1.298471</td>\n",
              "      <td>0.917654</td>\n",
              "      <td>-0.893460</td>\n",
              "      <td>0.632201</td>\n",
              "    </tr>\n",
              "    <tr>\n",
              "      <th>3</th>\n",
              "      <td>-2.831887</td>\n",
              "      <td>2.639645</td>\n",
              "      <td>0.471660</td>\n",
              "      <td>-2.699237</td>\n",
              "      <td>-0.868941</td>\n",
              "      <td>0.014470</td>\n",
              "      <td>-4.027186</td>\n",
              "      <td>-1.890898</td>\n",
              "      <td>2.613427</td>\n",
              "      <td>-3.761578</td>\n",
              "      <td>...</td>\n",
              "      <td>-0.471033</td>\n",
              "      <td>1.861916</td>\n",
              "      <td>2.231529</td>\n",
              "      <td>0.649966</td>\n",
              "      <td>1.375158</td>\n",
              "      <td>2.932686</td>\n",
              "      <td>2.038053</td>\n",
              "      <td>1.000207</td>\n",
              "      <td>-0.104840</td>\n",
              "      <td>-1.268161</td>\n",
              "    </tr>\n",
              "    <tr>\n",
              "      <th>4</th>\n",
              "      <td>-0.406750</td>\n",
              "      <td>2.307284</td>\n",
              "      <td>-0.086177</td>\n",
              "      <td>-0.404274</td>\n",
              "      <td>-0.489995</td>\n",
              "      <td>-1.025793</td>\n",
              "      <td>-0.120251</td>\n",
              "      <td>0.877978</td>\n",
              "      <td>0.038249</td>\n",
              "      <td>-0.592351</td>\n",
              "      <td>...</td>\n",
              "      <td>-0.559309</td>\n",
              "      <td>-0.396082</td>\n",
              "      <td>1.041470</td>\n",
              "      <td>-1.030861</td>\n",
              "      <td>-0.734761</td>\n",
              "      <td>0.375494</td>\n",
              "      <td>-0.344731</td>\n",
              "      <td>-0.534011</td>\n",
              "      <td>-0.745580</td>\n",
              "      <td>-0.700370</td>\n",
              "    </tr>\n",
              "  </tbody>\n",
              "</table>\n",
              "<p>5 rows × 400 columns</p>\n",
              "</div>\n",
              "      <button class=\"colab-df-convert\" onclick=\"convertToInteractive('df-99ab45ad-c6d4-4940-ac2c-7fc7965c6693')\"\n",
              "              title=\"Convert this dataframe to an interactive table.\"\n",
              "              style=\"display:none;\">\n",
              "        \n",
              "  <svg xmlns=\"http://www.w3.org/2000/svg\" height=\"24px\"viewBox=\"0 0 24 24\"\n",
              "       width=\"24px\">\n",
              "    <path d=\"M0 0h24v24H0V0z\" fill=\"none\"/>\n",
              "    <path d=\"M18.56 5.44l.94 2.06.94-2.06 2.06-.94-2.06-.94-.94-2.06-.94 2.06-2.06.94zm-11 1L8.5 8.5l.94-2.06 2.06-.94-2.06-.94L8.5 2.5l-.94 2.06-2.06.94zm10 10l.94 2.06.94-2.06 2.06-.94-2.06-.94-.94-2.06-.94 2.06-2.06.94z\"/><path d=\"M17.41 7.96l-1.37-1.37c-.4-.4-.92-.59-1.43-.59-.52 0-1.04.2-1.43.59L10.3 9.45l-7.72 7.72c-.78.78-.78 2.05 0 2.83L4 21.41c.39.39.9.59 1.41.59.51 0 1.02-.2 1.41-.59l7.78-7.78 2.81-2.81c.8-.78.8-2.07 0-2.86zM5.41 20L4 18.59l7.72-7.72 1.47 1.35L5.41 20z\"/>\n",
              "  </svg>\n",
              "      </button>\n",
              "      \n",
              "  <style>\n",
              "    .colab-df-container {\n",
              "      display:flex;\n",
              "      flex-wrap:wrap;\n",
              "      gap: 12px;\n",
              "    }\n",
              "\n",
              "    .colab-df-convert {\n",
              "      background-color: #E8F0FE;\n",
              "      border: none;\n",
              "      border-radius: 50%;\n",
              "      cursor: pointer;\n",
              "      display: none;\n",
              "      fill: #1967D2;\n",
              "      height: 32px;\n",
              "      padding: 0 0 0 0;\n",
              "      width: 32px;\n",
              "    }\n",
              "\n",
              "    .colab-df-convert:hover {\n",
              "      background-color: #E2EBFA;\n",
              "      box-shadow: 0px 1px 2px rgba(60, 64, 67, 0.3), 0px 1px 3px 1px rgba(60, 64, 67, 0.15);\n",
              "      fill: #174EA6;\n",
              "    }\n",
              "\n",
              "    [theme=dark] .colab-df-convert {\n",
              "      background-color: #3B4455;\n",
              "      fill: #D2E3FC;\n",
              "    }\n",
              "\n",
              "    [theme=dark] .colab-df-convert:hover {\n",
              "      background-color: #434B5C;\n",
              "      box-shadow: 0px 1px 3px 1px rgba(0, 0, 0, 0.15);\n",
              "      filter: drop-shadow(0px 1px 2px rgba(0, 0, 0, 0.3));\n",
              "      fill: #FFFFFF;\n",
              "    }\n",
              "  </style>\n",
              "\n",
              "      <script>\n",
              "        const buttonEl =\n",
              "          document.querySelector('#df-99ab45ad-c6d4-4940-ac2c-7fc7965c6693 button.colab-df-convert');\n",
              "        buttonEl.style.display =\n",
              "          google.colab.kernel.accessAllowed ? 'block' : 'none';\n",
              "\n",
              "        async function convertToInteractive(key) {\n",
              "          const element = document.querySelector('#df-99ab45ad-c6d4-4940-ac2c-7fc7965c6693');\n",
              "          const dataTable =\n",
              "            await google.colab.kernel.invokeFunction('convertToInteractive',\n",
              "                                                     [key], {});\n",
              "          if (!dataTable) return;\n",
              "\n",
              "          const docLinkHtml = 'Like what you see? Visit the ' +\n",
              "            '<a target=\"_blank\" href=https://colab.research.google.com/notebooks/data_table.ipynb>data table notebook</a>'\n",
              "            + ' to learn more about interactive tables.';\n",
              "          element.innerHTML = '';\n",
              "          dataTable['output_type'] = 'display_data';\n",
              "          await google.colab.output.renderOutput(dataTable, element);\n",
              "          const docLink = document.createElement('div');\n",
              "          docLink.innerHTML = docLinkHtml;\n",
              "          element.appendChild(docLink);\n",
              "        }\n",
              "      </script>\n",
              "    </div>\n",
              "  </div>\n",
              "  "
            ]
          },
          "metadata": {},
          "execution_count": 39
        }
      ]
    },
    {
      "cell_type": "markdown",
      "source": [
        "# Train model"
      ],
      "metadata": {
        "id": "LN33Uqrs2eEE"
      }
    },
    {
      "cell_type": "markdown",
      "source": [
        "## MLP"
      ],
      "metadata": {
        "id": "fBSoolsl2h8-"
      }
    },
    {
      "cell_type": "code",
      "source": [
        "mlp = MLPClassifier(solver='adam', max_iter=40, random_state=1)"
      ],
      "metadata": {
        "id": "Ah9zsZnz2hjf"
      },
      "execution_count": 23,
      "outputs": []
    },
    {
      "cell_type": "code",
      "source": [
        "mlp.fit(x_train, y_train)"
      ],
      "metadata": {
        "colab": {
          "base_uri": "https://localhost:8080/",
          "height": 74
        },
        "id": "uONHf3lD5kBs",
        "outputId": "f99eeec4-3203-4002-9f4a-3fed164a879c"
      },
      "execution_count": 24,
      "outputs": [
        {
          "output_type": "execute_result",
          "data": {
            "text/plain": [
              "MLPClassifier(max_iter=40, random_state=1)"
            ],
            "text/html": [
              "<style>#sk-container-id-1 {color: black;background-color: white;}#sk-container-id-1 pre{padding: 0;}#sk-container-id-1 div.sk-toggleable {background-color: white;}#sk-container-id-1 label.sk-toggleable__label {cursor: pointer;display: block;width: 100%;margin-bottom: 0;padding: 0.3em;box-sizing: border-box;text-align: center;}#sk-container-id-1 label.sk-toggleable__label-arrow:before {content: \"▸\";float: left;margin-right: 0.25em;color: #696969;}#sk-container-id-1 label.sk-toggleable__label-arrow:hover:before {color: black;}#sk-container-id-1 div.sk-estimator:hover label.sk-toggleable__label-arrow:before {color: black;}#sk-container-id-1 div.sk-toggleable__content {max-height: 0;max-width: 0;overflow: hidden;text-align: left;background-color: #f0f8ff;}#sk-container-id-1 div.sk-toggleable__content pre {margin: 0.2em;color: black;border-radius: 0.25em;background-color: #f0f8ff;}#sk-container-id-1 input.sk-toggleable__control:checked~div.sk-toggleable__content {max-height: 200px;max-width: 100%;overflow: auto;}#sk-container-id-1 input.sk-toggleable__control:checked~label.sk-toggleable__label-arrow:before {content: \"▾\";}#sk-container-id-1 div.sk-estimator input.sk-toggleable__control:checked~label.sk-toggleable__label {background-color: #d4ebff;}#sk-container-id-1 div.sk-label input.sk-toggleable__control:checked~label.sk-toggleable__label {background-color: #d4ebff;}#sk-container-id-1 input.sk-hidden--visually {border: 0;clip: rect(1px 1px 1px 1px);clip: rect(1px, 1px, 1px, 1px);height: 1px;margin: -1px;overflow: hidden;padding: 0;position: absolute;width: 1px;}#sk-container-id-1 div.sk-estimator {font-family: monospace;background-color: #f0f8ff;border: 1px dotted black;border-radius: 0.25em;box-sizing: border-box;margin-bottom: 0.5em;}#sk-container-id-1 div.sk-estimator:hover {background-color: #d4ebff;}#sk-container-id-1 div.sk-parallel-item::after {content: \"\";width: 100%;border-bottom: 1px solid gray;flex-grow: 1;}#sk-container-id-1 div.sk-label:hover label.sk-toggleable__label {background-color: #d4ebff;}#sk-container-id-1 div.sk-serial::before {content: \"\";position: absolute;border-left: 1px solid gray;box-sizing: border-box;top: 0;bottom: 0;left: 50%;z-index: 0;}#sk-container-id-1 div.sk-serial {display: flex;flex-direction: column;align-items: center;background-color: white;padding-right: 0.2em;padding-left: 0.2em;position: relative;}#sk-container-id-1 div.sk-item {position: relative;z-index: 1;}#sk-container-id-1 div.sk-parallel {display: flex;align-items: stretch;justify-content: center;background-color: white;position: relative;}#sk-container-id-1 div.sk-item::before, #sk-container-id-1 div.sk-parallel-item::before {content: \"\";position: absolute;border-left: 1px solid gray;box-sizing: border-box;top: 0;bottom: 0;left: 50%;z-index: -1;}#sk-container-id-1 div.sk-parallel-item {display: flex;flex-direction: column;z-index: 1;position: relative;background-color: white;}#sk-container-id-1 div.sk-parallel-item:first-child::after {align-self: flex-end;width: 50%;}#sk-container-id-1 div.sk-parallel-item:last-child::after {align-self: flex-start;width: 50%;}#sk-container-id-1 div.sk-parallel-item:only-child::after {width: 0;}#sk-container-id-1 div.sk-dashed-wrapped {border: 1px dashed gray;margin: 0 0.4em 0.5em 0.4em;box-sizing: border-box;padding-bottom: 0.4em;background-color: white;}#sk-container-id-1 div.sk-label label {font-family: monospace;font-weight: bold;display: inline-block;line-height: 1.2em;}#sk-container-id-1 div.sk-label-container {text-align: center;}#sk-container-id-1 div.sk-container {/* jupyter's `normalize.less` sets `[hidden] { display: none; }` but bootstrap.min.css set `[hidden] { display: none !important; }` so we also need the `!important` here to be able to override the default hidden behavior on the sphinx rendered scikit-learn.org. See: https://github.com/scikit-learn/scikit-learn/issues/21755 */display: inline-block !important;position: relative;}#sk-container-id-1 div.sk-text-repr-fallback {display: none;}</style><div id=\"sk-container-id-1\" class=\"sk-top-container\"><div class=\"sk-text-repr-fallback\"><pre>MLPClassifier(max_iter=40, random_state=1)</pre><b>In a Jupyter environment, please rerun this cell to show the HTML representation or trust the notebook. <br />On GitHub, the HTML representation is unable to render, please try loading this page with nbviewer.org.</b></div><div class=\"sk-container\" hidden><div class=\"sk-item\"><div class=\"sk-estimator sk-toggleable\"><input class=\"sk-toggleable__control sk-hidden--visually\" id=\"sk-estimator-id-1\" type=\"checkbox\" checked><label for=\"sk-estimator-id-1\" class=\"sk-toggleable__label sk-toggleable__label-arrow\">MLPClassifier</label><div class=\"sk-toggleable__content\"><pre>MLPClassifier(max_iter=40, random_state=1)</pre></div></div></div></div></div>"
            ]
          },
          "metadata": {},
          "execution_count": 24
        }
      ]
    },
    {
      "cell_type": "code",
      "source": [
        "evaluation(y_train, mlp.predict(x_train))"
      ],
      "metadata": {
        "colab": {
          "base_uri": "https://localhost:8080/",
          "height": 695
        },
        "id": "-NDKqx-S8VvQ",
        "outputId": "2b2573ea-0e38-4c70-e339-00df27a3281a"
      },
      "execution_count": 47,
      "outputs": [
        {
          "output_type": "stream",
          "name": "stdout",
          "text": [
            "Misclassified samples: 0\n",
            "Classification Report:\n",
            "              precision    recall  f1-score   support\n",
            "\n",
            "           0       1.00      1.00      1.00      6000\n",
            "           1       1.00      1.00      1.00      6000\n",
            "\n",
            "    accuracy                           1.00     12000\n",
            "   macro avg       1.00      1.00      1.00     12000\n",
            "weighted avg       1.00      1.00      1.00     12000\n",
            "\n",
            "Accuracy: 100.0\n",
            "Precision: 1.0\n",
            "Recall: 1.0\n",
            "F1: 1.0\n"
          ]
        },
        {
          "output_type": "display_data",
          "data": {
            "text/plain": [
              "<Figure size 640x480 with 2 Axes>"
            ],
            "image/png": "[encoded data removed]"
          },
          "metadata": {}
        }
      ]
    },
    {
      "cell_type": "markdown",
      "source": [
        "## XGB"
      ],
      "metadata": {
        "id": "87sOtQ3A2sZO"
      }
    },
    {
      "cell_type": "code",
      "source": [
        "# create model instance\n",
        "xgb = XGBClassifier(min_child_weight = 11, subsample= 0.5, colsample_bytree= 0.7)"
      ],
      "metadata": {
        "id": "1RJHsKg72svF"
      },
      "execution_count": 42,
      "outputs": []
    },
    {
      "cell_type": "code",
      "source": [
        "# fit model\n",
        "xgb.fit(x_train, y_train)"
      ],
      "metadata": {
        "colab": {
          "base_uri": "https://localhost:8080/",
          "height": 248
        },
        "id": "4lPiOywr75m8",
        "outputId": "77e6b95d-2cf8-47fa-eef8-bc2b7d7c4c32"
      },
      "execution_count": 43,
      "outputs": [
        {
          "output_type": "execute_result",
          "data": {
            "text/plain": [
              "XGBClassifier(base_score=None, booster=None, callbacks=None,\n",
              "              colsample_bylevel=None, colsample_bynode=None,\n",
              "              colsample_bytree=0.7, early_stopping_rounds=None,\n",
              "              enable_categorical=False, eval_metric=None, feature_types=None,\n",
              "              gamma=None, gpu_id=None, grow_policy=None, importance_type=None,\n",
              "              interaction_constraints=None, learning_rate=None, max_bin=None,\n",
              "              max_cat_threshold=None, max_cat_to_onehot=None,\n",
              "              max_delta_step=None, max_depth=None, max_leaves=None,\n",
              "              min_child_weight=11, missing=nan, monotone_constraints=None,\n",
              "              n_estimators=100, n_jobs=None, num_parallel_tree=None,\n",
              "              predictor=None, random_state=None, ...)"
            ],
            "text/html": [
              "<style>#sk-container-id-2 {color: black;background-color: white;}#sk-container-id-2 pre{padding: 0;}#sk-container-id-2 div.sk-toggleable {background-color: white;}#sk-container-id-2 label.sk-toggleable__label {cursor: pointer;display: block;width: 100%;margin-bottom: 0;padding: 0.3em;box-sizing: border-box;text-align: center;}#sk-container-id-2 label.sk-toggleable__label-arrow:before {content: \"▸\";float: left;margin-right: 0.25em;color: #696969;}#sk-container-id-2 label.sk-toggleable__label-arrow:hover:before {color: black;}#sk-container-id-2 div.sk-estimator:hover label.sk-toggleable__label-arrow:before {color: black;}#sk-container-id-2 div.sk-toggleable__content {max-height: 0;max-width: 0;overflow: hidden;text-align: left;background-color: #f0f8ff;}#sk-container-id-2 div.sk-toggleable__content pre {margin: 0.2em;color: black;border-radius: 0.25em;background-color: #f0f8ff;}#sk-container-id-2 input.sk-toggleable__control:checked~div.sk-toggleable__content {max-height: 200px;max-width: 100%;overflow: auto;}#sk-container-id-2 input.sk-toggleable__control:checked~label.sk-toggleable__label-arrow:before {content: \"▾\";}#sk-container-id-2 div.sk-estimator input.sk-toggleable__control:checked~label.sk-toggleable__label {background-color: #d4ebff;}#sk-container-id-2 div.sk-label input.sk-toggleable__control:checked~label.sk-toggleable__label {background-color: #d4ebff;}#sk-container-id-2 input.sk-hidden--visually {border: 0;clip: rect(1px 1px 1px 1px);clip: rect(1px, 1px, 1px, 1px);height: 1px;margin: -1px;overflow: hidden;padding: 0;position: absolute;width: 1px;}#sk-container-id-2 div.sk-estimator {font-family: monospace;background-color: #f0f8ff;border: 1px dotted black;border-radius: 0.25em;box-sizing: border-box;margin-bottom: 0.5em;}#sk-container-id-2 div.sk-estimator:hover {background-color: #d4ebff;}#sk-container-id-2 div.sk-parallel-item::after {content: \"\";width: 100%;border-bottom: 1px solid gray;flex-grow: 1;}#sk-container-id-2 div.sk-label:hover label.sk-toggleable__label {background-color: #d4ebff;}#sk-container-id-2 div.sk-serial::before {content: \"\";position: absolute;border-left: 1px solid gray;box-sizing: border-box;top: 0;bottom: 0;left: 50%;z-index: 0;}#sk-container-id-2 div.sk-serial {display: flex;flex-direction: column;align-items: center;background-color: white;padding-right: 0.2em;padding-left: 0.2em;position: relative;}#sk-container-id-2 div.sk-item {position: relative;z-index: 1;}#sk-container-id-2 div.sk-parallel {display: flex;align-items: stretch;justify-content: center;background-color: white;position: relative;}#sk-container-id-2 div.sk-item::before, #sk-container-id-2 div.sk-parallel-item::before {content: \"\";position: absolute;border-left: 1px solid gray;box-sizing: border-box;top: 0;bottom: 0;left: 50%;z-index: -1;}#sk-container-id-2 div.sk-parallel-item {display: flex;flex-direction: column;z-index: 1;position: relative;background-color: white;}#sk-container-id-2 div.sk-parallel-item:first-child::after {align-self: flex-end;width: 50%;}#sk-container-id-2 div.sk-parallel-item:last-child::after {align-self: flex-start;width: 50%;}#sk-container-id-2 div.sk-parallel-item:only-child::after {width: 0;}#sk-container-id-2 div.sk-dashed-wrapped {border: 1px dashed gray;margin: 0 0.4em 0.5em 0.4em;box-sizing: border-box;padding-bottom: 0.4em;background-color: white;}#sk-container-id-2 div.sk-label label {font-family: monospace;font-weight: bold;display: inline-block;line-height: 1.2em;}#sk-container-id-2 div.sk-label-container {text-align: center;}#sk-container-id-2 div.sk-container {/* jupyter's `normalize.less` sets `[hidden] { display: none; }` but bootstrap.min.css set `[hidden] { display: none !important; }` so we also need the `!important` here to be able to override the default hidden behavior on the sphinx rendered scikit-learn.org. See: https://github.com/scikit-learn/scikit-learn/issues/21755 */display: inline-block !important;position: relative;}#sk-container-id-2 div.sk-text-repr-fallback {display: none;}</style><div id=\"sk-container-id-2\" class=\"sk-top-container\"><div class=\"sk-text-repr-fallback\"><pre>XGBClassifier(base_score=None, booster=None, callbacks=None,\n",
              "              colsample_bylevel=None, colsample_bynode=None,\n",
              "              colsample_bytree=0.7, early_stopping_rounds=None,\n",
              "              enable_categorical=False, eval_metric=None, feature_types=None,\n",
              "              gamma=None, gpu_id=None, grow_policy=None, importance_type=None,\n",
              "              interaction_constraints=None, learning_rate=None, max_bin=None,\n",
              "              max_cat_threshold=None, max_cat_to_onehot=None,\n",
              "              max_delta_step=None, max_depth=None, max_leaves=None,\n",
              "              min_child_weight=11, missing=nan, monotone_constraints=None,\n",
              "              n_estimators=100, n_jobs=None, num_parallel_tree=None,\n",
              "              predictor=None, random_state=None, ...)</pre><b>In a Jupyter environment, please rerun this cell to show the HTML representation or trust the notebook. <br />On GitHub, the HTML representation is unable to render, please try loading this page with nbviewer.org.</b></div><div class=\"sk-container\" hidden><div class=\"sk-item\"><div class=\"sk-estimator sk-toggleable\"><input class=\"sk-toggleable__control sk-hidden--visually\" id=\"sk-estimator-id-2\" type=\"checkbox\" checked><label for=\"sk-estimator-id-2\" class=\"sk-toggleable__label sk-toggleable__label-arrow\">XGBClassifier</label><div class=\"sk-toggleable__content\"><pre>XGBClassifier(base_score=None, booster=None, callbacks=None,\n",
              "              colsample_bylevel=None, colsample_bynode=None,\n",
              "              colsample_bytree=0.7, early_stopping_rounds=None,\n",
              "              enable_categorical=False, eval_metric=None, feature_types=None,\n",
              "              gamma=None, gpu_id=None, grow_policy=None, importance_type=None,\n",
              "              interaction_constraints=None, learning_rate=None, max_bin=None,\n",
              "              max_cat_threshold=None, max_cat_to_onehot=None,\n",
              "              max_delta_step=None, max_depth=None, max_leaves=None,\n",
              "              min_child_weight=11, missing=nan, monotone_constraints=None,\n",
              "              n_estimators=100, n_jobs=None, num_parallel_tree=None,\n",
              "              predictor=None, random_state=None, ...)</pre></div></div></div></div></div>"
            ]
          },
          "metadata": {},
          "execution_count": 43
        }
      ]
    },
    {
      "cell_type": "code",
      "source": [
        "evaluation(y_train, xgb.predict(x_train))"
      ],
      "metadata": {
        "colab": {
          "base_uri": "https://localhost:8080/",
          "height": 695
        },
        "id": "v_67O8Mb8NXo",
        "outputId": "6a6a6ff5-6eff-4d88-e372-e3a49ef8fbc0"
      },
      "execution_count": 46,
      "outputs": [
        {
          "output_type": "stream",
          "name": "stdout",
          "text": [
            "Misclassified samples: 1\n",
            "Classification Report:\n",
            "              precision    recall  f1-score   support\n",
            "\n",
            "           0       1.00      1.00      1.00      6000\n",
            "           1       1.00      1.00      1.00      6000\n",
            "\n",
            "    accuracy                           1.00     12000\n",
            "   macro avg       1.00      1.00      1.00     12000\n",
            "weighted avg       1.00      1.00      1.00     12000\n",
            "\n",
            "Accuracy: 99.99166666666667\n",
            "Precision: 0.999916680553241\n",
            "Recall: 0.9999166666666667\n",
            "F1: 0.9999166666660879\n"
          ]
        },
        {
          "output_type": "display_data",
          "data": {
            "text/plain": [
              "<Figure size 640x480 with 2 Axes>"
            ],
            "image/png": "[encoded data removed]"
          },
          "metadata": {}
        }
      ]
    },
    {
      "cell_type": "markdown",
      "source": [
        "# Predict & evalute on testset"
      ],
      "metadata": {
        "id": "y4YI9mY-6qxS"
      }
    },
    {
      "cell_type": "markdown",
      "source": [
        "## MLP"
      ],
      "metadata": {
        "id": "cbvWZfEe6w1x"
      }
    },
    {
      "cell_type": "code",
      "source": [
        "y_pred = mlp.predict(x_test)"
      ],
      "metadata": {
        "id": "Wrqmwm106vyU"
      },
      "execution_count": 40,
      "outputs": []
    },
    {
      "cell_type": "code",
      "source": [
        "evaluation(y_test, y_pred)"
      ],
      "metadata": {
        "colab": {
          "base_uri": "https://localhost:8080/",
          "height": 690
        },
        "id": "ofh8ON1163WO",
        "outputId": "596e4982-6cce-4ef4-e797-219895c31062"
      },
      "execution_count": 41,
      "outputs": [
        {
          "output_type": "stream",
          "name": "stdout",
          "text": [
            "Misclassified samples: 6\n",
            "Classification Report:\n",
            "              precision    recall  f1-score   support\n",
            "\n",
            "           0       1.00      1.00      1.00      4000\n",
            "           1       1.00      1.00      1.00      4000\n",
            "\n",
            "    accuracy                           1.00      8000\n",
            "   macro avg       1.00      1.00      1.00      8000\n",
            "weighted avg       1.00      1.00      1.00      8000\n",
            "\n",
            "Accuracy: 99.925\n",
            "Precision: 0.9992501248125312\n",
            "Recall: 0.99925\n",
            "F1: 0.999249999953125\n"
          ]
        },
        {
          "output_type": "display_data",
          "data": {
            "text/plain": [
              "<Figure size 640x480 with 2 Axes>"
            ],
            "image/png": "[encoded data removed]"
          },
          "metadata": {}
        }
      ]
    },
    {
      "cell_type": "markdown",
      "source": [
        "## XGB"
      ],
      "metadata": {
        "id": "g6LC_PQV7CnC"
      }
    },
    {
      "cell_type": "code",
      "source": [
        "# make predictions\n",
        "preds = xgb.predict(x_test)"
      ],
      "metadata": {
        "id": "KmP19zUb7D0D"
      },
      "execution_count": 44,
      "outputs": []
    },
    {
      "cell_type": "code",
      "source": [
        "evaluation(y_test, preds)"
      ],
      "metadata": {
        "colab": {
          "base_uri": "https://localhost:8080/",
          "height": 690
        },
        "id": "YrjlputQ8HL1",
        "outputId": "7ff19bc4-69dd-465a-e0fe-8c6f343dbd90"
      },
      "execution_count": 45,
      "outputs": [
        {
          "output_type": "stream",
          "name": "stdout",
          "text": [
            "Misclassified samples: 46\n",
            "Classification Report:\n",
            "              precision    recall  f1-score   support\n",
            "\n",
            "           0       1.00      0.99      0.99      4000\n",
            "           1       0.99      1.00      0.99      4000\n",
            "\n",
            "    accuracy                           0.99      8000\n",
            "   macro avg       0.99      0.99      0.99      8000\n",
            "weighted avg       0.99      0.99      0.99      8000\n",
            "\n",
            "Accuracy: 99.425\n",
            "Precision: 0.9942600087651774\n",
            "Recall: 0.99425\n",
            "F1: 0.9942499708904777\n"
          ]
        },
        {
          "output_type": "display_data",
          "data": {
            "text/plain": [
              "<Figure size 640x480 with 2 Axes>"
            ],
            "image/png": "[encoded data removed]"
          },
          "metadata": {}
        }
      ]
    },
    {
      "cell_type": "markdown",
      "source": [
        "# Save model"
      ],
      "metadata": {
        "id": "VTct4idQ8fsx"
      }
    },
    {
      "cell_type": "code",
      "source": [
        "with open('/content/drive/MyDrive/Models/Doc2Vec_MLP', 'wb') as f:\n",
        "  pickle.dump(mlp, f)"
      ],
      "metadata": {
        "id": "pR-EXwor8fYB"
      },
      "execution_count": 48,
      "outputs": []
    },
    {
      "cell_type": "code",
      "source": [
        "with open('/content/drive/MyDrive/Models/Doc2Vec_XGB', 'wb') as f:\n",
        "  pickle.dump(xgb, f)"
      ],
      "metadata": {
        "id": "AH5mJaLO9HuA"
      },
      "execution_count": 49,
      "outputs": []
    }
  ]
}