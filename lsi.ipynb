{
 "cells": [
  {
   "cell_type": "code",
   "execution_count": null,
   "metadata": {},
   "outputs": [],
   "source": [
    "from gensim import corpora\n",
    "from gensim.models import TfidfModel, LsiModel, LdaMulticore\n",
    "import logging\n",
    "logging.basicConfig(format='%(asctime)s : %(levelname)s : %(message)s', level=logging.INFO)\n",
    "from smart_open import smart_open\n",
    "from pprint import pprint"
   ]
  },
  {
   "attachments": {},
   "cell_type": "markdown",
   "metadata": {},
   "source": [
    "# Output path"
   ]
  },
  {
   "cell_type": "code",
   "execution_count": null,
   "metadata": {},
   "outputs": [],
   "source": [
    "benign_out_dict = '/home/kali/Malware_project/Benign_dict/'\n",
    "benign_out_cor = '/home/kali/Malware_project/Benign_corpus/'\n",
    "benign_out_tfidf = '/home/kali/Malware_project/Benign_tfidf/'\n",
    "benign_out_lsi = '/home/kali/Malware_project/Benign_lsi/'"
   ]
  },
  {
   "cell_type": "code",
   "execution_count": null,
   "metadata": {},
   "outputs": [],
   "source": [
    "malware_out_dict = '/home/kali/Malware_project/Malware_dict/'\n",
    "malware_out_corpus = '/home/kali/Malware_project/Malware_corpus/'\n",
    "malware_out_tfidf = '/home/kali/Malware_project/Malware_tfidf/'\n",
    "malware_out_lsi = '/home/kali/Malware_project/Malware_lsi/'"
   ]
  },
  {
   "attachments": {},
   "cell_type": "markdown",
   "metadata": {},
   "source": [
    "# Benign path"
   ]
  },
  {
   "cell_type": "code",
   "execution_count": null,
   "metadata": {},
   "outputs": [],
   "source": [
    "path_ben_dict= {}\n",
    "for i in range(1,2):\n",
    "    path_ben_dict[i] = '/home/kali/Malware_project/Benign_list/ben_train_' + str(i)\n",
    "# print(path_ben_list[2])"
   ]
  },
  {
   "attachments": {},
   "cell_type": "markdown",
   "metadata": {},
   "source": [
    "# Malware path"
   ]
  },
  {
   "cell_type": "code",
   "execution_count": null,
   "metadata": {},
   "outputs": [],
   "source": [
    "path_mal_dict = {}\n",
    "for i in range(1,21):\n",
    "    path_mal_dict[i] = '/home/kali/Malware_project/Malware_list/mal_train_' + str(i)\n",
    "# print(path_mal_dict[19])"
   ]
  },
  {
   "attachments": {},
   "cell_type": "markdown",
   "metadata": {},
   "source": [
    "# Tokenize docs"
   ]
  },
  {
   "cell_type": "code",
   "execution_count": null,
   "metadata": {},
   "outputs": [],
   "source": [
    "def Tokenize(path):\n",
    "    for line in smart_open(path, encoding='ascii'):\n",
    "        tokenize_list = line.split()\n",
    "        yield tokenize_list"
   ]
  },
  {
   "attachments": {},
   "cell_type": "markdown",
   "metadata": {},
   "source": [
    "# Create dictionary"
   ]
  },
  {
   "attachments": {},
   "cell_type": "markdown",
   "metadata": {},
   "source": [
    "# Benign"
   ]
  },
  {
   "cell_type": "code",
   "execution_count": null,
   "metadata": {},
   "outputs": [],
   "source": [
    "dict_ben = {}\n",
    "for i in range(1,2):\n",
    "    dict_ben[i] = corpora.Dictionary(Tokenize(path_ben_dict[i]))"
   ]
  },
  {
   "attachments": {},
   "cell_type": "markdown",
   "metadata": {},
   "source": [
    "# Malware"
   ]
  },
  {
   "cell_type": "code",
   "execution_count": null,
   "metadata": {},
   "outputs": [],
   "source": [
    "dict_malw = {}\n",
    "for i in range(1,21):\n",
    "    dict_malw[i] = corpora.Dictionary(Tokenize(path_mal_dict[i]))"
   ]
  },
  {
   "attachments": {},
   "cell_type": "markdown",
   "metadata": {},
   "source": [
    "# Create corpus"
   ]
  },
  {
   "attachments": {},
   "cell_type": "markdown",
   "metadata": {},
   "source": [
    "# Benign"
   ]
  },
  {
   "cell_type": "code",
   "execution_count": null,
   "metadata": {},
   "outputs": [],
   "source": [
    "BoW_corpus_ben = {}\n",
    "for i in range(1,2):\n",
    "    BoW_corpus_ben[i] = [dict_ben[i].doc2bow(token) for token in Tokenize(path_ben_dict[i])]"
   ]
  },
  {
   "attachments": {},
   "cell_type": "markdown",
   "metadata": {},
   "source": [
    "# Malware"
   ]
  },
  {
   "cell_type": "code",
   "execution_count": null,
   "metadata": {},
   "outputs": [],
   "source": [
    "BoW_corpus_mal = {}\n",
    "for i in range(1,2):\n",
    "    BoW_corpus_mal[i] = [dict_malw[i].doc2bow(token) for token in Tokenize(path_mal_dict[i])]"
   ]
  },
  {
   "attachments": {},
   "cell_type": "markdown",
   "metadata": {},
   "source": [
    "# Save dict and corpus"
   ]
  },
  {
   "attachments": {},
   "cell_type": "markdown",
   "metadata": {},
   "source": [
    "# Benign"
   ]
  },
  {
   "cell_type": "code",
   "execution_count": null,
   "metadata": {},
   "outputs": [],
   "source": [
    "# Save dictionary\n",
    "dict_ben[1].save(benign_out_dict + 'dict_ben1.dict')\n",
    "\n",
    "# Save Corpus\n",
    "corpora.MmCorpus.serialize(benign_out_cor + 'corpus_ben1.mm', BoW_corpus_ben[1])"
   ]
  },
  {
   "attachments": {},
   "cell_type": "markdown",
   "metadata": {},
   "source": [
    "# Malware"
   ]
  },
  {
   "cell_type": "code",
   "execution_count": null,
   "metadata": {},
   "outputs": [],
   "source": [
    "# Save dictionary\n",
    "dict_malw[1].save(malware_out_dict + 'dict_malw1.dict')\n",
    "\n",
    "# Save corpus\n",
    "corpora.MmCorpus.serialize(malware_out_corpus + 'corpus_malw1.mm', BoW_corpus_mal[1])"
   ]
  },
  {
   "attachments": {},
   "cell_type": "markdown",
   "metadata": {},
   "source": [
    "# Create TFIDF Model"
   ]
  },
  {
   "attachments": {},
   "cell_type": "markdown",
   "metadata": {},
   "source": [
    "# Benign"
   ]
  },
  {
   "cell_type": "code",
   "execution_count": null,
   "metadata": {},
   "outputs": [],
   "source": [
    "tfidf_benign = {}\n",
    "for i in range(1,2):\n",
    "    tfidf_benign[i] = TfidfModel(BoW_corpus_ben[i])"
   ]
  },
  {
   "attachments": {},
   "cell_type": "markdown",
   "metadata": {},
   "source": [
    "# Malware"
   ]
  },
  {
   "cell_type": "code",
   "execution_count": null,
   "metadata": {},
   "outputs": [],
   "source": [
    "tfidf_malware = {}\n",
    "for i in range(1,2):\n",
    "    tfidf_malware[i] = TfidfModel(BoW_corpus_mal[i])"
   ]
  },
  {
   "attachments": {},
   "cell_type": "markdown",
   "metadata": {},
   "source": [
    "# Save model"
   ]
  },
  {
   "attachments": {},
   "cell_type": "markdown",
   "metadata": {},
   "source": [
    "# Benign"
   ]
  },
  {
   "cell_type": "code",
   "execution_count": null,
   "metadata": {},
   "outputs": [],
   "source": [
    "tfidf_benign[1].save(benign_out_tfidf + \"tfidf_ben1.tfidf\")"
   ]
  },
  {
   "attachments": {},
   "cell_type": "markdown",
   "metadata": {},
   "source": [
    "# Malware"
   ]
  },
  {
   "cell_type": "code",
   "execution_count": null,
   "metadata": {},
   "outputs": [],
   "source": [
    "tfidf_malware[1].save(malware_out_tfidf + \"tfidf_malw_train1.tfidf\")"
   ]
  },
  {
   "attachments": {},
   "cell_type": "markdown",
   "metadata": {},
   "source": [
    "# Create TF-IDF Corpus"
   ]
  },
  {
   "attachments": {},
   "cell_type": "markdown",
   "metadata": {},
   "source": [
    "# Benign"
   ]
  },
  {
   "cell_type": "code",
   "execution_count": null,
   "metadata": {},
   "outputs": [],
   "source": [
    "tfidf_cor_ben = {}\n",
    "for i in range(1,2):\n",
    "    corpus = tfidf_benign[i]\n",
    "    bow = BoW_corpus_ben[i]\n",
    "    tfidf_cor_ben[i] = corpus[bow]"
   ]
  },
  {
   "attachments": {},
   "cell_type": "markdown",
   "metadata": {},
   "source": [
    "# Malware"
   ]
  },
  {
   "cell_type": "code",
   "execution_count": null,
   "metadata": {},
   "outputs": [],
   "source": [
    "tfidf_cor_malw = {}\n",
    "for i in range(1,2):\n",
    "    corpus = tfidf_malware[i]\n",
    "    bow = BoW_corpus_mal[i]\n",
    "    tfidf_cor_malw[i] = corpus[bow]"
   ]
  },
  {
   "attachments": {},
   "cell_type": "markdown",
   "metadata": {},
   "source": [
    "# Build LSI Model"
   ]
  },
  {
   "attachments": {},
   "cell_type": "markdown",
   "metadata": {},
   "source": [
    "# Benign"
   ]
  },
  {
   "cell_type": "code",
   "execution_count": null,
   "metadata": {},
   "outputs": [],
   "source": [
    "lsiModel_benign = LsiModel(tfidf_cor_ben[1], id2word=dict_ben, num_topics=800)"
   ]
  },
  {
   "cell_type": "code",
   "execution_count": null,
   "metadata": {},
   "outputs": [],
   "source": [
    "lsiModel_benign.save(benign_out_lsi + 'lsi_ben1.lsi')"
   ]
  },
  {
   "cell_type": "code",
   "execution_count": null,
   "metadata": {},
   "outputs": [],
   "source": [
    "lsiModel_benign.add_documents(tfidf_cor_ben[2])"
   ]
  },
  {
   "cell_type": "code",
   "execution_count": null,
   "metadata": {},
   "outputs": [],
   "source": [
    "lsiModel_benign.save(benign_out_lsi + 'lsi_ben2.lsi')"
   ]
  },
  {
   "attachments": {},
   "cell_type": "markdown",
   "metadata": {},
   "source": [
    "# Malware"
   ]
  },
  {
   "cell_type": "code",
   "execution_count": null,
   "metadata": {},
   "outputs": [],
   "source": [
    "lsiModel_malware = LsiModel(tfidf_cor_malw[1], id2word=dict_malw, num_topics=800)"
   ]
  },
  {
   "cell_type": "code",
   "execution_count": null,
   "metadata": {},
   "outputs": [],
   "source": [
    "lsiModel_malware.save(malware_out_lsi + 'lsi_malw1.lsi')"
   ]
  },
  {
   "cell_type": "code",
   "execution_count": null,
   "metadata": {},
   "outputs": [],
   "source": [
    "lsiModel_malware.add_documents(tfidf_cor_malw[2])"
   ]
  },
  {
   "cell_type": "code",
   "execution_count": null,
   "metadata": {},
   "outputs": [],
   "source": [
    "lsiModel_malware.save(malware_out_lsi + 'lsi_malw2.lsi')"
   ]
  }
 ],
 "metadata": {
  "language_info": {
   "name": "python"
  },
  "orig_nbformat": 4
 },
 "nbformat": 4,
 "nbformat_minor": 2
}
