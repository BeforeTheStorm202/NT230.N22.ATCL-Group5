{
  "nbformat": 4,
  "nbformat_minor": 0,
  "metadata": {
    "colab": {
      "provenance": [],
      "toc_visible": true,
      "mount_file_id": "1rdZBov5AkdASJCNPuTZZRBC71yiUs7DW",
      "authorship_tag": "ABX9TyMcPkihd/XxZ7fgLhMTaTdU",
      "include_colab_link": true
    },
    "kernelspec": {
      "name": "python3",
      "display_name": "Python 3"
    },
    "language_info": {
      "name": "python"
    }
  },
  "cells": [
    {
      "cell_type": "markdown",
      "metadata": {
        "id": "view-in-github",
        "colab_type": "text"
      },
      "source": [
        "<a href=\"https://colab.research.google.com/github/BeforeTheStorm202/NT230.N22.ATCL-Group5/blob/main/LSI_feature_vectors_extracter.ipynb\" target=\"_parent\"><img src=\"https://colab.research.google.com/assets/colab-badge.svg\" alt=\"Open In Colab\"/></a>"
      ]
    },
    {
      "cell_type": "markdown",
      "source": [
        "# Import"
      ],
      "metadata": {
        "id": "Ea6edVLULzHe"
      }
    },
    {
      "cell_type": "code",
      "source": [
        "from gensim import corpora\n",
        "from gensim.models import TfidfModel, LsiModel, LdaMulticore\n",
        "import logging\n",
        "logging.basicConfig(format='%(asctime)s : %(levelname)s : %(message)s', level=logging.INFO)\n",
        "from smart_open import smart_open\n",
        "import csv"
      ],
      "metadata": {
        "id": "XCkS9GiZLy2r"
      },
      "execution_count": 1,
      "outputs": []
    },
    {
      "cell_type": "code",
      "source": [
        "# change these paths manually 40 times for 40 files\n",
        "input_path = \"/content/drive/MyDrive/Malware/Malware/Malware_list/mal_train_9\"\n",
        "output_path = \"/content/drive/MyDrive/Malware/Dataset/doc2vec_malware_9.csv\""
      ],
      "metadata": {
        "id": "o173yJWiLL6R"
      },
      "execution_count": 2,
      "outputs": []
    },
    {
      "cell_type": "code",
      "source": [
        "def Tokenize(path):\n",
        "    for line in smart_open(path, encoding='ascii'):\n",
        "        tokenize_list = line.split()\n",
        "        yield tokenize_list"
      ],
      "metadata": {
        "id": "M-zUunCbLjpZ"
      },
      "execution_count": 3,
      "outputs": []
    },
    {
      "cell_type": "markdown",
      "source": [
        "# LSI model"
      ],
      "metadata": {
        "id": "GehS5MXzL7_C"
      }
    },
    {
      "cell_type": "code",
      "execution_count": 4,
      "metadata": {
        "id": "eSiTKk3eK9sz"
      },
      "outputs": [],
      "source": [
        "tokens = list(Tokenize(input_path)) # tokenize doc to words\n",
        "dict_benign = corpora.Dictionary(tokens) # create dict\n",
        "benign_corpus = [dict_benign.doc2bow(token) for token in tokens] # create corpus"
      ]
    },
    {
      "cell_type": "code",
      "source": [
        "tfidf_benign = TfidfModel(benign_corpus) # create TF-IDF model\n",
        "tfidf_benign_corpus = [tfidf_benign[corpus] for corpus in benign_corpus] # create corpus from TF-IDF"
      ],
      "metadata": {
        "id": "CwbQqhUnMia5"
      },
      "execution_count": 5,
      "outputs": []
    },
    {
      "cell_type": "code",
      "source": [
        "lsiModel_benign = LsiModel(tfidf_benign_corpus, id2word=dict_benign, num_topics=200)\n",
        "corpus = lsiModel_benign[tfidf_benign_corpus]"
      ],
      "metadata": {
        "id": "5i3fOEJNMg5S"
      },
      "execution_count": 6,
      "outputs": []
    },
    {
      "cell_type": "markdown",
      "source": [
        "# Save the vectors to file"
      ],
      "metadata": {
        "id": "7_CQqwfqMUlJ"
      }
    },
    {
      "cell_type": "code",
      "source": [
        "with open(output_path, 'w') as f:\n",
        "  writer = csv.writer(f)\n",
        "  for vec in corpus:\n",
        "    dict_vec = dict(vec) # 1 line\n",
        "    list_vec = []\n",
        "    for i in range(0, 200):\n",
        "      #if i in range(172, 174):\n",
        "        #continue\n",
        "      if i == 185 or i == 199:# or i == 195:# or i == 183 or i == 186:\n",
        "        continue\n",
        "      list_vec.append(dict_vec[i])\n",
        "    writer.writerow(list_vec)"
      ],
      "metadata": {
        "id": "tw1M2BwUPuN5"
      },
      "execution_count": 17,
      "outputs": []
    }
  ]
}