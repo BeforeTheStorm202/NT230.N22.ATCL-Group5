{
  "cells": [
    {
      "cell_type": "code",
      "execution_count": 46,
      "metadata": {
        "id": "ZKuBxZU4Peb4"
      },
      "outputs": [],
      "source": [
        "import matplotlib.pyplot as plt\n",
        "import pandas as pd\n",
        "import numpy as np\n",
        "from os import listdir\n",
        "from os.path import isfile, join\n",
        "import pickle\n",
        "\n",
        "# model libs\n",
        "from sklearn.ensemble import RandomForestClassifier\n",
        "from sklearn.svm import SVC\n",
        "from sklearn.neural_network import MLPClassifier\n",
        "from xgboost import XGBClassifier\n",
        "\n",
        "# Evaluate metrics\n",
        "from sklearn.metrics import accuracy_score, precision_score, recall_score, f1_score\n",
        "from sklearn.metrics import precision_recall_curve\n",
        "from sklearn.metrics import balanced_accuracy_score\n",
        "from sklearn.metrics import classification_report\n",
        "from sklearn.metrics import confusion_matrix\n",
        "import seaborn as sns"
      ]
    },
    {
      "attachments": {},
      "cell_type": "markdown",
      "metadata": {
        "id": "Osz5S59mSwMk"
      },
      "source": [
        "# Load benign feature vector"
      ]
    },
    {
      "attachments": {},
      "cell_type": "markdown",
      "metadata": {},
      "source": [
        "# Training datast"
      ]
    },
    {
      "cell_type": "code",
      "execution_count": 47,
      "metadata": {},
      "outputs": [],
      "source": [
        "# path dataset\n",
        "dataset_path = '/home/kali/Malware_project/Dataset'"
      ]
    },
    {
      "cell_type": "code",
      "execution_count": 48,
      "metadata": {
        "colab": {
          "base_uri": "https://localhost:8080/"
        },
        "id": "sMB24F_tPj8e",
        "outputId": "2b868051-a221-43bd-fa39-9c2788fda79b"
      },
      "outputs": [
        {
          "name": "stdout",
          "output_type": "stream",
          "text": [
            "/home/kali/Malware_project/Dataset/lsi_benign_14.csv\n",
            "/home/kali/Malware_project/Dataset/lsi_benign_20.csv\n",
            "/home/kali/Malware_project/Dataset/lsi_benign_15.csv\n",
            "/home/kali/Malware_project/Dataset/lsi_benign_10.csv\n",
            "/home/kali/Malware_project/Dataset/lsi_benign_11.csv\n",
            "/home/kali/Malware_project/Dataset/lsi_benign_19.csv\n",
            "/home/kali/Malware_project/Dataset/lsi_benign_12.csv\n",
            "/home/kali/Malware_project/Dataset/lsi_benign_1.csv\n",
            "/home/kali/Malware_project/Dataset/lsi_benign_6.csv\n",
            "/home/kali/Malware_project/Dataset/lsi_benign_16.csv\n",
            "/home/kali/Malware_project/Dataset/lsi_benign_5.csv\n",
            "/home/kali/Malware_project/Dataset/lsi_benign_2.csv\n",
            "/home/kali/Malware_project/Dataset/lsi_benign_7.csv\n",
            "/home/kali/Malware_project/Dataset/lsi_benign_3.csv\n",
            "/home/kali/Malware_project/Dataset/lsi_benign_18.csv\n",
            "/home/kali/Malware_project/Dataset/lsi_benign_13.csv\n",
            "/home/kali/Malware_project/Dataset/lsi_benign_4.csv\n",
            "/home/kali/Malware_project/Dataset/lsi_benign_8.csv\n",
            "/home/kali/Malware_project/Dataset/lsi_benign_17.csv\n",
            "/home/kali/Malware_project/Dataset/lsi_benign_9.csv\n"
          ]
        }
      ],
      "source": [
        "# list tất cả path của file trong thư mục\n",
        "df_benign = pd.DataFrame(data=None)\n",
        "all_samples = [f for f in listdir(dataset_path) if isfile(join(dataset_path, f))] #list comprehension\n",
        "for samples in all_samples:\n",
        "  if \"lsi_benign\" in samples:\n",
        "    file_path = join(dataset_path, samples)\n",
        "    print(file_path)\n",
        "    temp = pd.read_csv(file_path, header=None)\n",
        "    df_benign = pd.concat([df_benign, temp], ignore_index=True)"
      ]
    },
    {
      "cell_type": "code",
      "execution_count": 49,
      "metadata": {
        "colab": {
          "base_uri": "https://localhost:8080/",
          "height": 299
        },
        "id": "M5nUsai2Pxtx",
        "outputId": "63b38ad6-cff2-4a7e-c0ea-afe47098517f"
      },
      "outputs": [
        {
          "data": {
            "text/html": [
              "<div>\n",
              "<style scoped>\n",
              "    .dataframe tbody tr th:only-of-type {\n",
              "        vertical-align: middle;\n",
              "    }\n",
              "\n",
              "    .dataframe tbody tr th {\n",
              "        vertical-align: top;\n",
              "    }\n",
              "\n",
              "    .dataframe thead th {\n",
              "        text-align: right;\n",
              "    }\n",
              "</style>\n",
              "<table border=\"1\" class=\"dataframe\">\n",
              "  <thead>\n",
              "    <tr style=\"text-align: right;\">\n",
              "      <th></th>\n",
              "      <th>0</th>\n",
              "      <th>1</th>\n",
              "      <th>2</th>\n",
              "      <th>3</th>\n",
              "      <th>4</th>\n",
              "      <th>5</th>\n",
              "      <th>6</th>\n",
              "      <th>7</th>\n",
              "      <th>8</th>\n",
              "      <th>9</th>\n",
              "      <th>...</th>\n",
              "      <th>190</th>\n",
              "      <th>191</th>\n",
              "      <th>192</th>\n",
              "      <th>193</th>\n",
              "      <th>194</th>\n",
              "      <th>195</th>\n",
              "      <th>196</th>\n",
              "      <th>197</th>\n",
              "      <th>198</th>\n",
              "      <th>199</th>\n",
              "    </tr>\n",
              "  </thead>\n",
              "  <tbody>\n",
              "    <tr>\n",
              "      <th>0</th>\n",
              "      <td>0.091680</td>\n",
              "      <td>-0.005865</td>\n",
              "      <td>0.153073</td>\n",
              "      <td>-0.067141</td>\n",
              "      <td>0.009649</td>\n",
              "      <td>-0.018244</td>\n",
              "      <td>0.005989</td>\n",
              "      <td>-0.000094</td>\n",
              "      <td>0.005829</td>\n",
              "      <td>-0.000013</td>\n",
              "      <td>...</td>\n",
              "      <td>0.015007</td>\n",
              "      <td>0.046704</td>\n",
              "      <td>0.002286</td>\n",
              "      <td>-0.014693</td>\n",
              "      <td>-0.021308</td>\n",
              "      <td>-0.046825</td>\n",
              "      <td>0.019660</td>\n",
              "      <td>0.030328</td>\n",
              "      <td>0.017648</td>\n",
              "      <td>-0.013970</td>\n",
              "    </tr>\n",
              "    <tr>\n",
              "      <th>1</th>\n",
              "      <td>0.048826</td>\n",
              "      <td>-0.214345</td>\n",
              "      <td>-0.014904</td>\n",
              "      <td>-0.008417</td>\n",
              "      <td>0.043947</td>\n",
              "      <td>0.007412</td>\n",
              "      <td>-0.039504</td>\n",
              "      <td>0.278971</td>\n",
              "      <td>0.121019</td>\n",
              "      <td>-0.028439</td>\n",
              "      <td>...</td>\n",
              "      <td>0.008640</td>\n",
              "      <td>0.129105</td>\n",
              "      <td>-0.086167</td>\n",
              "      <td>-0.068405</td>\n",
              "      <td>-0.048433</td>\n",
              "      <td>0.026620</td>\n",
              "      <td>0.013323</td>\n",
              "      <td>-0.033524</td>\n",
              "      <td>0.012347</td>\n",
              "      <td>-0.081173</td>\n",
              "    </tr>\n",
              "    <tr>\n",
              "      <th>2</th>\n",
              "      <td>0.005172</td>\n",
              "      <td>-0.014037</td>\n",
              "      <td>-0.002322</td>\n",
              "      <td>-0.000034</td>\n",
              "      <td>0.007670</td>\n",
              "      <td>0.005593</td>\n",
              "      <td>0.006045</td>\n",
              "      <td>-0.005612</td>\n",
              "      <td>0.011061</td>\n",
              "      <td>0.012345</td>\n",
              "      <td>...</td>\n",
              "      <td>-0.001824</td>\n",
              "      <td>-0.001190</td>\n",
              "      <td>0.003497</td>\n",
              "      <td>-0.005465</td>\n",
              "      <td>0.000567</td>\n",
              "      <td>0.000521</td>\n",
              "      <td>0.002344</td>\n",
              "      <td>-0.001470</td>\n",
              "      <td>-0.003655</td>\n",
              "      <td>0.001362</td>\n",
              "    </tr>\n",
              "    <tr>\n",
              "      <th>3</th>\n",
              "      <td>0.010124</td>\n",
              "      <td>-0.028153</td>\n",
              "      <td>0.001753</td>\n",
              "      <td>0.000357</td>\n",
              "      <td>0.001357</td>\n",
              "      <td>0.007689</td>\n",
              "      <td>-0.006469</td>\n",
              "      <td>0.009839</td>\n",
              "      <td>0.070472</td>\n",
              "      <td>-0.022865</td>\n",
              "      <td>...</td>\n",
              "      <td>-0.001242</td>\n",
              "      <td>0.021475</td>\n",
              "      <td>0.008988</td>\n",
              "      <td>-0.013042</td>\n",
              "      <td>0.015404</td>\n",
              "      <td>0.001467</td>\n",
              "      <td>0.010473</td>\n",
              "      <td>-0.003077</td>\n",
              "      <td>0.001060</td>\n",
              "      <td>-0.001299</td>\n",
              "    </tr>\n",
              "    <tr>\n",
              "      <th>4</th>\n",
              "      <td>0.171415</td>\n",
              "      <td>-0.007185</td>\n",
              "      <td>-0.000400</td>\n",
              "      <td>-0.004167</td>\n",
              "      <td>-0.017593</td>\n",
              "      <td>-0.012833</td>\n",
              "      <td>-0.033707</td>\n",
              "      <td>0.046123</td>\n",
              "      <td>0.164728</td>\n",
              "      <td>-0.065527</td>\n",
              "      <td>...</td>\n",
              "      <td>-0.017636</td>\n",
              "      <td>0.004695</td>\n",
              "      <td>-0.016584</td>\n",
              "      <td>-0.012938</td>\n",
              "      <td>0.046596</td>\n",
              "      <td>0.066994</td>\n",
              "      <td>-0.032784</td>\n",
              "      <td>-0.008846</td>\n",
              "      <td>0.069831</td>\n",
              "      <td>-0.005891</td>\n",
              "    </tr>\n",
              "  </tbody>\n",
              "</table>\n",
              "<p>5 rows × 200 columns</p>\n",
              "</div>"
            ],
            "text/plain": [
              "        0         1         2         3         4         5         6    \\\n",
              "0  0.091680 -0.005865  0.153073 -0.067141  0.009649 -0.018244  0.005989   \n",
              "1  0.048826 -0.214345 -0.014904 -0.008417  0.043947  0.007412 -0.039504   \n",
              "2  0.005172 -0.014037 -0.002322 -0.000034  0.007670  0.005593  0.006045   \n",
              "3  0.010124 -0.028153  0.001753  0.000357  0.001357  0.007689 -0.006469   \n",
              "4  0.171415 -0.007185 -0.000400 -0.004167 -0.017593 -0.012833 -0.033707   \n",
              "\n",
              "        7         8         9    ...       190       191       192       193  \\\n",
              "0 -0.000094  0.005829 -0.000013  ...  0.015007  0.046704  0.002286 -0.014693   \n",
              "1  0.278971  0.121019 -0.028439  ...  0.008640  0.129105 -0.086167 -0.068405   \n",
              "2 -0.005612  0.011061  0.012345  ... -0.001824 -0.001190  0.003497 -0.005465   \n",
              "3  0.009839  0.070472 -0.022865  ... -0.001242  0.021475  0.008988 -0.013042   \n",
              "4  0.046123  0.164728 -0.065527  ... -0.017636  0.004695 -0.016584 -0.012938   \n",
              "\n",
              "        194       195       196       197       198       199  \n",
              "0 -0.021308 -0.046825  0.019660  0.030328  0.017648 -0.013970  \n",
              "1 -0.048433  0.026620  0.013323 -0.033524  0.012347 -0.081173  \n",
              "2  0.000567  0.000521  0.002344 -0.001470 -0.003655  0.001362  \n",
              "3  0.015404  0.001467  0.010473 -0.003077  0.001060 -0.001299  \n",
              "4  0.046596  0.066994 -0.032784 -0.008846  0.069831 -0.005891  \n",
              "\n",
              "[5 rows x 200 columns]"
            ]
          },
          "execution_count": 49,
          "metadata": {},
          "output_type": "execute_result"
        }
      ],
      "source": [
        "df_benign.head()"
      ]
    },
    {
      "cell_type": "code",
      "execution_count": 50,
      "metadata": {
        "colab": {
          "base_uri": "https://localhost:8080/"
        },
        "id": "9MFNUYYBQ1vR",
        "outputId": "ceceb82f-74cd-4148-fc80-199db66aa033"
      },
      "outputs": [
        {
          "data": {
            "text/plain": [
              "(6000, 200)"
            ]
          },
          "execution_count": 50,
          "metadata": {},
          "output_type": "execute_result"
        }
      ],
      "source": [
        "df_benign.shape"
      ]
    },
    {
      "cell_type": "code",
      "execution_count": 51,
      "metadata": {
        "id": "X2bF1DGJS2WT"
      },
      "outputs": [],
      "source": [
        "df_benign[\"label\"] = 0"
      ]
    },
    {
      "cell_type": "code",
      "execution_count": 52,
      "metadata": {
        "colab": {
          "base_uri": "https://localhost:8080/"
        },
        "id": "r98MlsAHS99G",
        "outputId": "46fb20ce-ffc5-41fb-ad6f-ece19a5069c2"
      },
      "outputs": [
        {
          "data": {
            "text/plain": [
              "(6000, 201)"
            ]
          },
          "execution_count": 52,
          "metadata": {},
          "output_type": "execute_result"
        }
      ],
      "source": [
        "df_benign.shape"
      ]
    },
    {
      "cell_type": "code",
      "execution_count": 53,
      "metadata": {
        "colab": {
          "base_uri": "https://localhost:8080/",
          "height": 299
        },
        "id": "jIBZUPGrakBg",
        "outputId": "b8a6c6ae-5cb9-41df-f376-09ee8a0cabfe"
      },
      "outputs": [
        {
          "data": {
            "text/html": [
              "<div>\n",
              "<style scoped>\n",
              "    .dataframe tbody tr th:only-of-type {\n",
              "        vertical-align: middle;\n",
              "    }\n",
              "\n",
              "    .dataframe tbody tr th {\n",
              "        vertical-align: top;\n",
              "    }\n",
              "\n",
              "    .dataframe thead th {\n",
              "        text-align: right;\n",
              "    }\n",
              "</style>\n",
              "<table border=\"1\" class=\"dataframe\">\n",
              "  <thead>\n",
              "    <tr style=\"text-align: right;\">\n",
              "      <th></th>\n",
              "      <th>0</th>\n",
              "      <th>1</th>\n",
              "      <th>2</th>\n",
              "      <th>3</th>\n",
              "      <th>4</th>\n",
              "      <th>5</th>\n",
              "      <th>6</th>\n",
              "      <th>7</th>\n",
              "      <th>8</th>\n",
              "      <th>9</th>\n",
              "      <th>...</th>\n",
              "      <th>191</th>\n",
              "      <th>192</th>\n",
              "      <th>193</th>\n",
              "      <th>194</th>\n",
              "      <th>195</th>\n",
              "      <th>196</th>\n",
              "      <th>197</th>\n",
              "      <th>198</th>\n",
              "      <th>199</th>\n",
              "      <th>label</th>\n",
              "    </tr>\n",
              "  </thead>\n",
              "  <tbody>\n",
              "    <tr>\n",
              "      <th>0</th>\n",
              "      <td>0.091680</td>\n",
              "      <td>-0.005865</td>\n",
              "      <td>0.153073</td>\n",
              "      <td>-0.067141</td>\n",
              "      <td>0.009649</td>\n",
              "      <td>-0.018244</td>\n",
              "      <td>0.005989</td>\n",
              "      <td>-0.000094</td>\n",
              "      <td>0.005829</td>\n",
              "      <td>-0.000013</td>\n",
              "      <td>...</td>\n",
              "      <td>0.046704</td>\n",
              "      <td>0.002286</td>\n",
              "      <td>-0.014693</td>\n",
              "      <td>-0.021308</td>\n",
              "      <td>-0.046825</td>\n",
              "      <td>0.019660</td>\n",
              "      <td>0.030328</td>\n",
              "      <td>0.017648</td>\n",
              "      <td>-0.013970</td>\n",
              "      <td>0</td>\n",
              "    </tr>\n",
              "    <tr>\n",
              "      <th>1</th>\n",
              "      <td>0.048826</td>\n",
              "      <td>-0.214345</td>\n",
              "      <td>-0.014904</td>\n",
              "      <td>-0.008417</td>\n",
              "      <td>0.043947</td>\n",
              "      <td>0.007412</td>\n",
              "      <td>-0.039504</td>\n",
              "      <td>0.278971</td>\n",
              "      <td>0.121019</td>\n",
              "      <td>-0.028439</td>\n",
              "      <td>...</td>\n",
              "      <td>0.129105</td>\n",
              "      <td>-0.086167</td>\n",
              "      <td>-0.068405</td>\n",
              "      <td>-0.048433</td>\n",
              "      <td>0.026620</td>\n",
              "      <td>0.013323</td>\n",
              "      <td>-0.033524</td>\n",
              "      <td>0.012347</td>\n",
              "      <td>-0.081173</td>\n",
              "      <td>0</td>\n",
              "    </tr>\n",
              "    <tr>\n",
              "      <th>2</th>\n",
              "      <td>0.005172</td>\n",
              "      <td>-0.014037</td>\n",
              "      <td>-0.002322</td>\n",
              "      <td>-0.000034</td>\n",
              "      <td>0.007670</td>\n",
              "      <td>0.005593</td>\n",
              "      <td>0.006045</td>\n",
              "      <td>-0.005612</td>\n",
              "      <td>0.011061</td>\n",
              "      <td>0.012345</td>\n",
              "      <td>...</td>\n",
              "      <td>-0.001190</td>\n",
              "      <td>0.003497</td>\n",
              "      <td>-0.005465</td>\n",
              "      <td>0.000567</td>\n",
              "      <td>0.000521</td>\n",
              "      <td>0.002344</td>\n",
              "      <td>-0.001470</td>\n",
              "      <td>-0.003655</td>\n",
              "      <td>0.001362</td>\n",
              "      <td>0</td>\n",
              "    </tr>\n",
              "    <tr>\n",
              "      <th>3</th>\n",
              "      <td>0.010124</td>\n",
              "      <td>-0.028153</td>\n",
              "      <td>0.001753</td>\n",
              "      <td>0.000357</td>\n",
              "      <td>0.001357</td>\n",
              "      <td>0.007689</td>\n",
              "      <td>-0.006469</td>\n",
              "      <td>0.009839</td>\n",
              "      <td>0.070472</td>\n",
              "      <td>-0.022865</td>\n",
              "      <td>...</td>\n",
              "      <td>0.021475</td>\n",
              "      <td>0.008988</td>\n",
              "      <td>-0.013042</td>\n",
              "      <td>0.015404</td>\n",
              "      <td>0.001467</td>\n",
              "      <td>0.010473</td>\n",
              "      <td>-0.003077</td>\n",
              "      <td>0.001060</td>\n",
              "      <td>-0.001299</td>\n",
              "      <td>0</td>\n",
              "    </tr>\n",
              "    <tr>\n",
              "      <th>4</th>\n",
              "      <td>0.171415</td>\n",
              "      <td>-0.007185</td>\n",
              "      <td>-0.000400</td>\n",
              "      <td>-0.004167</td>\n",
              "      <td>-0.017593</td>\n",
              "      <td>-0.012833</td>\n",
              "      <td>-0.033707</td>\n",
              "      <td>0.046123</td>\n",
              "      <td>0.164728</td>\n",
              "      <td>-0.065527</td>\n",
              "      <td>...</td>\n",
              "      <td>0.004695</td>\n",
              "      <td>-0.016584</td>\n",
              "      <td>-0.012938</td>\n",
              "      <td>0.046596</td>\n",
              "      <td>0.066994</td>\n",
              "      <td>-0.032784</td>\n",
              "      <td>-0.008846</td>\n",
              "      <td>0.069831</td>\n",
              "      <td>-0.005891</td>\n",
              "      <td>0</td>\n",
              "    </tr>\n",
              "  </tbody>\n",
              "</table>\n",
              "<p>5 rows × 201 columns</p>\n",
              "</div>"
            ],
            "text/plain": [
              "          0         1         2         3         4         5         6  \\\n",
              "0  0.091680 -0.005865  0.153073 -0.067141  0.009649 -0.018244  0.005989   \n",
              "1  0.048826 -0.214345 -0.014904 -0.008417  0.043947  0.007412 -0.039504   \n",
              "2  0.005172 -0.014037 -0.002322 -0.000034  0.007670  0.005593  0.006045   \n",
              "3  0.010124 -0.028153  0.001753  0.000357  0.001357  0.007689 -0.006469   \n",
              "4  0.171415 -0.007185 -0.000400 -0.004167 -0.017593 -0.012833 -0.033707   \n",
              "\n",
              "          7         8         9  ...       191       192       193       194  \\\n",
              "0 -0.000094  0.005829 -0.000013  ...  0.046704  0.002286 -0.014693 -0.021308   \n",
              "1  0.278971  0.121019 -0.028439  ...  0.129105 -0.086167 -0.068405 -0.048433   \n",
              "2 -0.005612  0.011061  0.012345  ... -0.001190  0.003497 -0.005465  0.000567   \n",
              "3  0.009839  0.070472 -0.022865  ...  0.021475  0.008988 -0.013042  0.015404   \n",
              "4  0.046123  0.164728 -0.065527  ...  0.004695 -0.016584 -0.012938  0.046596   \n",
              "\n",
              "        195       196       197       198       199  label  \n",
              "0 -0.046825  0.019660  0.030328  0.017648 -0.013970      0  \n",
              "1  0.026620  0.013323 -0.033524  0.012347 -0.081173      0  \n",
              "2  0.000521  0.002344 -0.001470 -0.003655  0.001362      0  \n",
              "3  0.001467  0.010473 -0.003077  0.001060 -0.001299      0  \n",
              "4  0.066994 -0.032784 -0.008846  0.069831 -0.005891      0  \n",
              "\n",
              "[5 rows x 201 columns]"
            ]
          },
          "execution_count": 53,
          "metadata": {},
          "output_type": "execute_result"
        }
      ],
      "source": [
        "df_benign.head()"
      ]
    },
    {
      "attachments": {},
      "cell_type": "markdown",
      "metadata": {
        "id": "pUUHh-maT9KG"
      },
      "source": [
        "# Load malware"
      ]
    },
    {
      "cell_type": "code",
      "execution_count": 54,
      "metadata": {
        "colab": {
          "base_uri": "https://localhost:8080/"
        },
        "id": "lOSWKvDsUEJt",
        "outputId": "fbfae9ec-49c8-4bd7-cf74-7f1320363a39"
      },
      "outputs": [
        {
          "name": "stdout",
          "output_type": "stream",
          "text": [
            "/home/kali/Malware_project/Dataset/lsi_malware_9.csv\n",
            "/home/kali/Malware_project/Dataset/lsi_malware_1.csv\n",
            "/home/kali/Malware_project/Dataset/lsi_malware_4.csv\n",
            "/home/kali/Malware_project/Dataset/lsi_malware_15.csv\n",
            "/home/kali/Malware_project/Dataset/lsi_malware_18.csv\n",
            "/home/kali/Malware_project/Dataset/lsi_malware_6.csv\n",
            "/home/kali/Malware_project/Dataset/lsi_malware_7.csv\n",
            "/home/kali/Malware_project/Dataset/lsi_malware_12.csv\n",
            "/home/kali/Malware_project/Dataset/lsi_malware_20.csv\n",
            "/home/kali/Malware_project/Dataset/lsi_malware_19.csv\n",
            "/home/kali/Malware_project/Dataset/lsi_malware_10.csv\n",
            "/home/kali/Malware_project/Dataset/lsi_malware_16.csv\n",
            "/home/kali/Malware_project/Dataset/lsi_malware_3.csv\n",
            "/home/kali/Malware_project/Dataset/lsi_malware_2.csv\n",
            "/home/kali/Malware_project/Dataset/lsi_malware_13.csv\n",
            "/home/kali/Malware_project/Dataset/lsi_malware_17.csv\n",
            "/home/kali/Malware_project/Dataset/lsi_malware_11.csv\n",
            "/home/kali/Malware_project/Dataset/lsi_malware_8.csv\n",
            "/home/kali/Malware_project/Dataset/lsi_malware_5.csv\n",
            "/home/kali/Malware_project/Dataset/lsi_malware_14.csv\n"
          ]
        }
      ],
      "source": [
        "# list tất cả path của file trong thư mục\n",
        "df_malware = pd.DataFrame(data=None)\n",
        "all_samples = [f for f in listdir(dataset_path) if isfile(join(dataset_path, f))] #list comprehension\n",
        "for samples in all_samples:\n",
        "  if \"lsi_malware\" in samples:\n",
        "    file_path = join(dataset_path, samples)\n",
        "    print(file_path)\n",
        "    temp = pd.read_csv(file_path, header=None)\n",
        "    df_malware = pd.concat([df_malware, temp], ignore_index=True)"
      ]
    },
    {
      "cell_type": "code",
      "execution_count": 55,
      "metadata": {
        "colab": {
          "base_uri": "https://localhost:8080/"
        },
        "id": "40BPgN0RVj3j",
        "outputId": "e1acd733-6646-4bbd-d697-d6ba5200ab21"
      },
      "outputs": [
        {
          "data": {
            "text/plain": [
              "(6000, 200)"
            ]
          },
          "execution_count": 55,
          "metadata": {},
          "output_type": "execute_result"
        }
      ],
      "source": [
        "df_malware.shape"
      ]
    },
    {
      "cell_type": "code",
      "execution_count": 56,
      "metadata": {
        "id": "jBE8Zn65tZJJ"
      },
      "outputs": [],
      "source": [
        "df_malware[\"label\"] = 1"
      ]
    },
    {
      "attachments": {},
      "cell_type": "markdown",
      "metadata": {},
      "source": [
        "# Test dataset"
      ]
    },
    {
      "attachments": {},
      "cell_type": "markdown",
      "metadata": {},
      "source": [
        "# Benign testset"
      ]
    },
    {
      "cell_type": "code",
      "execution_count": 57,
      "metadata": {},
      "outputs": [],
      "source": [
        "# Path test dataset\n",
        "testset_path = '/home/kali/Malware_project/Dataset_test'"
      ]
    },
    {
      "cell_type": "code",
      "execution_count": 58,
      "metadata": {},
      "outputs": [
        {
          "name": "stdout",
          "output_type": "stream",
          "text": [
            "/home/kali/Malware_project/Dataset_test/ben_test_5.csv\n",
            "/home/kali/Malware_project/Dataset_test/ben_test_7.csv\n",
            "/home/kali/Malware_project/Dataset_test/ben_test_3.csv\n",
            "/home/kali/Malware_project/Dataset_test/ben_test_4.csv\n",
            "/home/kali/Malware_project/Dataset_test/ben_test_9.csv\n",
            "/home/kali/Malware_project/Dataset_test/ben_test_1.csv\n",
            "/home/kali/Malware_project/Dataset_test/ben_test_10.csv\n",
            "/home/kali/Malware_project/Dataset_test/ben_test_6.csv\n",
            "/home/kali/Malware_project/Dataset_test/ben_test_2.csv\n",
            "/home/kali/Malware_project/Dataset_test/ben_test_8.csv\n"
          ]
        }
      ],
      "source": [
        "# Load testset\n",
        "df_test_ben = pd.DataFrame(data=None)\n",
        "all_samples = [f for f in listdir(testset_path) if isfile(join(testset_path, f))] #list comprehension\n",
        "for samples in all_samples:\n",
        "  if \"ben_test\" in samples:\n",
        "    file_path = join(testset_path, samples)\n",
        "    print(file_path)\n",
        "    temp = pd.read_csv(file_path, header=None)\n",
        "    df_test_ben = pd.concat([df_test_ben, temp], ignore_index=True)"
      ]
    },
    {
      "cell_type": "code",
      "execution_count": 59,
      "metadata": {},
      "outputs": [
        {
          "data": {
            "text/html": [
              "<div>\n",
              "<style scoped>\n",
              "    .dataframe tbody tr th:only-of-type {\n",
              "        vertical-align: middle;\n",
              "    }\n",
              "\n",
              "    .dataframe tbody tr th {\n",
              "        vertical-align: top;\n",
              "    }\n",
              "\n",
              "    .dataframe thead th {\n",
              "        text-align: right;\n",
              "    }\n",
              "</style>\n",
              "<table border=\"1\" class=\"dataframe\">\n",
              "  <thead>\n",
              "    <tr style=\"text-align: right;\">\n",
              "      <th></th>\n",
              "      <th>0</th>\n",
              "      <th>1</th>\n",
              "      <th>2</th>\n",
              "      <th>3</th>\n",
              "      <th>4</th>\n",
              "      <th>5</th>\n",
              "      <th>6</th>\n",
              "      <th>7</th>\n",
              "      <th>8</th>\n",
              "      <th>9</th>\n",
              "      <th>...</th>\n",
              "      <th>190</th>\n",
              "      <th>191</th>\n",
              "      <th>192</th>\n",
              "      <th>193</th>\n",
              "      <th>194</th>\n",
              "      <th>195</th>\n",
              "      <th>196</th>\n",
              "      <th>197</th>\n",
              "      <th>198</th>\n",
              "      <th>199</th>\n",
              "    </tr>\n",
              "  </thead>\n",
              "  <tbody>\n",
              "    <tr>\n",
              "      <th>0</th>\n",
              "      <td>-0.700003</td>\n",
              "      <td>0.102434</td>\n",
              "      <td>-0.093520</td>\n",
              "      <td>-0.027042</td>\n",
              "      <td>0.020155</td>\n",
              "      <td>-0.047592</td>\n",
              "      <td>-0.017276</td>\n",
              "      <td>-0.070254</td>\n",
              "      <td>0.005620</td>\n",
              "      <td>-0.028636</td>\n",
              "      <td>...</td>\n",
              "      <td>0.011059</td>\n",
              "      <td>-0.003913</td>\n",
              "      <td>-0.009662</td>\n",
              "      <td>-0.005125</td>\n",
              "      <td>0.022099</td>\n",
              "      <td>-0.004272</td>\n",
              "      <td>0.014570</td>\n",
              "      <td>0.002425</td>\n",
              "      <td>-0.025634</td>\n",
              "      <td>-0.000250</td>\n",
              "    </tr>\n",
              "    <tr>\n",
              "      <th>1</th>\n",
              "      <td>-0.010860</td>\n",
              "      <td>-0.039676</td>\n",
              "      <td>-0.000785</td>\n",
              "      <td>0.014321</td>\n",
              "      <td>-0.003672</td>\n",
              "      <td>0.007140</td>\n",
              "      <td>0.024660</td>\n",
              "      <td>-0.005463</td>\n",
              "      <td>0.000405</td>\n",
              "      <td>0.009214</td>\n",
              "      <td>...</td>\n",
              "      <td>0.030430</td>\n",
              "      <td>0.027212</td>\n",
              "      <td>-0.021359</td>\n",
              "      <td>0.049001</td>\n",
              "      <td>-0.001038</td>\n",
              "      <td>-0.029714</td>\n",
              "      <td>0.013906</td>\n",
              "      <td>0.026232</td>\n",
              "      <td>-0.044486</td>\n",
              "      <td>0.050911</td>\n",
              "    </tr>\n",
              "    <tr>\n",
              "      <th>2</th>\n",
              "      <td>-0.033071</td>\n",
              "      <td>-0.197338</td>\n",
              "      <td>-0.018466</td>\n",
              "      <td>0.000548</td>\n",
              "      <td>-0.088503</td>\n",
              "      <td>-0.014351</td>\n",
              "      <td>-0.110523</td>\n",
              "      <td>0.014459</td>\n",
              "      <td>-0.017695</td>\n",
              "      <td>0.079376</td>\n",
              "      <td>...</td>\n",
              "      <td>0.035897</td>\n",
              "      <td>0.003296</td>\n",
              "      <td>-0.021067</td>\n",
              "      <td>-0.013967</td>\n",
              "      <td>0.019160</td>\n",
              "      <td>-0.012829</td>\n",
              "      <td>0.040295</td>\n",
              "      <td>0.057489</td>\n",
              "      <td>-0.030094</td>\n",
              "      <td>0.002840</td>\n",
              "    </tr>\n",
              "    <tr>\n",
              "      <th>3</th>\n",
              "      <td>-0.026195</td>\n",
              "      <td>-0.226741</td>\n",
              "      <td>-0.024409</td>\n",
              "      <td>-0.033354</td>\n",
              "      <td>0.125504</td>\n",
              "      <td>0.006179</td>\n",
              "      <td>0.047934</td>\n",
              "      <td>0.026085</td>\n",
              "      <td>-0.137685</td>\n",
              "      <td>-0.054920</td>\n",
              "      <td>...</td>\n",
              "      <td>0.012556</td>\n",
              "      <td>0.016063</td>\n",
              "      <td>-0.018297</td>\n",
              "      <td>-0.008691</td>\n",
              "      <td>0.011260</td>\n",
              "      <td>0.078084</td>\n",
              "      <td>-0.043046</td>\n",
              "      <td>-0.035982</td>\n",
              "      <td>0.006377</td>\n",
              "      <td>-0.041237</td>\n",
              "    </tr>\n",
              "    <tr>\n",
              "      <th>4</th>\n",
              "      <td>-0.026448</td>\n",
              "      <td>-0.104101</td>\n",
              "      <td>0.035971</td>\n",
              "      <td>0.389314</td>\n",
              "      <td>0.049826</td>\n",
              "      <td>-0.004921</td>\n",
              "      <td>-0.016077</td>\n",
              "      <td>0.003765</td>\n",
              "      <td>-0.049416</td>\n",
              "      <td>0.011134</td>\n",
              "      <td>...</td>\n",
              "      <td>-0.030774</td>\n",
              "      <td>-0.019270</td>\n",
              "      <td>0.004539</td>\n",
              "      <td>0.023284</td>\n",
              "      <td>0.007512</td>\n",
              "      <td>-0.047825</td>\n",
              "      <td>-0.034919</td>\n",
              "      <td>0.015344</td>\n",
              "      <td>-0.023480</td>\n",
              "      <td>0.004918</td>\n",
              "    </tr>\n",
              "  </tbody>\n",
              "</table>\n",
              "<p>5 rows × 200 columns</p>\n",
              "</div>"
            ],
            "text/plain": [
              "        0         1         2         3         4         5         6    \\\n",
              "0 -0.700003  0.102434 -0.093520 -0.027042  0.020155 -0.047592 -0.017276   \n",
              "1 -0.010860 -0.039676 -0.000785  0.014321 -0.003672  0.007140  0.024660   \n",
              "2 -0.033071 -0.197338 -0.018466  0.000548 -0.088503 -0.014351 -0.110523   \n",
              "3 -0.026195 -0.226741 -0.024409 -0.033354  0.125504  0.006179  0.047934   \n",
              "4 -0.026448 -0.104101  0.035971  0.389314  0.049826 -0.004921 -0.016077   \n",
              "\n",
              "        7         8         9    ...       190       191       192       193  \\\n",
              "0 -0.070254  0.005620 -0.028636  ...  0.011059 -0.003913 -0.009662 -0.005125   \n",
              "1 -0.005463  0.000405  0.009214  ...  0.030430  0.027212 -0.021359  0.049001   \n",
              "2  0.014459 -0.017695  0.079376  ...  0.035897  0.003296 -0.021067 -0.013967   \n",
              "3  0.026085 -0.137685 -0.054920  ...  0.012556  0.016063 -0.018297 -0.008691   \n",
              "4  0.003765 -0.049416  0.011134  ... -0.030774 -0.019270  0.004539  0.023284   \n",
              "\n",
              "        194       195       196       197       198       199  \n",
              "0  0.022099 -0.004272  0.014570  0.002425 -0.025634 -0.000250  \n",
              "1 -0.001038 -0.029714  0.013906  0.026232 -0.044486  0.050911  \n",
              "2  0.019160 -0.012829  0.040295  0.057489 -0.030094  0.002840  \n",
              "3  0.011260  0.078084 -0.043046 -0.035982  0.006377 -0.041237  \n",
              "4  0.007512 -0.047825 -0.034919  0.015344 -0.023480  0.004918  \n",
              "\n",
              "[5 rows x 200 columns]"
            ]
          },
          "execution_count": 59,
          "metadata": {},
          "output_type": "execute_result"
        }
      ],
      "source": [
        "df_test_ben.head()"
      ]
    },
    {
      "cell_type": "code",
      "execution_count": 60,
      "metadata": {},
      "outputs": [
        {
          "data": {
            "text/plain": [
              "(4000, 200)"
            ]
          },
          "execution_count": 60,
          "metadata": {},
          "output_type": "execute_result"
        }
      ],
      "source": [
        "df_test_ben.shape"
      ]
    },
    {
      "cell_type": "code",
      "execution_count": 61,
      "metadata": {},
      "outputs": [],
      "source": [
        "df_test_ben[\"label\"] = 0"
      ]
    },
    {
      "cell_type": "code",
      "execution_count": 62,
      "metadata": {},
      "outputs": [
        {
          "data": {
            "text/plain": [
              "(4000, 201)"
            ]
          },
          "execution_count": 62,
          "metadata": {},
          "output_type": "execute_result"
        }
      ],
      "source": [
        "df_test_ben.shape"
      ]
    },
    {
      "attachments": {},
      "cell_type": "markdown",
      "metadata": {},
      "source": [
        "# Malware testset"
      ]
    },
    {
      "cell_type": "code",
      "execution_count": 63,
      "metadata": {},
      "outputs": [
        {
          "name": "stdout",
          "output_type": "stream",
          "text": [
            "/home/kali/Malware_project/Dataset_test/mal_test_5.csv\n",
            "/home/kali/Malware_project/Dataset_test/mal_test_6.csv\n",
            "/home/kali/Malware_project/Dataset_test/mal_test_4.csv\n",
            "/home/kali/Malware_project/Dataset_test/mal_test_7.csv\n",
            "/home/kali/Malware_project/Dataset_test/mal_test_8.csv\n",
            "/home/kali/Malware_project/Dataset_test/mal_test_10.csv\n",
            "/home/kali/Malware_project/Dataset_test/mal_test_9.csv\n",
            "/home/kali/Malware_project/Dataset_test/mal_test_3.csv\n",
            "/home/kali/Malware_project/Dataset_test/mal_test_1.csv\n",
            "/home/kali/Malware_project/Dataset_test/mal_test_2.csv\n"
          ]
        }
      ],
      "source": [
        "# list tất cả path của file trong thư mục\n",
        "df_test_malware = pd.DataFrame(data=None)\n",
        "all_samples = [f for f in listdir(testset_path) if isfile(join(testset_path, f))] #list comprehension\n",
        "for samples in all_samples:\n",
        "  if \"mal_test\" in samples:\n",
        "    file_path = join(testset_path, samples)\n",
        "    print(file_path)\n",
        "    temp = pd.read_csv(file_path, header=None)\n",
        "    df_test_malware = pd.concat([df_test_malware, temp], ignore_index=True)"
      ]
    },
    {
      "cell_type": "code",
      "execution_count": 64,
      "metadata": {},
      "outputs": [],
      "source": [
        "df_test_malware[\"label\"] = 1"
      ]
    },
    {
      "cell_type": "code",
      "execution_count": 65,
      "metadata": {},
      "outputs": [
        {
          "data": {
            "text/html": [
              "<div>\n",
              "<style scoped>\n",
              "    .dataframe tbody tr th:only-of-type {\n",
              "        vertical-align: middle;\n",
              "    }\n",
              "\n",
              "    .dataframe tbody tr th {\n",
              "        vertical-align: top;\n",
              "    }\n",
              "\n",
              "    .dataframe thead th {\n",
              "        text-align: right;\n",
              "    }\n",
              "</style>\n",
              "<table border=\"1\" class=\"dataframe\">\n",
              "  <thead>\n",
              "    <tr style=\"text-align: right;\">\n",
              "      <th></th>\n",
              "      <th>0</th>\n",
              "      <th>1</th>\n",
              "      <th>2</th>\n",
              "      <th>3</th>\n",
              "      <th>4</th>\n",
              "      <th>5</th>\n",
              "      <th>6</th>\n",
              "      <th>7</th>\n",
              "      <th>8</th>\n",
              "      <th>9</th>\n",
              "      <th>...</th>\n",
              "      <th>191</th>\n",
              "      <th>192</th>\n",
              "      <th>193</th>\n",
              "      <th>194</th>\n",
              "      <th>195</th>\n",
              "      <th>196</th>\n",
              "      <th>197</th>\n",
              "      <th>198</th>\n",
              "      <th>199</th>\n",
              "      <th>label</th>\n",
              "    </tr>\n",
              "  </thead>\n",
              "  <tbody>\n",
              "    <tr>\n",
              "      <th>0</th>\n",
              "      <td>-0.014094</td>\n",
              "      <td>-0.000932</td>\n",
              "      <td>-0.000415</td>\n",
              "      <td>0.024749</td>\n",
              "      <td>0.000108</td>\n",
              "      <td>-0.042745</td>\n",
              "      <td>0.014081</td>\n",
              "      <td>0.008137</td>\n",
              "      <td>-0.013268</td>\n",
              "      <td>0.017560</td>\n",
              "      <td>...</td>\n",
              "      <td>0.005694</td>\n",
              "      <td>0.009654</td>\n",
              "      <td>-0.005996</td>\n",
              "      <td>0.000762</td>\n",
              "      <td>0.007145</td>\n",
              "      <td>0.001203</td>\n",
              "      <td>-0.002884</td>\n",
              "      <td>0.000677</td>\n",
              "      <td>-0.002063</td>\n",
              "      <td>1</td>\n",
              "    </tr>\n",
              "    <tr>\n",
              "      <th>1</th>\n",
              "      <td>-0.085172</td>\n",
              "      <td>-0.009231</td>\n",
              "      <td>-0.000618</td>\n",
              "      <td>0.119856</td>\n",
              "      <td>-0.001564</td>\n",
              "      <td>-0.081603</td>\n",
              "      <td>-0.013072</td>\n",
              "      <td>0.005801</td>\n",
              "      <td>-0.033154</td>\n",
              "      <td>-0.035338</td>\n",
              "      <td>...</td>\n",
              "      <td>-0.067726</td>\n",
              "      <td>-0.051095</td>\n",
              "      <td>0.022563</td>\n",
              "      <td>-0.016510</td>\n",
              "      <td>-0.088171</td>\n",
              "      <td>0.038469</td>\n",
              "      <td>0.047520</td>\n",
              "      <td>-0.001106</td>\n",
              "      <td>0.006261</td>\n",
              "      <td>1</td>\n",
              "    </tr>\n",
              "    <tr>\n",
              "      <th>2</th>\n",
              "      <td>-0.085078</td>\n",
              "      <td>-0.009227</td>\n",
              "      <td>-0.000527</td>\n",
              "      <td>0.118251</td>\n",
              "      <td>-0.000646</td>\n",
              "      <td>-0.076094</td>\n",
              "      <td>-0.009530</td>\n",
              "      <td>0.003969</td>\n",
              "      <td>-0.029264</td>\n",
              "      <td>-0.027751</td>\n",
              "      <td>...</td>\n",
              "      <td>0.025675</td>\n",
              "      <td>-0.034648</td>\n",
              "      <td>-0.033353</td>\n",
              "      <td>0.031731</td>\n",
              "      <td>0.023941</td>\n",
              "      <td>0.052449</td>\n",
              "      <td>0.020223</td>\n",
              "      <td>-0.049830</td>\n",
              "      <td>0.021802</td>\n",
              "      <td>1</td>\n",
              "    </tr>\n",
              "    <tr>\n",
              "      <th>3</th>\n",
              "      <td>-0.015171</td>\n",
              "      <td>0.029791</td>\n",
              "      <td>-0.000913</td>\n",
              "      <td>0.013582</td>\n",
              "      <td>-0.039909</td>\n",
              "      <td>-0.010248</td>\n",
              "      <td>0.019267</td>\n",
              "      <td>0.015777</td>\n",
              "      <td>0.003248</td>\n",
              "      <td>0.009218</td>\n",
              "      <td>...</td>\n",
              "      <td>-0.000011</td>\n",
              "      <td>-0.001333</td>\n",
              "      <td>0.000263</td>\n",
              "      <td>-0.000866</td>\n",
              "      <td>0.001001</td>\n",
              "      <td>-0.000419</td>\n",
              "      <td>-0.000497</td>\n",
              "      <td>-0.000470</td>\n",
              "      <td>-0.001322</td>\n",
              "      <td>1</td>\n",
              "    </tr>\n",
              "    <tr>\n",
              "      <th>4</th>\n",
              "      <td>-0.014483</td>\n",
              "      <td>0.006692</td>\n",
              "      <td>-0.999729</td>\n",
              "      <td>-0.013716</td>\n",
              "      <td>-0.000760</td>\n",
              "      <td>0.002370</td>\n",
              "      <td>-0.003305</td>\n",
              "      <td>0.000146</td>\n",
              "      <td>-0.000011</td>\n",
              "      <td>-0.000512</td>\n",
              "      <td>...</td>\n",
              "      <td>0.000056</td>\n",
              "      <td>-0.000055</td>\n",
              "      <td>0.000293</td>\n",
              "      <td>0.000131</td>\n",
              "      <td>-0.000024</td>\n",
              "      <td>0.000188</td>\n",
              "      <td>0.000020</td>\n",
              "      <td>0.000152</td>\n",
              "      <td>0.000144</td>\n",
              "      <td>1</td>\n",
              "    </tr>\n",
              "  </tbody>\n",
              "</table>\n",
              "<p>5 rows × 201 columns</p>\n",
              "</div>"
            ],
            "text/plain": [
              "          0         1         2         3         4         5         6  \\\n",
              "0 -0.014094 -0.000932 -0.000415  0.024749  0.000108 -0.042745  0.014081   \n",
              "1 -0.085172 -0.009231 -0.000618  0.119856 -0.001564 -0.081603 -0.013072   \n",
              "2 -0.085078 -0.009227 -0.000527  0.118251 -0.000646 -0.076094 -0.009530   \n",
              "3 -0.015171  0.029791 -0.000913  0.013582 -0.039909 -0.010248  0.019267   \n",
              "4 -0.014483  0.006692 -0.999729 -0.013716 -0.000760  0.002370 -0.003305   \n",
              "\n",
              "          7         8         9  ...       191       192       193       194  \\\n",
              "0  0.008137 -0.013268  0.017560  ...  0.005694  0.009654 -0.005996  0.000762   \n",
              "1  0.005801 -0.033154 -0.035338  ... -0.067726 -0.051095  0.022563 -0.016510   \n",
              "2  0.003969 -0.029264 -0.027751  ...  0.025675 -0.034648 -0.033353  0.031731   \n",
              "3  0.015777  0.003248  0.009218  ... -0.000011 -0.001333  0.000263 -0.000866   \n",
              "4  0.000146 -0.000011 -0.000512  ...  0.000056 -0.000055  0.000293  0.000131   \n",
              "\n",
              "        195       196       197       198       199  label  \n",
              "0  0.007145  0.001203 -0.002884  0.000677 -0.002063      1  \n",
              "1 -0.088171  0.038469  0.047520 -0.001106  0.006261      1  \n",
              "2  0.023941  0.052449  0.020223 -0.049830  0.021802      1  \n",
              "3  0.001001 -0.000419 -0.000497 -0.000470 -0.001322      1  \n",
              "4 -0.000024  0.000188  0.000020  0.000152  0.000144      1  \n",
              "\n",
              "[5 rows x 201 columns]"
            ]
          },
          "execution_count": 65,
          "metadata": {},
          "output_type": "execute_result"
        }
      ],
      "source": [
        "df_test_malware.head()"
      ]
    },
    {
      "cell_type": "code",
      "execution_count": 66,
      "metadata": {},
      "outputs": [
        {
          "data": {
            "text/plain": [
              "(4000, 201)"
            ]
          },
          "execution_count": 66,
          "metadata": {},
          "output_type": "execute_result"
        }
      ],
      "source": [
        "df_test_malware.shape"
      ]
    },
    {
      "attachments": {},
      "cell_type": "markdown",
      "metadata": {},
      "source": [
        "# Concatenate datasets"
      ]
    },
    {
      "attachments": {},
      "cell_type": "markdown",
      "metadata": {},
      "source": [
        "# Training"
      ]
    },
    {
      "cell_type": "code",
      "execution_count": 67,
      "metadata": {},
      "outputs": [],
      "source": [
        "X_train = pd.concat([df_benign, df_malware])"
      ]
    },
    {
      "cell_type": "code",
      "execution_count": 68,
      "metadata": {},
      "outputs": [
        {
          "name": "stdout",
          "output_type": "stream",
          "text": [
            "Sucessfully replace NaN values\n"
          ]
        }
      ],
      "source": [
        "# Check NaN values and replace it if true\n",
        "checkNaN = X_train.isnull().values.any\n",
        "if checkNaN:\n",
        "    X_train = X_train[:].replace(np.nan, 0)\n",
        "    print(\"Sucessfully replace NaN values\")\n",
        "else:\n",
        "    print(\"No NaN values\")"
      ]
    },
    {
      "cell_type": "code",
      "execution_count": 69,
      "metadata": {},
      "outputs": [],
      "source": [
        "# Get label\n",
        "y_train = X_train.iloc[:, -1]\n",
        "\n",
        "# Remove label column\n",
        "X_train = X_train.iloc[:, :-1]"
      ]
    },
    {
      "attachments": {},
      "cell_type": "markdown",
      "metadata": {},
      "source": [
        "# Test"
      ]
    },
    {
      "cell_type": "code",
      "execution_count": 70,
      "metadata": {},
      "outputs": [],
      "source": [
        "X_test = pd.concat([df_test_ben, df_test_malware])"
      ]
    },
    {
      "cell_type": "code",
      "execution_count": 71,
      "metadata": {},
      "outputs": [
        {
          "name": "stdout",
          "output_type": "stream",
          "text": [
            "Sucessfully replace NaN values\n"
          ]
        }
      ],
      "source": [
        "# Check NaN values and replace it if true\n",
        "checkNaN = X_test.isnull().values.any\n",
        "if checkNaN:\n",
        "    X_test = X_test[:].replace(np.nan, 0)\n",
        "    print(\"Sucessfully replace NaN values\")\n",
        "else:\n",
        "    print(\"No NaN values\")"
      ]
    },
    {
      "cell_type": "code",
      "execution_count": 72,
      "metadata": {},
      "outputs": [],
      "source": [
        "# Get label\n",
        "y_test = X_test.iloc[:, -1]\n",
        "\n",
        "# Remove label column\n",
        "X_test = X_test.iloc[:, :-1]"
      ]
    },
    {
      "attachments": {},
      "cell_type": "markdown",
      "metadata": {},
      "source": [
        "# Evaluate function"
      ]
    },
    {
      "cell_type": "code",
      "execution_count": 73,
      "metadata": {},
      "outputs": [],
      "source": [
        "# define evaluation function\n",
        "def evaluation(y_test, y_pred):\n",
        "  print('Misclassified samples: %d' % (y_test != y_pred).sum())\n",
        "  result = confusion_matrix(y_test, y_pred, normalize='true')\n",
        "  #print(\"Confusion Matrix:\")\n",
        "  #print(result)\n",
        "  sns.heatmap(result, annot=True)\n",
        "  result1 = classification_report(y_test, y_pred)\n",
        "  print(\"Classification Report:\",)\n",
        "  print (result1)\n",
        "  result2 = 100* accuracy_score(y_test, y_pred)\n",
        "  print(\"Accuracy:\", result2)\n",
        "  result3 = precision_score(y_test, y_pred, average='weighted')\n",
        "  print(\"Precision:\",result3)\n",
        "  result4 = recall_score(y_test, y_pred, average='weighted')\n",
        "  print(\"Recall:\",result4)\n",
        "  result5 = f1_score(y_test, y_pred, average='weighted')\n",
        "  print(\"F1:\",result5)"
      ]
    },
    {
      "attachments": {},
      "cell_type": "markdown",
      "metadata": {},
      "source": [
        "# Building Classifiers"
      ]
    },
    {
      "attachments": {},
      "cell_type": "markdown",
      "metadata": {
        "id": "0QRYXiwgxKhk"
      },
      "source": [
        "## SVM"
      ]
    },
    {
      "cell_type": "code",
      "execution_count": 74,
      "metadata": {
        "id": "PllVHxf9xOZq"
      },
      "outputs": [],
      "source": [
        "# Define model\n",
        "SVM = SVC(kernel='rbf',C=100,gamma=0.01)"
      ]
    },
    {
      "attachments": {},
      "cell_type": "markdown",
      "metadata": {
        "id": "zGS87oQ-xKTO"
      },
      "source": [
        "## RF"
      ]
    },
    {
      "cell_type": "code",
      "execution_count": 75,
      "metadata": {
        "id": "Poc3-NqbXX_r"
      },
      "outputs": [],
      "source": [
        "# Define model\n",
        "RF = RandomForestClassifier(n_estimators=442, n_jobs=32, max_depth=3)"
      ]
    },
    {
      "attachments": {},
      "cell_type": "markdown",
      "metadata": {
        "id": "IM7pcdf6xR1c"
      },
      "source": [
        "## MLP"
      ]
    },
    {
      "cell_type": "code",
      "execution_count": 76,
      "metadata": {
        "id": "zYM4RXYuxT1V"
      },
      "outputs": [],
      "source": [
        "# Define model\n",
        "MLP = MLPClassifier(solver='adam', max_iter=40, random_state=1)"
      ]
    },
    {
      "attachments": {},
      "cell_type": "markdown",
      "metadata": {
        "id": "xpDhcP8axUUx"
      },
      "source": [
        "## XGBoost"
      ]
    },
    {
      "cell_type": "code",
      "execution_count": 77,
      "metadata": {
        "id": "Si-4bUk-xWb1"
      },
      "outputs": [],
      "source": [
        "# Model\n",
        "XGB = XGBClassifier(min_child_weight = 5, subsample = 0.8, colsample_bytree = 0.6)"
      ]
    },
    {
      "attachments": {},
      "cell_type": "markdown",
      "metadata": {},
      "source": [
        "# Train model"
      ]
    },
    {
      "cell_type": "code",
      "execution_count": 78,
      "metadata": {},
      "outputs": [
        {
          "data": {
            "text/html": [
              "<style>#sk-container-id-5 {color: black;background-color: white;}#sk-container-id-5 pre{padding: 0;}#sk-container-id-5 div.sk-toggleable {background-color: white;}#sk-container-id-5 label.sk-toggleable__label {cursor: pointer;display: block;width: 100%;margin-bottom: 0;padding: 0.3em;box-sizing: border-box;text-align: center;}#sk-container-id-5 label.sk-toggleable__label-arrow:before {content: \"▸\";float: left;margin-right: 0.25em;color: #696969;}#sk-container-id-5 label.sk-toggleable__label-arrow:hover:before {color: black;}#sk-container-id-5 div.sk-estimator:hover label.sk-toggleable__label-arrow:before {color: black;}#sk-container-id-5 div.sk-toggleable__content {max-height: 0;max-width: 0;overflow: hidden;text-align: left;background-color: #f0f8ff;}#sk-container-id-5 div.sk-toggleable__content pre {margin: 0.2em;color: black;border-radius: 0.25em;background-color: #f0f8ff;}#sk-container-id-5 input.sk-toggleable__control:checked~div.sk-toggleable__content {max-height: 200px;max-width: 100%;overflow: auto;}#sk-container-id-5 input.sk-toggleable__control:checked~label.sk-toggleable__label-arrow:before {content: \"▾\";}#sk-container-id-5 div.sk-estimator input.sk-toggleable__control:checked~label.sk-toggleable__label {background-color: #d4ebff;}#sk-container-id-5 div.sk-label input.sk-toggleable__control:checked~label.sk-toggleable__label {background-color: #d4ebff;}#sk-container-id-5 input.sk-hidden--visually {border: 0;clip: rect(1px 1px 1px 1px);clip: rect(1px, 1px, 1px, 1px);height: 1px;margin: -1px;overflow: hidden;padding: 0;position: absolute;width: 1px;}#sk-container-id-5 div.sk-estimator {font-family: monospace;background-color: #f0f8ff;border: 1px dotted black;border-radius: 0.25em;box-sizing: border-box;margin-bottom: 0.5em;}#sk-container-id-5 div.sk-estimator:hover {background-color: #d4ebff;}#sk-container-id-5 div.sk-parallel-item::after {content: \"\";width: 100%;border-bottom: 1px solid gray;flex-grow: 1;}#sk-container-id-5 div.sk-label:hover label.sk-toggleable__label {background-color: #d4ebff;}#sk-container-id-5 div.sk-serial::before {content: \"\";position: absolute;border-left: 1px solid gray;box-sizing: border-box;top: 0;bottom: 0;left: 50%;z-index: 0;}#sk-container-id-5 div.sk-serial {display: flex;flex-direction: column;align-items: center;background-color: white;padding-right: 0.2em;padding-left: 0.2em;position: relative;}#sk-container-id-5 div.sk-item {position: relative;z-index: 1;}#sk-container-id-5 div.sk-parallel {display: flex;align-items: stretch;justify-content: center;background-color: white;position: relative;}#sk-container-id-5 div.sk-item::before, #sk-container-id-5 div.sk-parallel-item::before {content: \"\";position: absolute;border-left: 1px solid gray;box-sizing: border-box;top: 0;bottom: 0;left: 50%;z-index: -1;}#sk-container-id-5 div.sk-parallel-item {display: flex;flex-direction: column;z-index: 1;position: relative;background-color: white;}#sk-container-id-5 div.sk-parallel-item:first-child::after {align-self: flex-end;width: 50%;}#sk-container-id-5 div.sk-parallel-item:last-child::after {align-self: flex-start;width: 50%;}#sk-container-id-5 div.sk-parallel-item:only-child::after {width: 0;}#sk-container-id-5 div.sk-dashed-wrapped {border: 1px dashed gray;margin: 0 0.4em 0.5em 0.4em;box-sizing: border-box;padding-bottom: 0.4em;background-color: white;}#sk-container-id-5 div.sk-label label {font-family: monospace;font-weight: bold;display: inline-block;line-height: 1.2em;}#sk-container-id-5 div.sk-label-container {text-align: center;}#sk-container-id-5 div.sk-container {/* jupyter's `normalize.less` sets `[hidden] { display: none; }` but bootstrap.min.css set `[hidden] { display: none !important; }` so we also need the `!important` here to be able to override the default hidden behavior on the sphinx rendered scikit-learn.org. See: https://github.com/scikit-learn/scikit-learn/issues/21755 */display: inline-block !important;position: relative;}#sk-container-id-5 div.sk-text-repr-fallback {display: none;}</style><div id=\"sk-container-id-5\" class=\"sk-top-container\"><div class=\"sk-text-repr-fallback\"><pre>SVC(C=100, gamma=0.01)</pre><b>In a Jupyter environment, please rerun this cell to show the HTML representation or trust the notebook. <br />On GitHub, the HTML representation is unable to render, please try loading this page with nbviewer.org.</b></div><div class=\"sk-container\" hidden><div class=\"sk-item\"><div class=\"sk-estimator sk-toggleable\"><input class=\"sk-toggleable__control sk-hidden--visually\" id=\"sk-estimator-id-5\" type=\"checkbox\" checked><label for=\"sk-estimator-id-5\" class=\"sk-toggleable__label sk-toggleable__label-arrow\">SVC</label><div class=\"sk-toggleable__content\"><pre>SVC(C=100, gamma=0.01)</pre></div></div></div></div></div>"
            ],
            "text/plain": [
              "SVC(C=100, gamma=0.01)"
            ]
          },
          "execution_count": 78,
          "metadata": {},
          "output_type": "execute_result"
        }
      ],
      "source": [
        "# SVM\n",
        "SVM.fit(X_train, y_train)"
      ]
    },
    {
      "cell_type": "code",
      "execution_count": 79,
      "metadata": {},
      "outputs": [
        {
          "data": {
            "text/html": [
              "<style>#sk-container-id-6 {color: black;background-color: white;}#sk-container-id-6 pre{padding: 0;}#sk-container-id-6 div.sk-toggleable {background-color: white;}#sk-container-id-6 label.sk-toggleable__label {cursor: pointer;display: block;width: 100%;margin-bottom: 0;padding: 0.3em;box-sizing: border-box;text-align: center;}#sk-container-id-6 label.sk-toggleable__label-arrow:before {content: \"▸\";float: left;margin-right: 0.25em;color: #696969;}#sk-container-id-6 label.sk-toggleable__label-arrow:hover:before {color: black;}#sk-container-id-6 div.sk-estimator:hover label.sk-toggleable__label-arrow:before {color: black;}#sk-container-id-6 div.sk-toggleable__content {max-height: 0;max-width: 0;overflow: hidden;text-align: left;background-color: #f0f8ff;}#sk-container-id-6 div.sk-toggleable__content pre {margin: 0.2em;color: black;border-radius: 0.25em;background-color: #f0f8ff;}#sk-container-id-6 input.sk-toggleable__control:checked~div.sk-toggleable__content {max-height: 200px;max-width: 100%;overflow: auto;}#sk-container-id-6 input.sk-toggleable__control:checked~label.sk-toggleable__label-arrow:before {content: \"▾\";}#sk-container-id-6 div.sk-estimator input.sk-toggleable__control:checked~label.sk-toggleable__label {background-color: #d4ebff;}#sk-container-id-6 div.sk-label input.sk-toggleable__control:checked~label.sk-toggleable__label {background-color: #d4ebff;}#sk-container-id-6 input.sk-hidden--visually {border: 0;clip: rect(1px 1px 1px 1px);clip: rect(1px, 1px, 1px, 1px);height: 1px;margin: -1px;overflow: hidden;padding: 0;position: absolute;width: 1px;}#sk-container-id-6 div.sk-estimator {font-family: monospace;background-color: #f0f8ff;border: 1px dotted black;border-radius: 0.25em;box-sizing: border-box;margin-bottom: 0.5em;}#sk-container-id-6 div.sk-estimator:hover {background-color: #d4ebff;}#sk-container-id-6 div.sk-parallel-item::after {content: \"\";width: 100%;border-bottom: 1px solid gray;flex-grow: 1;}#sk-container-id-6 div.sk-label:hover label.sk-toggleable__label {background-color: #d4ebff;}#sk-container-id-6 div.sk-serial::before {content: \"\";position: absolute;border-left: 1px solid gray;box-sizing: border-box;top: 0;bottom: 0;left: 50%;z-index: 0;}#sk-container-id-6 div.sk-serial {display: flex;flex-direction: column;align-items: center;background-color: white;padding-right: 0.2em;padding-left: 0.2em;position: relative;}#sk-container-id-6 div.sk-item {position: relative;z-index: 1;}#sk-container-id-6 div.sk-parallel {display: flex;align-items: stretch;justify-content: center;background-color: white;position: relative;}#sk-container-id-6 div.sk-item::before, #sk-container-id-6 div.sk-parallel-item::before {content: \"\";position: absolute;border-left: 1px solid gray;box-sizing: border-box;top: 0;bottom: 0;left: 50%;z-index: -1;}#sk-container-id-6 div.sk-parallel-item {display: flex;flex-direction: column;z-index: 1;position: relative;background-color: white;}#sk-container-id-6 div.sk-parallel-item:first-child::after {align-self: flex-end;width: 50%;}#sk-container-id-6 div.sk-parallel-item:last-child::after {align-self: flex-start;width: 50%;}#sk-container-id-6 div.sk-parallel-item:only-child::after {width: 0;}#sk-container-id-6 div.sk-dashed-wrapped {border: 1px dashed gray;margin: 0 0.4em 0.5em 0.4em;box-sizing: border-box;padding-bottom: 0.4em;background-color: white;}#sk-container-id-6 div.sk-label label {font-family: monospace;font-weight: bold;display: inline-block;line-height: 1.2em;}#sk-container-id-6 div.sk-label-container {text-align: center;}#sk-container-id-6 div.sk-container {/* jupyter's `normalize.less` sets `[hidden] { display: none; }` but bootstrap.min.css set `[hidden] { display: none !important; }` so we also need the `!important` here to be able to override the default hidden behavior on the sphinx rendered scikit-learn.org. See: https://github.com/scikit-learn/scikit-learn/issues/21755 */display: inline-block !important;position: relative;}#sk-container-id-6 div.sk-text-repr-fallback {display: none;}</style><div id=\"sk-container-id-6\" class=\"sk-top-container\"><div class=\"sk-text-repr-fallback\"><pre>RandomForestClassifier(max_depth=3, n_estimators=442, n_jobs=32)</pre><b>In a Jupyter environment, please rerun this cell to show the HTML representation or trust the notebook. <br />On GitHub, the HTML representation is unable to render, please try loading this page with nbviewer.org.</b></div><div class=\"sk-container\" hidden><div class=\"sk-item\"><div class=\"sk-estimator sk-toggleable\"><input class=\"sk-toggleable__control sk-hidden--visually\" id=\"sk-estimator-id-6\" type=\"checkbox\" checked><label for=\"sk-estimator-id-6\" class=\"sk-toggleable__label sk-toggleable__label-arrow\">RandomForestClassifier</label><div class=\"sk-toggleable__content\"><pre>RandomForestClassifier(max_depth=3, n_estimators=442, n_jobs=32)</pre></div></div></div></div></div>"
            ],
            "text/plain": [
              "RandomForestClassifier(max_depth=3, n_estimators=442, n_jobs=32)"
            ]
          },
          "execution_count": 79,
          "metadata": {},
          "output_type": "execute_result"
        }
      ],
      "source": [
        "# RF\n",
        "RF.fit(X_train, y_train)"
      ]
    },
    {
      "cell_type": "code",
      "execution_count": 80,
      "metadata": {},
      "outputs": [
        {
          "name": "stderr",
          "output_type": "stream",
          "text": [
            "/home/kali/.local/lib/python3.11/site-packages/sklearn/neural_network/_multilayer_perceptron.py:686: ConvergenceWarning: Stochastic Optimizer: Maximum iterations (40) reached and the optimization hasn't converged yet.\n",
            "  warnings.warn(\n"
          ]
        },
        {
          "data": {
            "text/html": [
              "<style>#sk-container-id-7 {color: black;background-color: white;}#sk-container-id-7 pre{padding: 0;}#sk-container-id-7 div.sk-toggleable {background-color: white;}#sk-container-id-7 label.sk-toggleable__label {cursor: pointer;display: block;width: 100%;margin-bottom: 0;padding: 0.3em;box-sizing: border-box;text-align: center;}#sk-container-id-7 label.sk-toggleable__label-arrow:before {content: \"▸\";float: left;margin-right: 0.25em;color: #696969;}#sk-container-id-7 label.sk-toggleable__label-arrow:hover:before {color: black;}#sk-container-id-7 div.sk-estimator:hover label.sk-toggleable__label-arrow:before {color: black;}#sk-container-id-7 div.sk-toggleable__content {max-height: 0;max-width: 0;overflow: hidden;text-align: left;background-color: #f0f8ff;}#sk-container-id-7 div.sk-toggleable__content pre {margin: 0.2em;color: black;border-radius: 0.25em;background-color: #f0f8ff;}#sk-container-id-7 input.sk-toggleable__control:checked~div.sk-toggleable__content {max-height: 200px;max-width: 100%;overflow: auto;}#sk-container-id-7 input.sk-toggleable__control:checked~label.sk-toggleable__label-arrow:before {content: \"▾\";}#sk-container-id-7 div.sk-estimator input.sk-toggleable__control:checked~label.sk-toggleable__label {background-color: #d4ebff;}#sk-container-id-7 div.sk-label input.sk-toggleable__control:checked~label.sk-toggleable__label {background-color: #d4ebff;}#sk-container-id-7 input.sk-hidden--visually {border: 0;clip: rect(1px 1px 1px 1px);clip: rect(1px, 1px, 1px, 1px);height: 1px;margin: -1px;overflow: hidden;padding: 0;position: absolute;width: 1px;}#sk-container-id-7 div.sk-estimator {font-family: monospace;background-color: #f0f8ff;border: 1px dotted black;border-radius: 0.25em;box-sizing: border-box;margin-bottom: 0.5em;}#sk-container-id-7 div.sk-estimator:hover {background-color: #d4ebff;}#sk-container-id-7 div.sk-parallel-item::after {content: \"\";width: 100%;border-bottom: 1px solid gray;flex-grow: 1;}#sk-container-id-7 div.sk-label:hover label.sk-toggleable__label {background-color: #d4ebff;}#sk-container-id-7 div.sk-serial::before {content: \"\";position: absolute;border-left: 1px solid gray;box-sizing: border-box;top: 0;bottom: 0;left: 50%;z-index: 0;}#sk-container-id-7 div.sk-serial {display: flex;flex-direction: column;align-items: center;background-color: white;padding-right: 0.2em;padding-left: 0.2em;position: relative;}#sk-container-id-7 div.sk-item {position: relative;z-index: 1;}#sk-container-id-7 div.sk-parallel {display: flex;align-items: stretch;justify-content: center;background-color: white;position: relative;}#sk-container-id-7 div.sk-item::before, #sk-container-id-7 div.sk-parallel-item::before {content: \"\";position: absolute;border-left: 1px solid gray;box-sizing: border-box;top: 0;bottom: 0;left: 50%;z-index: -1;}#sk-container-id-7 div.sk-parallel-item {display: flex;flex-direction: column;z-index: 1;position: relative;background-color: white;}#sk-container-id-7 div.sk-parallel-item:first-child::after {align-self: flex-end;width: 50%;}#sk-container-id-7 div.sk-parallel-item:last-child::after {align-self: flex-start;width: 50%;}#sk-container-id-7 div.sk-parallel-item:only-child::after {width: 0;}#sk-container-id-7 div.sk-dashed-wrapped {border: 1px dashed gray;margin: 0 0.4em 0.5em 0.4em;box-sizing: border-box;padding-bottom: 0.4em;background-color: white;}#sk-container-id-7 div.sk-label label {font-family: monospace;font-weight: bold;display: inline-block;line-height: 1.2em;}#sk-container-id-7 div.sk-label-container {text-align: center;}#sk-container-id-7 div.sk-container {/* jupyter's `normalize.less` sets `[hidden] { display: none; }` but bootstrap.min.css set `[hidden] { display: none !important; }` so we also need the `!important` here to be able to override the default hidden behavior on the sphinx rendered scikit-learn.org. See: https://github.com/scikit-learn/scikit-learn/issues/21755 */display: inline-block !important;position: relative;}#sk-container-id-7 div.sk-text-repr-fallback {display: none;}</style><div id=\"sk-container-id-7\" class=\"sk-top-container\"><div class=\"sk-text-repr-fallback\"><pre>MLPClassifier(max_iter=40, random_state=1)</pre><b>In a Jupyter environment, please rerun this cell to show the HTML representation or trust the notebook. <br />On GitHub, the HTML representation is unable to render, please try loading this page with nbviewer.org.</b></div><div class=\"sk-container\" hidden><div class=\"sk-item\"><div class=\"sk-estimator sk-toggleable\"><input class=\"sk-toggleable__control sk-hidden--visually\" id=\"sk-estimator-id-7\" type=\"checkbox\" checked><label for=\"sk-estimator-id-7\" class=\"sk-toggleable__label sk-toggleable__label-arrow\">MLPClassifier</label><div class=\"sk-toggleable__content\"><pre>MLPClassifier(max_iter=40, random_state=1)</pre></div></div></div></div></div>"
            ],
            "text/plain": [
              "MLPClassifier(max_iter=40, random_state=1)"
            ]
          },
          "execution_count": 80,
          "metadata": {},
          "output_type": "execute_result"
        }
      ],
      "source": [
        "# MLP\n",
        "MLP.fit(X_train, y_train)"
      ]
    },
    {
      "cell_type": "code",
      "execution_count": 81,
      "metadata": {},
      "outputs": [
        {
          "data": {
            "text/html": [
              "<style>#sk-container-id-8 {color: black;background-color: white;}#sk-container-id-8 pre{padding: 0;}#sk-container-id-8 div.sk-toggleable {background-color: white;}#sk-container-id-8 label.sk-toggleable__label {cursor: pointer;display: block;width: 100%;margin-bottom: 0;padding: 0.3em;box-sizing: border-box;text-align: center;}#sk-container-id-8 label.sk-toggleable__label-arrow:before {content: \"▸\";float: left;margin-right: 0.25em;color: #696969;}#sk-container-id-8 label.sk-toggleable__label-arrow:hover:before {color: black;}#sk-container-id-8 div.sk-estimator:hover label.sk-toggleable__label-arrow:before {color: black;}#sk-container-id-8 div.sk-toggleable__content {max-height: 0;max-width: 0;overflow: hidden;text-align: left;background-color: #f0f8ff;}#sk-container-id-8 div.sk-toggleable__content pre {margin: 0.2em;color: black;border-radius: 0.25em;background-color: #f0f8ff;}#sk-container-id-8 input.sk-toggleable__control:checked~div.sk-toggleable__content {max-height: 200px;max-width: 100%;overflow: auto;}#sk-container-id-8 input.sk-toggleable__control:checked~label.sk-toggleable__label-arrow:before {content: \"▾\";}#sk-container-id-8 div.sk-estimator input.sk-toggleable__control:checked~label.sk-toggleable__label {background-color: #d4ebff;}#sk-container-id-8 div.sk-label input.sk-toggleable__control:checked~label.sk-toggleable__label {background-color: #d4ebff;}#sk-container-id-8 input.sk-hidden--visually {border: 0;clip: rect(1px 1px 1px 1px);clip: rect(1px, 1px, 1px, 1px);height: 1px;margin: -1px;overflow: hidden;padding: 0;position: absolute;width: 1px;}#sk-container-id-8 div.sk-estimator {font-family: monospace;background-color: #f0f8ff;border: 1px dotted black;border-radius: 0.25em;box-sizing: border-box;margin-bottom: 0.5em;}#sk-container-id-8 div.sk-estimator:hover {background-color: #d4ebff;}#sk-container-id-8 div.sk-parallel-item::after {content: \"\";width: 100%;border-bottom: 1px solid gray;flex-grow: 1;}#sk-container-id-8 div.sk-label:hover label.sk-toggleable__label {background-color: #d4ebff;}#sk-container-id-8 div.sk-serial::before {content: \"\";position: absolute;border-left: 1px solid gray;box-sizing: border-box;top: 0;bottom: 0;left: 50%;z-index: 0;}#sk-container-id-8 div.sk-serial {display: flex;flex-direction: column;align-items: center;background-color: white;padding-right: 0.2em;padding-left: 0.2em;position: relative;}#sk-container-id-8 div.sk-item {position: relative;z-index: 1;}#sk-container-id-8 div.sk-parallel {display: flex;align-items: stretch;justify-content: center;background-color: white;position: relative;}#sk-container-id-8 div.sk-item::before, #sk-container-id-8 div.sk-parallel-item::before {content: \"\";position: absolute;border-left: 1px solid gray;box-sizing: border-box;top: 0;bottom: 0;left: 50%;z-index: -1;}#sk-container-id-8 div.sk-parallel-item {display: flex;flex-direction: column;z-index: 1;position: relative;background-color: white;}#sk-container-id-8 div.sk-parallel-item:first-child::after {align-self: flex-end;width: 50%;}#sk-container-id-8 div.sk-parallel-item:last-child::after {align-self: flex-start;width: 50%;}#sk-container-id-8 div.sk-parallel-item:only-child::after {width: 0;}#sk-container-id-8 div.sk-dashed-wrapped {border: 1px dashed gray;margin: 0 0.4em 0.5em 0.4em;box-sizing: border-box;padding-bottom: 0.4em;background-color: white;}#sk-container-id-8 div.sk-label label {font-family: monospace;font-weight: bold;display: inline-block;line-height: 1.2em;}#sk-container-id-8 div.sk-label-container {text-align: center;}#sk-container-id-8 div.sk-container {/* jupyter's `normalize.less` sets `[hidden] { display: none; }` but bootstrap.min.css set `[hidden] { display: none !important; }` so we also need the `!important` here to be able to override the default hidden behavior on the sphinx rendered scikit-learn.org. See: https://github.com/scikit-learn/scikit-learn/issues/21755 */display: inline-block !important;position: relative;}#sk-container-id-8 div.sk-text-repr-fallback {display: none;}</style><div id=\"sk-container-id-8\" class=\"sk-top-container\"><div class=\"sk-text-repr-fallback\"><pre>XGBClassifier(base_score=None, booster=None, callbacks=None,\n",
              "              colsample_bylevel=None, colsample_bynode=None,\n",
              "              colsample_bytree=0.6, early_stopping_rounds=None,\n",
              "              enable_categorical=False, eval_metric=None, feature_types=None,\n",
              "              gamma=None, gpu_id=None, grow_policy=None, importance_type=None,\n",
              "              interaction_constraints=None, learning_rate=None, max_bin=None,\n",
              "              max_cat_threshold=None, max_cat_to_onehot=None,\n",
              "              max_delta_step=None, max_depth=None, max_leaves=None,\n",
              "              min_child_weight=5, missing=nan, monotone_constraints=None,\n",
              "              n_estimators=100, n_jobs=None, num_parallel_tree=None,\n",
              "              predictor=None, random_state=None, ...)</pre><b>In a Jupyter environment, please rerun this cell to show the HTML representation or trust the notebook. <br />On GitHub, the HTML representation is unable to render, please try loading this page with nbviewer.org.</b></div><div class=\"sk-container\" hidden><div class=\"sk-item\"><div class=\"sk-estimator sk-toggleable\"><input class=\"sk-toggleable__control sk-hidden--visually\" id=\"sk-estimator-id-8\" type=\"checkbox\" checked><label for=\"sk-estimator-id-8\" class=\"sk-toggleable__label sk-toggleable__label-arrow\">XGBClassifier</label><div class=\"sk-toggleable__content\"><pre>XGBClassifier(base_score=None, booster=None, callbacks=None,\n",
              "              colsample_bylevel=None, colsample_bynode=None,\n",
              "              colsample_bytree=0.6, early_stopping_rounds=None,\n",
              "              enable_categorical=False, eval_metric=None, feature_types=None,\n",
              "              gamma=None, gpu_id=None, grow_policy=None, importance_type=None,\n",
              "              interaction_constraints=None, learning_rate=None, max_bin=None,\n",
              "              max_cat_threshold=None, max_cat_to_onehot=None,\n",
              "              max_delta_step=None, max_depth=None, max_leaves=None,\n",
              "              min_child_weight=5, missing=nan, monotone_constraints=None,\n",
              "              n_estimators=100, n_jobs=None, num_parallel_tree=None,\n",
              "              predictor=None, random_state=None, ...)</pre></div></div></div></div></div>"
            ],
            "text/plain": [
              "XGBClassifier(base_score=None, booster=None, callbacks=None,\n",
              "              colsample_bylevel=None, colsample_bynode=None,\n",
              "              colsample_bytree=0.6, early_stopping_rounds=None,\n",
              "              enable_categorical=False, eval_metric=None, feature_types=None,\n",
              "              gamma=None, gpu_id=None, grow_policy=None, importance_type=None,\n",
              "              interaction_constraints=None, learning_rate=None, max_bin=None,\n",
              "              max_cat_threshold=None, max_cat_to_onehot=None,\n",
              "              max_delta_step=None, max_depth=None, max_leaves=None,\n",
              "              min_child_weight=5, missing=nan, monotone_constraints=None,\n",
              "              n_estimators=100, n_jobs=None, num_parallel_tree=None,\n",
              "              predictor=None, random_state=None, ...)"
            ]
          },
          "execution_count": 81,
          "metadata": {},
          "output_type": "execute_result"
        }
      ],
      "source": [
        "# XGBoost\n",
        "XGB.fit(X_train, y_train)"
      ]
    },
    {
      "attachments": {},
      "cell_type": "markdown",
      "metadata": {},
      "source": [
        "# Test model"
      ]
    },
    {
      "cell_type": "code",
      "execution_count": 82,
      "metadata": {},
      "outputs": [],
      "source": [
        "# SVM\n",
        "predict_svm = SVM.predict(X_test)"
      ]
    },
    {
      "cell_type": "code",
      "execution_count": 83,
      "metadata": {},
      "outputs": [],
      "source": [
        "# RF\n",
        "predict_rf = RF.predict(X_test)"
      ]
    },
    {
      "cell_type": "code",
      "execution_count": 84,
      "metadata": {},
      "outputs": [],
      "source": [
        "# MLP\n",
        "predict_mlp = MLP.predict(X_test)"
      ]
    },
    {
      "cell_type": "code",
      "execution_count": 85,
      "metadata": {},
      "outputs": [],
      "source": [
        "# XGB\n",
        "predict_xgb = XGB.predict(X_test)"
      ]
    },
    {
      "attachments": {},
      "cell_type": "markdown",
      "metadata": {},
      "source": [
        "# Predict and evaluate"
      ]
    },
    {
      "cell_type": "code",
      "execution_count": 86,
      "metadata": {},
      "outputs": [
        {
          "name": "stdout",
          "output_type": "stream",
          "text": [
            "Misclassified samples: 4220\n",
            "Classification Report:\n",
            "              precision    recall  f1-score   support\n",
            "\n",
            "           0       0.46      0.28      0.35      4000\n",
            "           1       0.48      0.66      0.56      4000\n",
            "\n",
            "    accuracy                           0.47      8000\n",
            "   macro avg       0.47      0.47      0.45      8000\n",
            "weighted avg       0.47      0.47      0.45      8000\n",
            "\n",
            "Accuracy: 47.25\n",
            "Precision: 0.468\n",
            "Recall: 0.4725\n",
            "F1: 0.45327935222672067\n"
          ]
        },
        {
          "data": {
            "image/png": "[encoded data removed]",
            "text/plain": [
              "<Figure size 640x480 with 2 Axes>"
            ]
          },
          "metadata": {},
          "output_type": "display_data"
        }
      ],
      "source": [
        "# SVM\n",
        "evaluation(y_test, predict_svm)"
      ]
    },
    {
      "cell_type": "code",
      "execution_count": 94,
      "metadata": {},
      "outputs": [
        {
          "name": "stdout",
          "output_type": "stream",
          "text": [
            "Misclassified samples: 2692\n",
            "Classification Report:\n",
            "              precision    recall  f1-score   support\n",
            "\n",
            "           0       0.63      0.81      0.71      4000\n",
            "           1       0.73      0.52      0.60      4000\n",
            "\n",
            "    accuracy                           0.66      8000\n",
            "   macro avg       0.68      0.66      0.66      8000\n",
            "weighted avg       0.68      0.66      0.66      8000\n",
            "\n",
            "Accuracy: 66.35\n",
            "Precision: 0.6793174093624526\n",
            "Recall: 0.6635\n",
            "F1: 0.6559120873277738\n"
          ]
        },
        {
          "data": {
            "image/png": "[encoded data removed]",
            "text/plain": [
              "<Figure size 640x480 with 2 Axes>"
            ]
          },
          "metadata": {},
          "output_type": "display_data"
        }
      ],
      "source": [
        "# RF\n",
        "evaluation(y_test, predict_rf)"
      ]
    },
    {
      "cell_type": "code",
      "execution_count": 95,
      "metadata": {},
      "outputs": [
        {
          "name": "stdout",
          "output_type": "stream",
          "text": [
            "Misclassified samples: 3580\n",
            "Classification Report:\n",
            "              precision    recall  f1-score   support\n",
            "\n",
            "           0       0.56      0.48      0.52      4000\n",
            "           1       0.55      0.63      0.58      4000\n",
            "\n",
            "    accuracy                           0.55      8000\n",
            "   macro avg       0.55      0.55      0.55      8000\n",
            "weighted avg       0.55      0.55      0.55      8000\n",
            "\n",
            "Accuracy: 55.25\n",
            "Precision: 0.5537249833452552\n",
            "Recall: 0.5525\n",
            "F1: 0.549934514214652\n"
          ]
        },
        {
          "data": {
            "image/png": "[encoded data removed]",
            "text/plain": [
              "<Figure size 640x480 with 2 Axes>"
            ]
          },
          "metadata": {},
          "output_type": "display_data"
        }
      ],
      "source": [
        "# MLP\n",
        "evaluation(y_test, predict_mlp)"
      ]
    },
    {
      "cell_type": "code",
      "execution_count": 96,
      "metadata": {},
      "outputs": [
        {
          "name": "stdout",
          "output_type": "stream",
          "text": [
            "Misclassified samples: 3827\n",
            "Classification Report:\n",
            "              precision    recall  f1-score   support\n",
            "\n",
            "           0       0.51      0.99      0.68      4000\n",
            "           1       0.90      0.05      0.09      4000\n",
            "\n",
            "    accuracy                           0.52      8000\n",
            "   macro avg       0.70      0.52      0.38      8000\n",
            "weighted avg       0.70      0.52      0.38      8000\n",
            "\n",
            "Accuracy: 52.1625\n",
            "Precision: 0.7048657389288128\n",
            "Recall: 0.521625\n",
            "F1: 0.3838464280289821\n"
          ]
        },
        {
          "data": {
            "image/png": "[encoded data removed]",
            "text/plain": [
              "<Figure size 640x480 with 2 Axes>"
            ]
          },
          "metadata": {},
          "output_type": "display_data"
        }
      ],
      "source": [
        "# XGBoost\n",
        "evaluation(y_test, predict_xgb)"
      ]
    }
  ],
  "metadata": {
    "colab": {
      "provenance": []
    },
    "kernelspec": {
      "display_name": "Python 3",
      "name": "python3"
    },
    "language_info": {
      "codemirror_mode": {
        "name": "ipython",
        "version": 3
      },
      "file_extension": ".py",
      "mimetype": "text/x-python",
      "name": "python",
      "nbconvert_exporter": "python",
      "pygments_lexer": "ipython3",
      "version": "3.11.2"
    }
  },
  "nbformat": 4,
  "nbformat_minor": 0
}
